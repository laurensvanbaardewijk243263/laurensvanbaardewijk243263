{
 "cells": [
  {
   "attachments": {},
   "cell_type": "markdown",
   "metadata": {},
   "source": [
    "# 11. Algorithms"
   ]
  },
  {
   "attachments": {},
   "cell_type": "markdown",
   "metadata": {},
   "source": [
    "Implement linear search and binary search, as explained in the online course.\n",
    "\n",
    "Let's first create an ordered list\n",
    "\n",
    "```numbers = [1, 2, 3, 4, ..., 100]```"
   ]
  },
  {
   "cell_type": "code",
   "execution_count": 1,
   "metadata": {},
   "outputs": [],
   "source": [
    "numbers = []\n",
    "for i in range(1, 101):\n",
    "    numbers.append(i)"
   ]
  },
  {
   "attachments": {},
   "cell_type": "markdown",
   "metadata": {},
   "source": [
    "**Exercise 11.1**\n",
    "\n",
    "Write a function called `linear_search` that implements the linear search algorithm.\n",
    "\n",
    "The function takes two parameters:\n",
    "\n",
    "1. `numbers`: a list of unique integers, sorted from smallest to largest.\n",
    "2. `target`: an integer that is being searched in the list `numbers`\n",
    "\n",
    "If `target` is in `numbers`, the function should return the index of the `target`, otherwise `None`.\n",
    "\n",
    "Do not use Python's built-in `index` method.\n",
    "\n",
    "Example input/output pairs:\n",
    "\n",
    "- linear_search(numbers, 30) -> 29\n",
    "- linear_search(numbers, 300) -> `None`"
   ]
  },
  {
   "cell_type": "code",
   "execution_count": 3,
   "metadata": {},
   "outputs": [
    {
     "name": "stdout",
     "output_type": "stream",
     "text": [
      "29 None\n"
     ]
    }
   ],
   "source": [
    "def linear_search(numbers: list, target: int):\n",
    "    targetIndex = None\n",
    "\n",
    "    for index, number in enumerate(numbers):\n",
    "        if number == target:\n",
    "            targetIndex = index\n",
    "\n",
    "    return targetIndex\n",
    "\n",
    "print(linear_search(numbers, 30), linear_search(numbers, 300))"
   ]
  },
  {
   "attachments": {},
   "cell_type": "markdown",
   "metadata": {},
   "source": [
    "**Exercise 11.2**\n",
    "\n",
    "Write a function called `binary_search` that implements the binary search algorithm.\n",
    "\n",
    "The function takes two parameters:\n",
    "\n",
    "1. `numbers`: a list of unique integers, sorted from smallest to largest.\n",
    "2. `target`: an integer that is being searched in the list `numbers`\n",
    "\n",
    "If `target` is in `numbers`, the function should return the index of the `target`, otherwise `None`.\n",
    "\n",
    "Do not use Python's built-in `index` method.\n",
    "\n",
    "Example input/output pairs:\n",
    "\n",
    "- linear_search(numbers, 30) -> 29\n",
    "- linear_search(numbers, 300) -> `None`\n",
    "\n",
    "Note that these two algorithms are solving the same search problem, therefore their requirements are the same. But binary search is faster."
   ]
  },
  {
   "cell_type": "code",
   "execution_count": 4,
   "metadata": {},
   "outputs": [
    {
     "name": "stdout",
     "output_type": "stream",
     "text": [
      "29 None\n"
     ]
    }
   ],
   "source": [
    "def binary_search(numbers: list, target: int):\n",
    "    left, right = 0, len(numbers) - 1\n",
    "\n",
    "    while left <= right:\n",
    "        mid = (left + right) // 2\n",
    "\n",
    "        if numbers[mid] == target:\n",
    "            return mid\n",
    "        elif numbers[mid] < target:\n",
    "            left = mid + 1\n",
    "        else:\n",
    "            right = mid - 1\n",
    "    \n",
    "    return None\n",
    "\n",
    "print(binary_search(numbers, 30), binary_search(numbers, 300))"
   ]
  }
 ],
 "metadata": {
  "kernelspec": {
   "display_name": "Python 3",
   "language": "python",
   "name": "python3"
  },
  "language_info": {
   "codemirror_mode": {
    "name": "ipython",
    "version": 3
   },
   "file_extension": ".py",
   "mimetype": "text/x-python",
   "name": "python",
   "nbconvert_exporter": "python",
   "pygments_lexer": "ipython3",
   "version": "3.12.1"
  },
  "orig_nbformat": 4
 },
 "nbformat": 4,
 "nbformat_minor": 2
}
