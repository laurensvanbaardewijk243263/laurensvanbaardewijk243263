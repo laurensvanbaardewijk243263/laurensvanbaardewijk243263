{
 "cells": [
  {
   "attachments": {},
   "cell_type": "markdown",
   "metadata": {},
   "source": [
    "# 10. Data analysis"
   ]
  },
  {
   "attachments": {},
   "cell_type": "markdown",
   "metadata": {},
   "source": [
    "It is time to combine everything we have learned so far, to do a data analysis - an essential task for data science.\n",
    "\n",
    "Here is the table of contents for this notebook:\n",
    "\n",
    "- 10.1 Describing the dataset\n",
    "- 10.2 Calculating the mean of the value column\n",
    "- 10.3 Improving the implementation\n",
    "- 10.4 Exercises"
   ]
  },
  {
   "attachments": {},
   "cell_type": "markdown",
   "metadata": {},
   "source": [
    "## 10.1 Describing the dataset"
   ]
  },
  {
   "attachments": {},
   "cell_type": "markdown",
   "metadata": {},
   "source": [
    "Let's `open` and `print` the all the lines of `data.csv`:"
   ]
  },
  {
   "cell_type": "code",
   "execution_count": null,
   "metadata": {},
   "outputs": [],
   "source": [
    "fhand = open('data.csv')\n",
    "for line in fhand:\n",
    "    print(line)\n",
    "fhand.close()"
   ]
  },
  {
   "attachments": {},
   "cell_type": "markdown",
   "metadata": {},
   "source": [
    "This dataset is part of the Sustainable Development Goals (SDG). There are 4 columns. The first column is `indicator`. This indicator is part of **Goal 7**:\n",
    "\n",
    ">Ensure access to affordable, reliable, sustainable and modern energy for all\n",
    "\n",
    "and **indicator 7.1.2** is the:\n",
    "\n",
    ">Proportion of population with primary reliance on clean fuels and technologies for cooking (%)\n",
    "\n",
    "second column is `geoareaname` which is short for Geographical Area Name. The `timeperiod` shows when the indicator is measured and `value` column is the value of the indicator in percentages. Values higher than 95% are shown as `>95`. Also there are values less than 5% represented by `<5`. For our analysis we will assume >95% to be 95% and <5% to be 5%."
   ]
  },
  {
   "attachments": {},
   "cell_type": "markdown",
   "metadata": {},
   "source": [
    "## 10.2 Calculating the mean of the value column"
   ]
  },
  {
   "attachments": {},
   "cell_type": "markdown",
   "metadata": {},
   "source": [
    "Let's find the mean of the `value` column.\n",
    "\n",
    "But all we have is the whole line, how can we access the value? Let's look at the second line (first line is column names) to figure out how we can extract the value."
   ]
  },
  {
   "cell_type": "code",
   "execution_count": 1,
   "metadata": {},
   "outputs": [
    {
     "name": "stdout",
     "output_type": "stream",
     "text": [
      "ï»¿indicator;geoareaname;timeperiod;value\n",
      "\n",
      "7.1.2;Bhutan;2015;52\n",
      "\n"
     ]
    }
   ],
   "source": [
    "fhand = open('data.csv')\n",
    "count = 0\n",
    "for line in fhand:\n",
    "    print(line)\n",
    "    count = count + 1\n",
    "    if count == 2:\n",
    "        break\n",
    "fhand.close()"
   ]
  },
  {
   "attachments": {},
   "cell_type": "markdown",
   "metadata": {},
   "source": [
    "How can we extract the number 52 from this line?"
   ]
  },
  {
   "cell_type": "code",
   "execution_count": 2,
   "metadata": {},
   "outputs": [
    {
     "data": {
      "text/plain": [
       "'7.1.2;Bhutan;2015;52\\n'"
      ]
     },
     "execution_count": 2,
     "metadata": {},
     "output_type": "execute_result"
    }
   ],
   "source": [
    "line"
   ]
  },
  {
   "attachments": {},
   "cell_type": "markdown",
   "metadata": {},
   "source": [
    "We know that the values are at the end so perhaps we can slice the line.\n",
    "\n",
    "**Exercise 10.1**\n",
    "\n",
    "Slice the line to get `52` from `line`"
   ]
  },
  {
   "cell_type": "code",
   "execution_count": 4,
   "metadata": {},
   "outputs": [
    {
     "name": "stdout",
     "output_type": "stream",
     "text": [
      "7.1.2\n",
      "Bhutan\n",
      "2015\n",
      "52\n",
      "\n"
     ]
    }
   ],
   "source": [
    "for datapoint in line.split(';'):\n",
    "    print(datapoint)"
   ]
  },
  {
   "attachments": {},
   "cell_type": "markdown",
   "metadata": {},
   "source": [
    "Hopefully you managed to do it. But we want an approach that works for _all_ lines. So let's _test_ it for all lines:"
   ]
  },
  {
   "cell_type": "code",
   "execution_count": 5,
   "metadata": {},
   "outputs": [
    {
     "name": "stdout",
     "output_type": "stream",
     "text": [
      "ue\n",
      "52\n",
      "95\n",
      "95\n",
      "95\n",
      "95\n",
      "95\n",
      "54\n",
      ";7\n",
      "95\n",
      "79\n",
      "25\n",
      "17\n",
      "92\n",
      "<5\n",
      "14\n",
      "95\n",
      "<5\n",
      "41\n",
      "94\n",
      "95\n",
      "95\n",
      ";9\n",
      "79\n",
      "74\n",
      "95\n",
      "51\n",
      "90\n",
      "85\n",
      "89\n",
      "95\n",
      "91\n",
      "95\n",
      "<5\n",
      "65\n",
      "<5\n",
      "95\n",
      "95\n",
      "35\n",
      "95\n",
      "<5\n",
      "95\n",
      "36\n",
      "95\n",
      "95\n",
      "59\n",
      "<5\n",
      "95\n",
      "94\n",
      ";7\n",
      "14\n",
      "12\n",
      "95\n",
      "95\n",
      "95\n",
      "58\n",
      "68\n",
      "44\n",
      "95\n",
      "95\n",
      "87\n",
      "<5\n",
      "24\n",
      "91\n",
      "46\n",
      "50\n",
      "79\n",
      "95\n",
      "<5\n",
      "12\n",
      "95\n",
      "<5\n",
      "95\n",
      "90\n",
      "<5\n",
      "57\n",
      "13\n",
      "86\n",
      "81\n",
      "95\n",
      "95\n",
      "63\n",
      "92\n",
      "65\n",
      "53\n",
      "90\n",
      "95\n",
      "95\n",
      "40\n",
      "66\n",
      ";4\n"
     ]
    }
   ],
   "source": [
    "fhand = open('data.csv')\n",
    "for line in fhand:\n",
    "    print(line[-3:-1]) # Exercise 10.1\n",
    "fhand.close()"
   ]
  },
  {
   "attachments": {},
   "cell_type": "markdown",
   "metadata": {},
   "source": [
    "It seems like we have a problem 😱 Our genious approach that worked for a single case, did not generalize to all cases 😢\n",
    "\n",
    "It worked for most cases, but that is not enough. Let's see the cases where it fails:\n",
    "\n",
    "- Case 1: First line is column names, so it does not contain a value\n",
    "- Case 2: Single digit numbers (`;7`, `<5`)\n",
    "\n",
    "When we designed our algorithm, our example line had a 2-digit number. But as we have just seen that is not always the case. You will encounter this concept over and over again: when you are programming, you have to consider possible cases as much as you can.\n",
    "\n",
    "Considering all cases when writing a program in Python is essential for producing reliable, efficient, and bug-free software. By covering a wide range of scenarios, including normal, boundary, and _edge cases_, developers can enhance the program's functionality, handle unexpected situations gracefully, and provide a better user experience. Thorough testing and validation with various input values help identify and resolve potential issues, ensuring that the program performs as expected in any given situation.\n",
    "\n",
    "It is hard to foresee all the cases, therefore _testing_ your code is key. In fact, that is how we discovered the error in our code above.\n",
    "\n",
    "- We developed an approach for a single case\n",
    "- Tested it in all lines\n",
    "- Detected failure in some cases."
   ]
  },
  {
   "cell_type": "markdown",
   "metadata": {},
   "source": [
    "### 🐍 Advanced 🐍\n",
    "\n",
    "This is called _unit testing_. It is a _unit_, because we tested a small piece (extracting a value from a line) of the source code. You can test your code in many different levels from testing units to testing systems. We are not going to cover unit testing in this block. If you would like to learn more, take a look at the following tutorial:\n",
    "\n",
    "[Python Tutorial: Unit Testing Your Code with the unittest Module](https://www.youtube.com/watch?v=6tNS--WetLI)"
   ]
  },
  {
   "cell_type": "markdown",
   "metadata": {},
   "source": [
    "Now, let's continue and come up with an approach that would work for all cases.\n",
    "\n",
    "We can handle the first case by skipping the first line, as follows:"
   ]
  },
  {
   "cell_type": "code",
   "execution_count": null,
   "metadata": {},
   "outputs": [],
   "source": [
    "fhand = open('data.csv')\n",
    "count = 0\n",
    "for line in fhand:\n",
    "    # Skip the first line\n",
    "    if count == 0:\n",
    "        count += 1\n",
    "        continue\n",
    "\n",
    "    print(line[-3:-1])\n",
    "    count = count + 1\n",
    "\n",
    "fhand.close()"
   ]
  },
  {
   "attachments": {},
   "cell_type": "markdown",
   "metadata": {},
   "source": [
    "For the second case, we can check if the string can be converted to an integer or not and catch these cases with `try`/`except`"
   ]
  },
  {
   "cell_type": "code",
   "execution_count": null,
   "metadata": {},
   "outputs": [],
   "source": [
    "int(';7')"
   ]
  },
  {
   "cell_type": "code",
   "execution_count": null,
   "metadata": {},
   "outputs": [],
   "source": [
    "try:\n",
    "    int(';7')\n",
    "    print('Double digit')\n",
    "except:\n",
    "    print('Single digit')"
   ]
  },
  {
   "attachments": {},
   "cell_type": "markdown",
   "metadata": {},
   "source": [
    "Let's add this logic into our program."
   ]
  },
  {
   "cell_type": "code",
   "execution_count": null,
   "metadata": {},
   "outputs": [],
   "source": [
    "fhand = open('data.csv')\n",
    "count = 0\n",
    "for line in fhand:\n",
    "    # Skip the first line\n",
    "    if count == 0:\n",
    "        count += 1\n",
    "        continue\n",
    "    \n",
    "    # Slice the number\n",
    "    number = line[-3:-1]\n",
    "    \n",
    "    try:\n",
    "        # For two digit numbers this should work\n",
    "        # It will raise an exception for single digit numbers, except block will run\n",
    "        number = int(number)\n",
    "        print(number)\n",
    "    except:\n",
    "        # If this code block is executed\n",
    "        # That means we have a single digit number\n",
    "        # We can slice accordingly\n",
    "        number = line[-2:-1]\n",
    "        number = int(number)\n",
    "        print(number)\n",
    "    \n",
    "    count = count + 1\n",
    "\n",
    "fhand.close()"
   ]
  },
  {
   "attachments": {},
   "cell_type": "markdown",
   "metadata": {},
   "source": [
    "It worked 🥳 To calculate the mean of the column, we need to save these numbers into a data structure (e.g. a list) and calculate their mean."
   ]
  },
  {
   "cell_type": "code",
   "execution_count": null,
   "metadata": {},
   "outputs": [],
   "source": [
    "fhand = open('data.csv')\n",
    "numbers = [] # create an empty list\n",
    "count = 0\n",
    "for line in fhand:\n",
    "    # Skip the first line\n",
    "    if count == 0:\n",
    "        count += 1\n",
    "        continue\n",
    "    \n",
    "    # Slice the number\n",
    "    number = line[-3:-1]\n",
    "    \n",
    "    try:\n",
    "        # For two digit numbers this should work\n",
    "        # It will raise an exception for single digit numbers, except block will run\n",
    "        number = int(number)\n",
    "        numbers.append(number) # append to list instead of printing\n",
    "    except:\n",
    "        # If this code block is executed\n",
    "        # That means we have a single digit number\n",
    "        # We can slice accordingly\n",
    "        number = line[-2:-1]\n",
    "        number = int(number)\n",
    "        numbers.append(number) # append to list instead of printing\n",
    "print(sum(numbers)/len(numbers))\n",
    "fhand.close()"
   ]
  },
  {
   "attachments": {},
   "cell_type": "markdown",
   "metadata": {},
   "source": [
    "That's it! \n",
    "\n",
    "Average of the proportion of population with primary reliance on clean fuels and technologies for cooking is 63.5%."
   ]
  },
  {
   "attachments": {},
   "cell_type": "markdown",
   "metadata": {},
   "source": [
    "## 10.3 Improving the implementation"
   ]
  },
  {
   "attachments": {},
   "cell_type": "markdown",
   "metadata": {},
   "source": [
    "Let's remember the Zen of Python:"
   ]
  },
  {
   "cell_type": "code",
   "execution_count": 6,
   "metadata": {},
   "outputs": [
    {
     "name": "stdout",
     "output_type": "stream",
     "text": [
      "The Zen of Python, by Tim Peters\n",
      "\n",
      "Beautiful is better than ugly.\n",
      "Explicit is better than implicit.\n",
      "Simple is better than complex.\n",
      "Complex is better than complicated.\n",
      "Flat is better than nested.\n",
      "Sparse is better than dense.\n",
      "Readability counts.\n",
      "Special cases aren't special enough to break the rules.\n",
      "Although practicality beats purity.\n",
      "Errors should never pass silently.\n",
      "Unless explicitly silenced.\n",
      "In the face of ambiguity, refuse the temptation to guess.\n",
      "There should be one-- and preferably only one --obvious way to do it.\n",
      "Although that way may not be obvious at first unless you're Dutch.\n",
      "Now is better than never.\n",
      "Although never is often better than *right* now.\n",
      "If the implementation is hard to explain, it's a bad idea.\n",
      "If the implementation is easy to explain, it may be a good idea.\n",
      "Namespaces are one honking great idea -- let's do more of those!\n"
     ]
    }
   ],
   "source": [
    "import this"
   ]
  },
  {
   "attachments": {},
   "cell_type": "markdown",
   "metadata": {},
   "source": [
    "Let's see if we can make our code more _Pythonic_.\n",
    "\n",
    ">Exploiting the features of the Python language to produce code that is clear, concise and maintainable. Pythonic means code that doesn't just get the syntax right, but that follows the conventions of the Python community and uses the language in the way it is intended to be used. [Source](https://stackoverflow.com/a/25011492)."
   ]
  },
  {
   "attachments": {},
   "cell_type": "markdown",
   "metadata": {},
   "source": [
    "Let's look at the first line again."
   ]
  },
  {
   "cell_type": "code",
   "execution_count": null,
   "metadata": {},
   "outputs": [],
   "source": [
    "fhand = open('data.csv')\n",
    "count = 0\n",
    "for line in fhand:\n",
    "    print(line)\n",
    "    count = count + 1\n",
    "    if count == 2:\n",
    "        break\n",
    "fhand.close()"
   ]
  },
  {
   "cell_type": "code",
   "execution_count": null,
   "metadata": {},
   "outputs": [],
   "source": [
    "line"
   ]
  },
  {
   "attachments": {},
   "cell_type": "markdown",
   "metadata": {},
   "source": [
    "Whenever you are working with strings, try to remember and use the string methods. We have learned about `strip` and `split` methods."
   ]
  },
  {
   "cell_type": "markdown",
   "metadata": {},
   "source": [
    "**Exercise 10.2**\n",
    "\n",
    "Use the `strip` method to get rid of the newline character `\\n`"
   ]
  },
  {
   "cell_type": "code",
   "execution_count": 11,
   "metadata": {},
   "outputs": [
    {
     "data": {
      "text/plain": [
       "'7.1.2;Bhutan;2015;52'"
      ]
     },
     "execution_count": 11,
     "metadata": {},
     "output_type": "execute_result"
    }
   ],
   "source": [
    "line = '7.1.2;Bhutan;2015;52\\n'\n",
    "line.strip()"
   ]
  },
  {
   "cell_type": "markdown",
   "metadata": {},
   "source": [
    "**Exercise 10.3**\n",
    "\n",
    "Use the `split` method to split the remaining string. Use the delimiter `;`.\n",
    "\n",
    "The result should be\n",
    "`['7.1.2', 'Bhutan', '2015', '52']`\n"
   ]
  },
  {
   "cell_type": "code",
   "execution_count": 10,
   "metadata": {},
   "outputs": [
    {
     "data": {
      "text/plain": [
       "['7.1.2', 'Bhutan', '2015', '52']"
      ]
     },
     "execution_count": 10,
     "metadata": {},
     "output_type": "execute_result"
    }
   ],
   "source": [
    "line = '7.1.2;Bhutan;2015;52' # line after exercise 10.2\n",
    "\n",
    "line.split(';')"
   ]
  },
  {
   "cell_type": "markdown",
   "metadata": {},
   "source": [
    "**Exercise 10.4**\n",
    "\n",
    "Access the value we are looking for (i.e. 52) from the list `['7.1.2', 'Bhutan', '2015', '52']`"
   ]
  },
  {
   "cell_type": "code",
   "execution_count": 13,
   "metadata": {},
   "outputs": [
    {
     "data": {
      "text/plain": [
       "'52'"
      ]
     },
     "execution_count": 13,
     "metadata": {},
     "output_type": "execute_result"
    }
   ],
   "source": [
    "line = ['7.1.2', 'Bhutan', '2015', '52']\n",
    "line[-1]"
   ]
  },
  {
   "attachments": {},
   "cell_type": "markdown",
   "metadata": {},
   "source": [
    "This might look more complex than slicing the string, but this approach will cover more cases. In other words, slicing assumed a two-digit number in a fixed location, this code will work regardless of the number of digits. Additionally, hardcoding a slice with indices (e.g. `line[-3:-1]`) is prone to slight differences in lines."
   ]
  },
  {
   "cell_type": "code",
   "execution_count": 14,
   "metadata": {},
   "outputs": [
    {
     "name": "stdout",
     "output_type": "stream",
     "text": [
      "value\n",
      "52\n",
      ">95\n",
      ">95\n",
      ">95\n",
      ">95\n",
      ">95\n",
      "54\n",
      "7\n",
      ">95\n",
      "79\n",
      "25\n",
      "17\n",
      "92\n",
      "<5\n",
      "14\n",
      ">95\n",
      "<5\n",
      "41\n",
      "94\n",
      ">95\n",
      ">95\n",
      "9\n",
      "79\n",
      "74\n",
      ">95\n",
      "51\n",
      "90\n",
      "85\n",
      "89\n",
      ">95\n",
      "91\n",
      ">95\n",
      "<5\n",
      "65\n",
      "<5\n",
      ">95\n",
      ">95\n",
      "35\n",
      ">95\n",
      "<5\n",
      ">95\n",
      "36\n",
      ">95\n",
      ">95\n",
      "59\n",
      "<5\n",
      ">95\n",
      "94\n",
      "7\n",
      "14\n",
      "12\n",
      ">95\n",
      ">95\n",
      ">95\n",
      "58\n",
      "68\n",
      "44\n",
      ">95\n",
      ">95\n",
      "87\n",
      "<5\n",
      "24\n",
      "91\n",
      "46\n",
      "50\n",
      "79\n",
      ">95\n",
      "<5\n",
      "12\n",
      ">95\n",
      "<5\n",
      ">95\n",
      "90\n",
      "<5\n",
      "57\n",
      "13\n",
      "86\n",
      "81\n",
      ">95\n",
      ">95\n",
      "63\n",
      "92\n",
      "65\n",
      "53\n",
      "90\n",
      ">95\n",
      "95\n",
      "40\n",
      "66\n",
      "40\n"
     ]
    }
   ],
   "source": [
    "fhand = open('data.csv')\n",
    "for line in fhand:\n",
    "    line = line.strip() # Exercise 10.2\n",
    "    line = line.split(';') # Exercise 10.3\n",
    "    number = line[-1] # Exercise 10.4\n",
    "    print(number)\n",
    "fhand.close()"
   ]
  },
  {
   "attachments": {},
   "cell_type": "markdown",
   "metadata": {},
   "source": [
    "Now we still have the same problem with the first line, additionally we have to get rid of the `<` and `>` operators. We can use the `replace` method for that."
   ]
  },
  {
   "cell_type": "markdown",
   "metadata": {},
   "source": [
    "**Exercise 10.5**\n",
    "\n",
    "Use the replace method to eliminate the greater operator (>)."
   ]
  },
  {
   "cell_type": "code",
   "execution_count": 15,
   "metadata": {},
   "outputs": [
    {
     "data": {
      "text/plain": [
       "'95'"
      ]
     },
     "execution_count": 15,
     "metadata": {},
     "output_type": "execute_result"
    }
   ],
   "source": [
    "number = '>95'\n",
    "number.replace('>', '')"
   ]
  },
  {
   "cell_type": "markdown",
   "metadata": {},
   "source": [
    "**Exercise 10.6**\n",
    "\n",
    "Use the replace method to eliminate the smaller operator (<)."
   ]
  },
  {
   "cell_type": "code",
   "execution_count": 16,
   "metadata": {},
   "outputs": [
    {
     "data": {
      "text/plain": [
       "'5'"
      ]
     },
     "execution_count": 16,
     "metadata": {},
     "output_type": "execute_result"
    }
   ],
   "source": [
    "number = '<5'\n",
    "number.replace('<', '')"
   ]
  },
  {
   "attachments": {},
   "cell_type": "markdown",
   "metadata": {},
   "source": [
    "Note that `replace` won't change the string if the logical operators are not in the string. So we can apply these to all numbers."
   ]
  },
  {
   "cell_type": "code",
   "execution_count": null,
   "metadata": {},
   "outputs": [],
   "source": [
    "fhand = open('data.csv')\n",
    "for line in fhand:\n",
    "    line = line.strip() # Exercise 10.2\n",
    "    line = line.split(';') # Exercise 10.3\n",
    "    number = line[-1] # Exercise 10.4\n",
    "    number = number.replace('>', '') # Exercise 10.5\n",
    "    number = number.replace('<', '') # Exercise 10.6\n",
    "    print(number)\n",
    "fhand.close()"
   ]
  },
  {
   "attachments": {},
   "cell_type": "markdown",
   "metadata": {},
   "source": [
    "We can make the code still more concise by chaining methods"
   ]
  },
  {
   "cell_type": "code",
   "execution_count": null,
   "metadata": {},
   "outputs": [],
   "source": [
    "fhand = open('data.csv')\n",
    "for line in fhand:\n",
    "    number = line.strip().split(';')[-1] # Exercises 10.2-4\n",
    "    number = number.replace('>', '').replace('<', '') # Exercises 10.5-6\n",
    "    print(number)\n",
    "fhand.close()"
   ]
  },
  {
   "attachments": {},
   "cell_type": "markdown",
   "metadata": {},
   "source": [
    "let's add skipping the first line, by using a slightly different logic, instead of counting."
   ]
  },
  {
   "cell_type": "code",
   "execution_count": 17,
   "metadata": {},
   "outputs": [
    {
     "name": "stdout",
     "output_type": "stream",
     "text": [
      "52\n",
      "95\n",
      "95\n",
      "95\n",
      "95\n",
      "95\n",
      "54\n",
      "7\n",
      "95\n",
      "79\n",
      "25\n",
      "17\n",
      "92\n",
      "5\n",
      "14\n",
      "95\n",
      "5\n",
      "41\n",
      "94\n",
      "95\n",
      "95\n",
      "9\n",
      "79\n",
      "74\n",
      "95\n",
      "51\n",
      "90\n",
      "85\n",
      "89\n",
      "95\n",
      "91\n",
      "95\n",
      "5\n",
      "65\n",
      "5\n",
      "95\n",
      "95\n",
      "35\n",
      "95\n",
      "5\n",
      "95\n",
      "36\n",
      "95\n",
      "95\n",
      "59\n",
      "5\n",
      "95\n",
      "94\n",
      "7\n",
      "14\n",
      "12\n",
      "95\n",
      "95\n",
      "95\n",
      "58\n",
      "68\n",
      "44\n",
      "95\n",
      "95\n",
      "87\n",
      "5\n",
      "24\n",
      "91\n",
      "46\n",
      "50\n",
      "79\n",
      "95\n",
      "5\n",
      "12\n",
      "95\n",
      "5\n",
      "95\n",
      "90\n",
      "5\n",
      "57\n",
      "13\n",
      "86\n",
      "81\n",
      "95\n",
      "95\n",
      "63\n",
      "92\n",
      "65\n",
      "53\n",
      "90\n",
      "95\n",
      "95\n",
      "40\n",
      "66\n",
      "40\n"
     ]
    }
   ],
   "source": [
    "fhand = open('data.csv')\n",
    "for line in fhand:\n",
    "    number = line.strip().split(';')[-1] # Exercises 10.2-4\n",
    "    if number == 'value':continue # new logic for skipping the first line\n",
    "    number = number.replace('>', '').replace('<', '') # Exercises 10.5-6\n",
    "    print(number)\n",
    "fhand.close()"
   ]
  },
  {
   "attachments": {},
   "cell_type": "markdown",
   "metadata": {},
   "source": [
    "That's it! Finally we create a list, and calculate the average."
   ]
  },
  {
   "cell_type": "code",
   "execution_count": 18,
   "metadata": {},
   "outputs": [
    {
     "name": "stdout",
     "output_type": "stream",
     "text": [
      "63.94444444444444\n"
     ]
    }
   ],
   "source": [
    "fhand = open('data.csv')\n",
    "numbers = []\n",
    "for line in fhand:\n",
    "    number = line.strip().split(';')[-1] # Exercises 10.2-4\n",
    "    if number == 'value':continue # new logic for skipping the first line\n",
    "    number = number.replace('>', '').replace('<', '') # Exercises 10.5-6\n",
    "    numbers.append(int(number))\n",
    "print(sum(numbers)/len(numbers))\n",
    "fhand.close()"
   ]
  },
  {
   "attachments": {},
   "cell_type": "markdown",
   "metadata": {},
   "source": [
    "As you can see this code is much better than the previous version\n",
    "\n",
    "```python\n",
    "fhand = open('data.csv')\n",
    "numbers = []\n",
    "count = 0\n",
    "for line in fhand:\n",
    "    if count == 0:\n",
    "        count += 1\n",
    "        continue\n",
    "    number = line[-3:-1]\n",
    "    \n",
    "    try:\n",
    "    \n",
    "        number = int(number)\n",
    "        numbers.append(number)\n",
    "    except:\n",
    "        \n",
    "        number = line[-2:-1]\n",
    "        number = int(number)\n",
    "        numbers.append(number)\n",
    "print(sum(numbers)/len(numbers))\n",
    "fhand.close()\n",
    "```"
   ]
  },
  {
   "attachments": {},
   "cell_type": "markdown",
   "metadata": {},
   "source": [
    "This is nice but did you notice anything else? The previous result was 63.54% but with the second implementation we got 63.94% 😱😱😱😱\n",
    "\n",
    "This is a major problem, we only changed our approach for extracting the values which shouldn't change the average. Discovering the issue is left for you as an exercise."
   ]
  },
  {
   "attachments": {},
   "cell_type": "markdown",
   "metadata": {},
   "source": [
    "## 10.4 Exercises"
   ]
  },
  {
   "attachments": {},
   "cell_type": "markdown",
   "metadata": {},
   "source": [
    "**Exercise 10.7**\n",
    "\n",
    "Investigate why these two implementations that are intended to calculate the same statistic, give different results. Determine which implementation is correct and which implementation is wrong."
   ]
  },
  {
   "cell_type": "code",
   "execution_count": 19,
   "metadata": {},
   "outputs": [
    {
     "name": "stdout",
     "output_type": "stream",
     "text": [
      "63.544444444444444\n"
     ]
    }
   ],
   "source": [
    "# Implementation 1\n",
    "fhand = open('data.csv')\n",
    "numbers = []\n",
    "count = 0\n",
    "for line in fhand:\n",
    "    if count == 0:\n",
    "        count += 1\n",
    "        continue\n",
    "    number = line[-3:-1]\n",
    "    try:\n",
    "        number = int(number)\n",
    "        numbers.append(number)\n",
    "    except:\n",
    "        number = line[-2:-1]\n",
    "        number = int(number)\n",
    "        numbers.append(number)\n",
    "print(sum(numbers)/len(numbers))\n",
    "fhand.close()"
   ]
  },
  {
   "cell_type": "code",
   "execution_count": 20,
   "metadata": {},
   "outputs": [
    {
     "name": "stdout",
     "output_type": "stream",
     "text": [
      "63.94444444444444\n"
     ]
    }
   ],
   "source": [
    "# Implementation 2\n",
    "fhand = open('data.csv')\n",
    "numbers = []\n",
    "for line in fhand:\n",
    "    number = line.strip().split(';')[-1] # Exercises 10.2-4\n",
    "    if number == 'value':continue # new logic for skipping the first line\n",
    "    number = number.replace('>', '').replace('<', '') # Exercises 10.5-6\n",
    "    numbers.append(int(number))\n",
    "print(sum(numbers)/len(numbers))\n",
    "fhand.close()"
   ]
  },
  {
   "attachments": {},
   "cell_type": "markdown",
   "metadata": {},
   "source": [
    "**Exercise 10.8**\n",
    "\n",
    "Fix the wrong implementation."
   ]
  },
  {
   "cell_type": "code",
   "execution_count": null,
   "metadata": {},
   "outputs": [],
   "source": [
    "# YOUR CODE HERE"
   ]
  },
  {
   "attachments": {},
   "cell_type": "markdown",
   "metadata": {},
   "source": [
    "**Exercise 10.9**\n",
    "\n",
    "Find the geographical areas with proportion of population with primary reliance on clean fuels and technologies for cooking (%) less than or equal to 5 %.\n",
    "\n",
    "Expected result\n",
    "\n",
    "`['Rwanda',\n",
    " 'Malawi',\n",
    " 'Nigeria',\n",
    " 'Guinea',\n",
    " 'Niger',\n",
    " 'Myanmar',\n",
    " 'Sierra Leone',\n",
    " 'South Sudan',\n",
    " 'Madagascar',\n",
    " 'Chad']`"
   ]
  },
  {
   "cell_type": "code",
   "execution_count": 50,
   "metadata": {},
   "outputs": [
    {
     "name": "stdout",
     "output_type": "stream",
     "text": [
      "['Myanmar', 'Rwanda', 'Malawi', 'Nigeria', 'Guinea', 'Niger', 'Sierra Leone', 'South Sudan', 'Madagascar', 'Chad']\n"
     ]
    }
   ],
   "source": [
    "file = open('data.csv')\n",
    "\n",
    "cleanEnergyPercentagePerCountry = dict()\n",
    "lowCleanEnergyCountries = []\n",
    "\n",
    "for line in file:\n",
    "    country = line.strip().split(';')[1]\n",
    "    value = line.strip().split(';')[-1]\n",
    "\n",
    "    if value == 'value':continue\n",
    "\n",
    "    value = value.replace('<', '').replace('>', '')\n",
    "\n",
    "    cleanEnergyPercentagePerCountry[country] = value\n",
    "\n",
    "for country in cleanEnergyPercentagePerCountry:\n",
    "    if int(cleanEnergyPercentagePerCountry[country]) <= 5:\n",
    "        lowCleanEnergyCountries.append(country)\n",
    "\n",
    "print(lowCleanEnergyCountries)\n",
    "file.close()"
   ]
  },
  {
   "cell_type": "code",
   "execution_count": null,
   "metadata": {},
   "outputs": [],
   "source": []
  }
 ],
 "metadata": {
  "kernelspec": {
   "display_name": "Python 3",
   "language": "python",
   "name": "python3"
  },
  "language_info": {
   "codemirror_mode": {
    "name": "ipython",
    "version": 3
   },
   "file_extension": ".py",
   "mimetype": "text/x-python",
   "name": "python",
   "nbconvert_exporter": "python",
   "pygments_lexer": "ipython3",
   "version": "3.12.1"
  },
  "orig_nbformat": 4
 },
 "nbformat": 4,
 "nbformat_minor": 2
}
