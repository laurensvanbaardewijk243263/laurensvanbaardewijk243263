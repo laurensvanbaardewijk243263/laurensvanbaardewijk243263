{
 "cells": [
  {
   "attachments": {},
   "cell_type": "markdown",
   "metadata": {},
   "source": [
    "# 6. Lists"
   ]
  },
  {
   "attachments": {},
   "cell_type": "markdown",
   "metadata": {},
   "source": [
    "We have introduced lists briefly previously, while discussing functions. Now let's dive deep into the details."
   ]
  },
  {
   "cell_type": "code",
   "execution_count": null,
   "metadata": {},
   "outputs": [],
   "source": [
    "# a list of strings\n",
    "cheeses = ['Cheddar', 'Edam', 'Gouda']\n",
    "\n",
    "# a list of integers\n",
    "odd = [1, 3, 5]\n",
    "\n",
    "# a list of lists\n",
    "array = [[1, 2, 3], [4, 5, 6], [7, 8, 9]]"
   ]
  },
  {
   "cell_type": "code",
   "execution_count": null,
   "metadata": {},
   "outputs": [],
   "source": [
    "type(cheeses) is list"
   ]
  },
  {
   "attachments": {},
   "cell_type": "markdown",
   "metadata": {},
   "source": [
    "Here is the table of contents for this notebook:\n",
    "\n",
    "- 6.1 Lists are mutable\n",
    "- 6.2 Traversing a list\n",
    "- 6.3 List operations\n",
    "- 6.4 List slices\n",
    "- 6.5 List methods\n",
    "- 6.6 Deleting elements\n",
    "- 6.7 Lists and functions\n",
    "- 6.8 Lists and strings\n",
    "- 6.9 Objects and values\n",
    "- 6.10 Aliasing\n",
    "- 6.11 List arguments\n",
    "- 6.12 List comprehension\n",
    "- 6.13 Debugging\n",
    "- 6.14 Exercises\n",
    "\n",
    "\n",
    "\n",
    "\n",
    "\n",
    "\n",
    "\n"
   ]
  },
  {
   "attachments": {},
   "cell_type": "markdown",
   "metadata": {},
   "source": [
    "## 6.1 Lists are mutable"
   ]
  },
  {
   "attachments": {},
   "cell_type": "markdown",
   "metadata": {},
   "source": [
    "The syntax for accessing the elements of a list is the same as for accessing the characters of a string: the index operator. The expression inside the brackets specifies the index. Remember that the indices start at 0:"
   ]
  },
  {
   "cell_type": "code",
   "execution_count": null,
   "metadata": {},
   "outputs": [],
   "source": [
    "cheeses[0]"
   ]
  },
  {
   "attachments": {},
   "cell_type": "markdown",
   "metadata": {},
   "source": [
    "Unlike strings, lists are mutable because you can change the order of items in a list or reassign an item in a list. When the index operator appears on the left side of an assignment, it identifies the element of the list that will be assigned."
   ]
  },
  {
   "cell_type": "code",
   "execution_count": null,
   "metadata": {},
   "outputs": [],
   "source": [
    "numbers = [17, 123]\n",
    "numbers[1] = 5\n",
    "numbers"
   ]
  },
  {
   "attachments": {},
   "cell_type": "markdown",
   "metadata": {},
   "source": [
    "The second element of `numbers`, which used to be 123, is now 5.\n",
    "\n",
    "You can think of a list as a relationship between indices and elements. This relationship is called a _mapping_; each index “maps to” one of the elements.\n",
    "\n",
    "List indices work the same way as string indices:\n",
    "\n",
    "- Any integer expression can be used as an index.\n",
    "\n",
    "- If you try to read or write an element that does not exist, you get an `IndexError`.\n",
    "\n",
    "- If an index has a negative value, it counts backward from the end of the list.\n",
    "\n",
    "The `in` operator also works on lists."
   ]
  },
  {
   "cell_type": "code",
   "execution_count": 1,
   "metadata": {},
   "outputs": [
    {
     "data": {
      "text/plain": [
       "True"
      ]
     },
     "execution_count": 1,
     "metadata": {},
     "output_type": "execute_result"
    }
   ],
   "source": [
    "cheeses = ['Cheddar', 'Edam', 'Gouda']\n",
    "'Edam' in cheeses"
   ]
  },
  {
   "cell_type": "code",
   "execution_count": 2,
   "metadata": {},
   "outputs": [
    {
     "data": {
      "text/plain": [
       "False"
      ]
     },
     "execution_count": 2,
     "metadata": {},
     "output_type": "execute_result"
    }
   ],
   "source": [
    "'Brie' in cheeses"
   ]
  },
  {
   "cell_type": "markdown",
   "metadata": {},
   "source": [
    "**Exercise 6.1**\n",
    "\n",
    "Replace 'Edam' with 'Brie', using the index operator together and assignment."
   ]
  },
  {
   "cell_type": "code",
   "execution_count": 3,
   "metadata": {},
   "outputs": [
    {
     "name": "stdout",
     "output_type": "stream",
     "text": [
      "['Cheddar', 'Brie', 'Gouda']\n"
     ]
    }
   ],
   "source": [
    "cheeses = ['Cheddar', 'Edam', 'Gouda']\n",
    "cheeses[1] = 'Brie'\n",
    "print(cheeses)"
   ]
  },
  {
   "attachments": {},
   "cell_type": "markdown",
   "metadata": {},
   "source": [
    "## 6.2 Traversing a list"
   ]
  },
  {
   "attachments": {},
   "cell_type": "markdown",
   "metadata": {},
   "source": [
    "The most common way to traverse the elements of a list is with a `for` loop. The syntax is the same as for strings:"
   ]
  },
  {
   "cell_type": "code",
   "execution_count": null,
   "metadata": {},
   "outputs": [],
   "source": [
    "for cheese in cheeses:\n",
    "    print(cheese)"
   ]
  },
  {
   "attachments": {},
   "cell_type": "markdown",
   "metadata": {},
   "source": [
    "This works well if you only need to read the elements of the list. But if you want to write or update the elements, you need the indices. A common way to do that is to combine the functions `range` and `len`:"
   ]
  },
  {
   "cell_type": "code",
   "execution_count": null,
   "metadata": {},
   "outputs": [],
   "source": [
    "numbers = [17, 123]\n",
    "for i in range(len(numbers)):\n",
    "    numbers[i] = numbers[i] * 2"
   ]
  },
  {
   "cell_type": "code",
   "execution_count": 5,
   "metadata": {},
   "outputs": [
    {
     "ename": "NameError",
     "evalue": "name 'numbers' is not defined",
     "output_type": "error",
     "traceback": [
      "\u001b[1;31m---------------------------------------------------------------------------\u001b[0m",
      "\u001b[1;31mNameError\u001b[0m                                 Traceback (most recent call last)",
      "Cell \u001b[1;32mIn[5], line 1\u001b[0m\n\u001b[1;32m----> 1\u001b[0m \u001b[43mnumbers\u001b[49m\n",
      "\u001b[1;31mNameError\u001b[0m: name 'numbers' is not defined"
     ]
    }
   ],
   "source": [
    "numbers"
   ]
  },
  {
   "attachments": {},
   "cell_type": "markdown",
   "metadata": {},
   "source": [
    "This loop traverses the list and updates each element. `len` returns the number of elements in the list. `range` returns a list of indices from 0 to _n − 1_, where _n_ is the length of the list. Each time through the loop, _i_ gets the index of the next element. The assignment statement in the body uses _i_ to read the old value of the element and to assign the new value.\n",
    "\n",
    "A `for` loop over an empty list never executes the body:"
   ]
  },
  {
   "cell_type": "code",
   "execution_count": null,
   "metadata": {},
   "outputs": [],
   "source": [
    "for x in []:\n",
    "    print('This never happens.')"
   ]
  },
  {
   "attachments": {},
   "cell_type": "markdown",
   "metadata": {},
   "source": [
    "Although a list can contain another list, the nested list still counts as a single element. The length of this list is four:"
   ]
  },
  {
   "cell_type": "code",
   "execution_count": null,
   "metadata": {},
   "outputs": [],
   "source": [
    "nested_list = ['spam', 1, ['Brie', 'Roquefort', 'Pol le Veq'], [1, 2, 3]]\n",
    "len(nested_list)"
   ]
  },
  {
   "cell_type": "markdown",
   "metadata": {},
   "source": [
    "**Exercise 6.2**\n",
    "\n",
    "Write a code that prints all the items in a list. If the item itself is another list, print the items of that list individually instead of printing the list. You don't need to consider list of list of lists. Only consider list of lists.\n",
    "\n",
    "For the list `nested_list` above, the expected output is:\n",
    "\n",
    "```python\n",
    "spam\n",
    "1\n",
    "Brie\n",
    "Roquefort\n",
    "Pol le Veq\n",
    "1\n",
    "2\n",
    "3\n",
    "```"
   ]
  },
  {
   "cell_type": "code",
   "execution_count": 7,
   "metadata": {},
   "outputs": [
    {
     "name": "stdout",
     "output_type": "stream",
     "text": [
      "spam\n",
      "1\n",
      "Brie\n",
      "Roquefort\n",
      "Pol le Veq\n",
      "1\n",
      "2\n",
      "3\n"
     ]
    }
   ],
   "source": [
    "nested_list = ['spam', 1, ['Brie', 'Roquefort', 'Pol le Veq'], [1, 2, 3]]\n",
    "\n",
    "for word in nested_list:\n",
    "    if type(word) == list:\n",
    "        for word2 in word:\n",
    "            print(word2)\n",
    "    else:\n",
    "        print(word)"
   ]
  },
  {
   "attachments": {},
   "cell_type": "markdown",
   "metadata": {},
   "source": [
    "## 6.3 List operations\n"
   ]
  },
  {
   "attachments": {},
   "cell_type": "markdown",
   "metadata": {},
   "source": [
    "The `+` operator _concatenates_ lists:"
   ]
  },
  {
   "cell_type": "code",
   "execution_count": null,
   "metadata": {},
   "outputs": [],
   "source": [
    "a = [1, 2, 3]\n",
    "b = [4, 5, 6]\n",
    "c = a + b\n",
    "print(c)"
   ]
  },
  {
   "attachments": {},
   "cell_type": "markdown",
   "metadata": {},
   "source": [
    "Similarly, the `*` operator repeats a list a given number of times:"
   ]
  },
  {
   "cell_type": "code",
   "execution_count": 9,
   "metadata": {},
   "outputs": [
    {
     "data": {
      "text/plain": [
       "[0, 0, 0, 0]"
      ]
     },
     "execution_count": 9,
     "metadata": {},
     "output_type": "execute_result"
    }
   ],
   "source": [
    "[0] * 4"
   ]
  },
  {
   "cell_type": "code",
   "execution_count": 8,
   "metadata": {},
   "outputs": [
    {
     "data": {
      "text/plain": [
       "[1, 2, 3, 1, 2, 3, 1, 2, 3]"
      ]
     },
     "execution_count": 8,
     "metadata": {},
     "output_type": "execute_result"
    }
   ],
   "source": [
    "[1, 2, 3] * 3"
   ]
  },
  {
   "cell_type": "markdown",
   "metadata": {},
   "source": [
    "very much like strings."
   ]
  },
  {
   "attachments": {},
   "cell_type": "markdown",
   "metadata": {},
   "source": [
    "## 6.4 List slices"
   ]
  },
  {
   "attachments": {},
   "cell_type": "markdown",
   "metadata": {},
   "source": [
    "The slice operator also works on lists:"
   ]
  },
  {
   "cell_type": "code",
   "execution_count": 10,
   "metadata": {},
   "outputs": [
    {
     "data": {
      "text/plain": [
       "['b', 'c']"
      ]
     },
     "execution_count": 10,
     "metadata": {},
     "output_type": "execute_result"
    }
   ],
   "source": [
    "t = ['a', 'b', 'c', 'd', 'e', 'f']\n",
    "t[1:3]"
   ]
  },
  {
   "cell_type": "code",
   "execution_count": null,
   "metadata": {},
   "outputs": [],
   "source": [
    "t[:4]"
   ]
  },
  {
   "cell_type": "code",
   "execution_count": null,
   "metadata": {},
   "outputs": [],
   "source": [
    "t[3:]"
   ]
  },
  {
   "attachments": {},
   "cell_type": "markdown",
   "metadata": {},
   "source": [
    "If you omit the first index, the slice starts at the beginning. If you omit the second, the slice goes to the end. So if you omit both, the slice is a copy of the whole list."
   ]
  },
  {
   "cell_type": "code",
   "execution_count": 11,
   "metadata": {},
   "outputs": [
    {
     "data": {
      "text/plain": [
       "['a', 'b', 'c', 'd', 'e', 'f']"
      ]
     },
     "execution_count": 11,
     "metadata": {},
     "output_type": "execute_result"
    }
   ],
   "source": [
    "t[:]"
   ]
  },
  {
   "attachments": {},
   "cell_type": "markdown",
   "metadata": {},
   "source": [
    "Since lists are mutable, it is often useful to make a copy before performing operations that fold, spindle, or mutilate lists.\n",
    "\n",
    "A slice operator on the left side of an assignment can update multiple elements:"
   ]
  },
  {
   "cell_type": "code",
   "execution_count": null,
   "metadata": {},
   "outputs": [],
   "source": [
    "t = ['a', 'b', 'c', 'd', 'e', 'f']\n",
    "t[1:3] = ['x', 'y']\n",
    "print(t)"
   ]
  },
  {
   "cell_type": "markdown",
   "metadata": {},
   "source": [
    "**Exercise 6.3**\n",
    "\n",
    "Given a list of length 3 or more, print it without the first and the last item.\n",
    "\n",
    "- ['a', 'b', 'c', 'd', 'e', 'f'] -> ['b', 'c', 'd', 'e']\n",
    "- [1, 2, 3] -> [2]\n"
   ]
  },
  {
   "cell_type": "code",
   "execution_count": 16,
   "metadata": {},
   "outputs": [
    {
     "data": {
      "text/plain": [
       "['b', 'c', 'd', 'e']"
      ]
     },
     "execution_count": 16,
     "metadata": {},
     "output_type": "execute_result"
    }
   ],
   "source": [
    "t = ['a', 'b', 'c', 'd', 'e', 'f']\n",
    "t[1:5]"
   ]
  },
  {
   "attachments": {},
   "cell_type": "markdown",
   "metadata": {},
   "source": [
    "## 6.5 List methods"
   ]
  },
  {
   "attachments": {},
   "cell_type": "markdown",
   "metadata": {},
   "source": [
    "Python provides methods that operate on lists. For example, `append` adds a new element to the end of a list:"
   ]
  },
  {
   "cell_type": "code",
   "execution_count": null,
   "metadata": {},
   "outputs": [],
   "source": [
    "t = ['a', 'b', 'c']\n",
    "t.append('d')\n",
    "print(t)"
   ]
  },
  {
   "attachments": {},
   "cell_type": "markdown",
   "metadata": {},
   "source": [
    "`extend` takes a list as an argument and appends all of the elements:"
   ]
  },
  {
   "cell_type": "code",
   "execution_count": 17,
   "metadata": {},
   "outputs": [
    {
     "name": "stdout",
     "output_type": "stream",
     "text": [
      "['a', 'b', 'c', 'd', 'e']\n"
     ]
    }
   ],
   "source": [
    "t1 = ['a', 'b', 'c']\n",
    "t2 = ['d', 'e']\n",
    "t1.extend(t2)\n",
    "print(t1)"
   ]
  },
  {
   "attachments": {},
   "cell_type": "markdown",
   "metadata": {},
   "source": [
    "This example leaves `t2` unmodified.\n",
    "\n",
    "`sort` arranges the elements of the list from low to high:"
   ]
  },
  {
   "cell_type": "code",
   "execution_count": 18,
   "metadata": {},
   "outputs": [
    {
     "name": "stdout",
     "output_type": "stream",
     "text": [
      "['a', 'b', 'c', 'd', 'e']\n"
     ]
    }
   ],
   "source": [
    "t = ['d', 'c', 'e', 'b', 'a']\n",
    "t.sort()\n",
    "print(t)"
   ]
  },
  {
   "attachments": {},
   "cell_type": "markdown",
   "metadata": {},
   "source": [
    "Most list methods are void; they modify the list and return `None`. If you accidentally write `t = t.sort()`, you will be disappointed with the result."
   ]
  },
  {
   "cell_type": "markdown",
   "metadata": {},
   "source": [
    "We have covered the `index` method under string methods, but it is also a list method so this is a brief reminder. To find the index of the first occurrence of a list item, use the `index` method:"
   ]
  },
  {
   "cell_type": "code",
   "execution_count": null,
   "metadata": {},
   "outputs": [],
   "source": [
    "cheeses = ['Cheddar', 'Edam', 'Gouda']\n",
    "cheeses.index('Gouda')"
   ]
  },
  {
   "cell_type": "markdown",
   "metadata": {},
   "source": [
    "**Exercise 6.4**\n",
    "\n",
    "Given a list of integers, create a new list using a `for` loop and the `append` method that contains the even integers from the original list."
   ]
  },
  {
   "cell_type": "code",
   "execution_count": 19,
   "metadata": {},
   "outputs": [
    {
     "name": "stdout",
     "output_type": "stream",
     "text": [
      "[0, 12312, -4]\n"
     ]
    }
   ],
   "source": [
    "some_list = [1, 0, 12312, -4]\n",
    "only_even = []\n",
    "\n",
    "for number in some_list:\n",
    "    if number % 2 == 0:\n",
    "        \tonly_even.append(number)\n",
    "\n",
    "print(only_even)"
   ]
  },
  {
   "attachments": {},
   "cell_type": "markdown",
   "metadata": {},
   "source": [
    "## 6.6 Deleting elements"
   ]
  },
  {
   "attachments": {},
   "cell_type": "markdown",
   "metadata": {},
   "source": [
    "There are several ways to delete elements from a list. If you know the index of the element you want, you can use `pop`:"
   ]
  },
  {
   "cell_type": "code",
   "execution_count": 20,
   "metadata": {},
   "outputs": [
    {
     "name": "stdout",
     "output_type": "stream",
     "text": [
      "['a', 'c']\n",
      "b\n"
     ]
    }
   ],
   "source": [
    "t = ['a', 'b', 'c']\n",
    "x = t.pop(1)\n",
    "print(t)\n",
    "print(x)"
   ]
  },
  {
   "attachments": {},
   "cell_type": "markdown",
   "metadata": {},
   "source": [
    "`pop` modifies the list and returns the element that was removed. If you don’t provide an index, it deletes and returns the last element.\n",
    "\n",
    "If you don’t need the removed value, you can use the `del` statement:"
   ]
  },
  {
   "cell_type": "code",
   "execution_count": null,
   "metadata": {},
   "outputs": [],
   "source": [
    "t = ['a', 'b', 'c']\n",
    "del t[1]\n",
    "print(t)"
   ]
  },
  {
   "attachments": {},
   "cell_type": "markdown",
   "metadata": {},
   "source": [
    "If you know the element you want to remove (but not the index), you can use `remove`:"
   ]
  },
  {
   "cell_type": "code",
   "execution_count": null,
   "metadata": {},
   "outputs": [],
   "source": [
    "t = ['a', 'b', 'c', 'b']\n",
    "t.remove('b')\n",
    "print(t)"
   ]
  },
  {
   "attachments": {},
   "cell_type": "markdown",
   "metadata": {},
   "source": [
    "The return value from `remove` is `None`. Note that `remove` removed only the first occurence.\n",
    "\n",
    "To remove more than one element, you can use `del` with a slice index:"
   ]
  },
  {
   "cell_type": "code",
   "execution_count": null,
   "metadata": {},
   "outputs": [],
   "source": [
    "t = ['a', 'b', 'c', 'd', 'e', 'f']\n",
    "del t[1:5]\n",
    "print(t)"
   ]
  },
  {
   "attachments": {},
   "cell_type": "markdown",
   "metadata": {},
   "source": [
    "As usual, the slice selects all the elements up to, but not including, the second index."
   ]
  },
  {
   "cell_type": "markdown",
   "metadata": {},
   "source": [
    "**Exercise 6.5**\n",
    "\n",
    "Practice the use of `pop` `del` `remove` on the list `cities`."
   ]
  },
  {
   "cell_type": "code",
   "execution_count": 29,
   "metadata": {},
   "outputs": [
    {
     "name": "stdout",
     "output_type": "stream",
     "text": [
      "[] Amsterdam\n"
     ]
    }
   ],
   "source": [
    "cities = ['Amsterdam', 'Breda', 'Eindhoven']\n",
    "popped = cities.pop(0)\n",
    "del cities[1]\n",
    "cities.remove('Breda')\n",
    "\n",
    "print(cities, popped)"
   ]
  },
  {
   "attachments": {},
   "cell_type": "markdown",
   "metadata": {},
   "source": [
    "## 6.7 Lists and functions"
   ]
  },
  {
   "attachments": {},
   "cell_type": "markdown",
   "metadata": {},
   "source": [
    "There are a number of built-in functions that can be used on lists that allow you to quickly look through a list without writing your own loops:"
   ]
  },
  {
   "cell_type": "code",
   "execution_count": null,
   "metadata": {},
   "outputs": [],
   "source": [
    "nums = [3, 41, 12, 9, 74, 15]"
   ]
  },
  {
   "cell_type": "code",
   "execution_count": null,
   "metadata": {},
   "outputs": [],
   "source": [
    "len(nums)"
   ]
  },
  {
   "cell_type": "code",
   "execution_count": null,
   "metadata": {},
   "outputs": [],
   "source": [
    "max(nums)"
   ]
  },
  {
   "cell_type": "code",
   "execution_count": null,
   "metadata": {},
   "outputs": [],
   "source": [
    "min(nums)"
   ]
  },
  {
   "cell_type": "code",
   "execution_count": null,
   "metadata": {},
   "outputs": [],
   "source": [
    "sum(nums)"
   ]
  },
  {
   "attachments": {},
   "cell_type": "markdown",
   "metadata": {},
   "source": [
    "**Exercise 6.6**\n",
    "\n",
    "Write a function that takes in a list of integers as its argument and returns their average.\n",
    "\n",
    "Input/Output examples:\n",
    "\n",
    "- avg_calculator([3, 41, 12, 9, 74, 15]) -> 25.667\n",
    "- avg_calculator([0, 100]) -> 50.0"
   ]
  },
  {
   "cell_type": "code",
   "execution_count": 35,
   "metadata": {},
   "outputs": [
    {
     "name": "stdout",
     "output_type": "stream",
     "text": [
      "25.666666666666668\n"
     ]
    }
   ],
   "source": [
    "def average(integerList):\n",
    "    totalNumber = 0\n",
    "\n",
    "    for number in integerList:\n",
    "        totalNumber += number\n",
    "    \n",
    "    return totalNumber / len(integerList)\n",
    "\n",
    "print(average([3, 41, 12, 9, 74, 15]))"
   ]
  },
  {
   "attachments": {},
   "cell_type": "markdown",
   "metadata": {},
   "source": [
    "## 6.8 Lists and strings"
   ]
  },
  {
   "attachments": {},
   "cell_type": "markdown",
   "metadata": {},
   "source": [
    "A string is a sequence of characters and a list is a sequence of values, but a list of characters is not the same as a string. To convert from a string to a list of characters, you can use `list`:"
   ]
  },
  {
   "cell_type": "code",
   "execution_count": 39,
   "metadata": {},
   "outputs": [
    {
     "name": "stdout",
     "output_type": "stream",
     "text": [
      "['s', 'p', 'a', 'm']\n"
     ]
    }
   ],
   "source": [
    "s = 'spam'\n",
    "t = list(s)\n",
    "print(t)"
   ]
  },
  {
   "attachments": {},
   "cell_type": "markdown",
   "metadata": {},
   "source": [
    "Because `list` is the name of a built-in function, you should avoid using it as a variable name. I also avoid the letter “l” because it looks too much like the number “1”. So that’s why I use “t”.\n",
    "\n",
    "The `list` function breaks a string into individual letters. If you want to break a string into words, you can use the `split` method:"
   ]
  },
  {
   "cell_type": "code",
   "execution_count": null,
   "metadata": {},
   "outputs": [],
   "source": [
    "s = 'pining for the fjords'\n",
    "t = s.split()\n",
    "print(t)"
   ]
  },
  {
   "attachments": {},
   "cell_type": "markdown",
   "metadata": {},
   "source": [
    "You can call `split` with an optional argument called a _delimiter_ that specifies which characters to use as word boundaries. The following example uses a hyphen as a delimiter:"
   ]
  },
  {
   "cell_type": "code",
   "execution_count": null,
   "metadata": {},
   "outputs": [],
   "source": [
    "s = 'spam-spam-spam'\n",
    "delimiter = '-'\n",
    "s.split(delimiter)"
   ]
  },
  {
   "attachments": {},
   "cell_type": "markdown",
   "metadata": {},
   "source": [
    "`join` is the inverse of `split`. It takes a list of strings and concatenates the elements. `join` is a string method, so you have to invoke it on the delimiter and pass the list as a parameter:"
   ]
  },
  {
   "cell_type": "code",
   "execution_count": null,
   "metadata": {},
   "outputs": [],
   "source": [
    "t = ['pining', 'for', 'the', 'fjords']\n",
    "delimiter = ' '\n",
    "delimiter.join(t)"
   ]
  },
  {
   "attachments": {},
   "cell_type": "markdown",
   "metadata": {},
   "source": [
    "In this case the delimiter is a space character, so `join` puts a space between words. To concatenate strings without spaces, you can use the empty string, `''`, as a delimiter."
   ]
  },
  {
   "cell_type": "code",
   "execution_count": null,
   "metadata": {},
   "outputs": [],
   "source": [
    "t = ['pining', 'for', 'the', 'fjords']\n",
    "delimiter = ''\n",
    "delimiter.join(t)"
   ]
  },
  {
   "cell_type": "markdown",
   "metadata": {},
   "source": [
    "**Exercise 6.7**\n",
    "\n",
    "Count the number of words in a string. Don't use any loops."
   ]
  },
  {
   "cell_type": "code",
   "execution_count": 41,
   "metadata": {},
   "outputs": [
    {
     "data": {
      "text/plain": [
       "4"
      ]
     },
     "execution_count": 41,
     "metadata": {},
     "output_type": "execute_result"
    }
   ],
   "source": [
    "s = 'pining for the fjords'\n",
    "len(s.split())"
   ]
  },
  {
   "attachments": {},
   "cell_type": "markdown",
   "metadata": {},
   "source": [
    "## 6.9 Objects and values"
   ]
  },
  {
   "attachments": {},
   "cell_type": "markdown",
   "metadata": {},
   "source": [
    "If we execute these assignment statements:"
   ]
  },
  {
   "cell_type": "code",
   "execution_count": null,
   "metadata": {},
   "outputs": [],
   "source": [
    "a = 'banana'\n",
    "b = 'banana'"
   ]
  },
  {
   "attachments": {},
   "cell_type": "markdown",
   "metadata": {},
   "source": [
    "we know that `a` and `b` both refer to a string, but we don’t know whether they refer to the _same_ string. There are two possible states:"
   ]
  },
  {
   "attachments": {},
   "cell_type": "markdown",
   "metadata": {},
   "source": [
    "![](https://www.py4e.com/images/list1.svg)"
   ]
  },
  {
   "attachments": {},
   "cell_type": "markdown",
   "metadata": {},
   "source": [
    "In the first state (left), `a` and `b` refer to two different objects that have the same value. In the second state (right), they refer to the same object.\n",
    "\n",
    "To check whether two variables refer to the same object, you can use the `is` operator."
   ]
  },
  {
   "cell_type": "code",
   "execution_count": 44,
   "metadata": {},
   "outputs": [
    {
     "data": {
      "text/plain": [
       "True"
      ]
     },
     "execution_count": 44,
     "metadata": {},
     "output_type": "execute_result"
    }
   ],
   "source": [
    "a = 'banana'\n",
    "b = 'banana'\n",
    "a is b"
   ]
  },
  {
   "cell_type": "markdown",
   "metadata": {},
   "source": [
    "In this example, Python only created one string object, and both `a` and `b` refer to it. So we have the state on the right.\n",
    "\n",
    "We can use the built-in `id` function to check the id the of an object. Object id is unique. So if we get the same id's that means they are the same objects."
   ]
  },
  {
   "cell_type": "code",
   "execution_count": 45,
   "metadata": {},
   "outputs": [
    {
     "data": {
      "text/plain": [
       "2041689094640"
      ]
     },
     "execution_count": 45,
     "metadata": {},
     "output_type": "execute_result"
    }
   ],
   "source": [
    "id(a)"
   ]
  },
  {
   "cell_type": "code",
   "execution_count": 46,
   "metadata": {},
   "outputs": [
    {
     "data": {
      "text/plain": [
       "2041689094640"
      ]
     },
     "execution_count": 46,
     "metadata": {},
     "output_type": "execute_result"
    }
   ],
   "source": [
    "id(b)"
   ]
  },
  {
   "attachments": {},
   "cell_type": "markdown",
   "metadata": {},
   "source": [
    "\n",
    "But when you create two lists, you get two objects:"
   ]
  },
  {
   "cell_type": "code",
   "execution_count": 47,
   "metadata": {},
   "outputs": [
    {
     "data": {
      "text/plain": [
       "False"
      ]
     },
     "execution_count": 47,
     "metadata": {},
     "output_type": "execute_result"
    }
   ],
   "source": [
    "a = [1, 2, 3]\n",
    "b = [1, 2, 3]\n",
    "a is b"
   ]
  },
  {
   "cell_type": "code",
   "execution_count": 48,
   "metadata": {},
   "outputs": [
    {
     "data": {
      "text/plain": [
       "2041693804096"
      ]
     },
     "execution_count": 48,
     "metadata": {},
     "output_type": "execute_result"
    }
   ],
   "source": [
    "id(a)"
   ]
  },
  {
   "cell_type": "code",
   "execution_count": 49,
   "metadata": {},
   "outputs": [
    {
     "data": {
      "text/plain": [
       "2041695015040"
      ]
     },
     "execution_count": 49,
     "metadata": {},
     "output_type": "execute_result"
    }
   ],
   "source": [
    "id(b)"
   ]
  },
  {
   "attachments": {},
   "cell_type": "markdown",
   "metadata": {},
   "source": [
    "In this case we would say that the two lists are _equivalent_, because they have the same elements, but not _identical_, because they are not the same object. If two objects are identical, they are also equivalent, but if they are equivalent, they are not necessarily identical.\n",
    "\n",
    "Until now, we have been using “object” and “value” interchangeably, but it is more precise to say that an object has a value. If you execute `a = [1,2,3]`, `a` refers to a list object whose value is a particular sequence of elements. If another list has the same elements, we would say it has the same value. So `a` and `b` are _different_ _objects_ with the _same_ _value_.\n",
    "\n",
    "Note that the `==` operator compares values. So despite the fact that `a is b` returns `False`, `a == b` will return `True`."
   ]
  },
  {
   "cell_type": "code",
   "execution_count": 50,
   "metadata": {},
   "outputs": [
    {
     "data": {
      "text/plain": [
       "True"
      ]
     },
     "execution_count": 50,
     "metadata": {},
     "output_type": "execute_result"
    }
   ],
   "source": [
    "a = [1, 2, 3]\n",
    "b = [1, 2, 3]\n",
    "a == b"
   ]
  },
  {
   "cell_type": "markdown",
   "metadata": {},
   "source": [
    "**Exercise 6.8**"
   ]
  },
  {
   "cell_type": "markdown",
   "metadata": {},
   "source": [
    "Check if\\ `num1` and `num2` refer to the same object or not?"
   ]
  },
  {
   "cell_type": "code",
   "execution_count": 51,
   "metadata": {},
   "outputs": [
    {
     "name": "stdout",
     "output_type": "stream",
     "text": [
      "140722507561688 140722507561688\n"
     ]
    }
   ],
   "source": [
    "num1 = 10\n",
    "num2 = 10\n",
    "print(id(num1), id(num2))"
   ]
  },
  {
   "attachments": {},
   "cell_type": "markdown",
   "metadata": {},
   "source": [
    "## 6.10 Aliasing"
   ]
  },
  {
   "attachments": {},
   "cell_type": "markdown",
   "metadata": {},
   "source": [
    "If `a` refers to an object and you assign `b = a`, then both variables refer to the same object:"
   ]
  },
  {
   "cell_type": "code",
   "execution_count": null,
   "metadata": {},
   "outputs": [],
   "source": [
    "a = [1, 2, 3]\n",
    "b = a\n",
    "a is b"
   ]
  },
  {
   "attachments": {},
   "cell_type": "markdown",
   "metadata": {},
   "source": [
    "The association of a variable with an object is called a _reference_. In this example, there are two references to the same object.\n",
    "\n",
    "An object with more than one reference has more than one name, so we say that the object is _aliased_.\n",
    "\n",
    "❗If the aliased object is mutable, changes made with one alias affect the other❗"
   ]
  },
  {
   "cell_type": "code",
   "execution_count": null,
   "metadata": {},
   "outputs": [],
   "source": [
    "a = [1, 2, 3]\n",
    "b = a\n",
    "b[0] = 17 # the change we make in b\n",
    "a # changes a"
   ]
  },
  {
   "attachments": {},
   "cell_type": "markdown",
   "metadata": {},
   "source": [
    "Although this behavior can be useful, it is error-prone. In general, it is safer to avoid aliasing when you are working with mutable objects.\n",
    "\n",
    "For immutable objects like strings, aliasing is not as much of a problem. In this example:"
   ]
  },
  {
   "cell_type": "code",
   "execution_count": null,
   "metadata": {},
   "outputs": [],
   "source": [
    "a = 'banana'\n",
    "b = 'banana'"
   ]
  },
  {
   "attachments": {},
   "cell_type": "markdown",
   "metadata": {},
   "source": [
    "it almost never makes a difference whether `a` and `b` refer to the same string or not."
   ]
  },
  {
   "attachments": {},
   "cell_type": "markdown",
   "metadata": {},
   "source": [
    "## 6.11 List arguments"
   ]
  },
  {
   "attachments": {},
   "cell_type": "markdown",
   "metadata": {},
   "source": [
    "Revise the discussion in section 3.13 Variable scope and lifetime before reading this section.\n",
    "\n",
    "When you pass a list to a function, the function gets a reference to the list. If the function modifies a list parameter, the caller sees the change. For example, `delete_head` removes the first element from a list:"
   ]
  },
  {
   "cell_type": "code",
   "execution_count": null,
   "metadata": {},
   "outputs": [],
   "source": [
    "def delete_head(t):\n",
    "    del t[0]"
   ]
  },
  {
   "attachments": {},
   "cell_type": "markdown",
   "metadata": {},
   "source": [
    "Here’s how it is used:"
   ]
  },
  {
   "cell_type": "code",
   "execution_count": null,
   "metadata": {},
   "outputs": [],
   "source": [
    "letters = ['a', 'b', 'c']\n",
    "delete_head(letters)\n",
    "print(letters)"
   ]
  },
  {
   "attachments": {},
   "cell_type": "markdown",
   "metadata": {},
   "source": [
    "The parameter `t` and the variable `letters` are aliases for the same object.\n",
    "\n",
    "It is important to distinguish between operations that modify lists and operations that create new lists. For example, the `append` method modifies a list, but the `+` operator creates a new list:"
   ]
  },
  {
   "cell_type": "code",
   "execution_count": null,
   "metadata": {},
   "outputs": [],
   "source": [
    "t1 = [1, 2]\n",
    "t2 = t1.append(3)\n",
    "print(f't1 is {t1}')\n",
    "print(f't2 is {t2}')"
   ]
  },
  {
   "cell_type": "code",
   "execution_count": null,
   "metadata": {},
   "outputs": [],
   "source": [
    "t1 = [1, 2]\n",
    "t2 = t1 + [3]\n",
    "print(f't1 is {t1}')\n",
    "print(f't2 is {t2}')"
   ]
  },
  {
   "attachments": {},
   "cell_type": "markdown",
   "metadata": {},
   "source": [
    "This difference is important when you write functions that are supposed to modify lists. For example, this function does not delete the head of a list:"
   ]
  },
  {
   "cell_type": "code",
   "execution_count": null,
   "metadata": {},
   "outputs": [],
   "source": [
    "def bad_delete_head(t):\n",
    "    t = t[1:]              # WRONG!"
   ]
  },
  {
   "attachments": {},
   "cell_type": "markdown",
   "metadata": {},
   "source": [
    "The slice operator creates a new list and the assignment makes `t` refer to it, but none of that has any effect on the list that was passed as an argument."
   ]
  },
  {
   "cell_type": "code",
   "execution_count": null,
   "metadata": {},
   "outputs": [],
   "source": [
    "t = [1, 2, 3]\n",
    "bad_delete_head(t)\n",
    "print(t)"
   ]
  },
  {
   "attachments": {},
   "cell_type": "markdown",
   "metadata": {},
   "source": [
    "An alternative is to write a function that creates and returns a new list. For example, `tail` returns all but the first element of a list:"
   ]
  },
  {
   "cell_type": "code",
   "execution_count": null,
   "metadata": {},
   "outputs": [],
   "source": [
    "def tail(t):\n",
    "    return t[1:]"
   ]
  },
  {
   "attachments": {},
   "cell_type": "markdown",
   "metadata": {},
   "source": [
    "This function leaves the original list unmodified. Here’s how it is used:"
   ]
  },
  {
   "cell_type": "code",
   "execution_count": null,
   "metadata": {},
   "outputs": [],
   "source": [
    "letters = ['a', 'b', 'c']\n",
    "rest = tail(letters)\n",
    "print(f'letters is {letters}')\n",
    "print(f'rest is {rest}')"
   ]
  },
  {
   "attachments": {},
   "cell_type": "markdown",
   "metadata": {},
   "source": [
    "**Exercise 6.9**\n",
    "\n",
    "Write a function called `chop` that takes a list and modifies it, removing the first and last elements, and returns `None`. Then write a function called `middle` that takes a list and returns a new list that contains all but the first and last elements. Which function has side effects?"
   ]
  },
  {
   "cell_type": "code",
   "execution_count": 61,
   "metadata": {},
   "outputs": [
    {
     "name": "stdout",
     "output_type": "stream",
     "text": [
      "None [2, 3, 4]\n"
     ]
    }
   ],
   "source": [
    "def chop(listToModify):\n",
    "    del listToModify[0]\n",
    "    del listToModify[-1]\n",
    "    return None\n",
    "\n",
    "def middle(listToModify):\n",
    "    del listToModify[0]\n",
    "    del listToModify[-1]\n",
    "\n",
    "    newList = listToModify\n",
    "\n",
    "    return newList\n",
    "\n",
    "print(chop([1, 2, 3, 4, 5]), middle([1, 2, 3, 4, 5]))"
   ]
  },
  {
   "attachments": {},
   "cell_type": "markdown",
   "metadata": {},
   "source": [
    "## 6.12 List comprehension"
   ]
  },
  {
   "attachments": {},
   "cell_type": "markdown",
   "metadata": {},
   "source": [
    "Python list comprehension is a concise and powerful way to create lists in Python. It allows you to generate a new list by applying an expression or transformation to each element of an existing iterable, such as another list, a string, or a range of numbers. The resulting list comprehension is created in a single line of code and often replaces the need for traditional for loops.\n",
    "\n",
    "The basic syntax of a list comprehension is as follows:\n",
    "\n",
    "```python\n",
    "new_list = [expression for element in iterable if condition]\n",
    "```"
   ]
  },
  {
   "attachments": {},
   "cell_type": "markdown",
   "metadata": {},
   "source": [
    "Let's break down each component:\n",
    "\n",
    "- `expression`: This is the transformation or operation to be applied to each element in the iterable. It can be any valid Python expression, including calculations, function calls, or even conditional expressions.\n",
    "- `element`: It represents the current element in the iteration. You can choose any name you like for this variable.\n",
    "- `iterable`: This is the source of elements from which the list comprehension generates the new list. It can be a list, tuple, string, range, or any other iterable object.\n",
    "- `if` condition (optional): This is an optional component that allows you to include only the elements that satisfy a specific condition. The condition can be any valid Python expression that evaluates to either `True` or `False`.\n",
    "\n",
    "Here are to examples to illustrate the concept."
   ]
  },
  {
   "cell_type": "code",
   "execution_count": null,
   "metadata": {},
   "outputs": [],
   "source": [
    "numbers = [1, 2, 3, 4, 5, 6, 7, 8, 9, 10]\n",
    "\n",
    "# Generate a new list containing the squares of numbers\n",
    "squares = [x**2 for x in numbers]\n",
    "\n",
    "print(squares)"
   ]
  },
  {
   "attachments": {},
   "cell_type": "markdown",
   "metadata": {},
   "source": [
    "In the example above, we iterate over the `numbers` list, assign each element to the variable `x`, and apply the expression `x**2` to square each element. Let's see how we do this only for even numbers:"
   ]
  },
  {
   "cell_type": "code",
   "execution_count": null,
   "metadata": {},
   "outputs": [],
   "source": [
    "numbers = [1, 2, 3, 4, 5, 6, 7, 8, 9, 10]\n",
    "\n",
    "squares_of_evens = [x**2 for x in numbers if x % 2 == 0] # if statement added\n",
    "\n",
    "print(squares_of_evens)"
   ]
  },
  {
   "attachments": {},
   "cell_type": "markdown",
   "metadata": {},
   "source": [
    "List comprehensions provide a concise and readable way to generate lists by combining iteration, transformation, and conditional filtering. They are often used in Python for tasks such as data processing, filtering, mapping, and more."
   ]
  },
  {
   "cell_type": "markdown",
   "metadata": {},
   "source": [
    "**Exercise 6.10**\n",
    "\n",
    "Write a list comprehension to flatten a list of lists.\n",
    "\n",
    "[[1, 2], [3, 4]] -> [1, 2, 3 ,4]"
   ]
  },
  {
   "cell_type": "code",
   "execution_count": 67,
   "metadata": {},
   "outputs": [
    {
     "name": "stdout",
     "output_type": "stream",
     "text": [
      "[1, 2, 3, 4]\n"
     ]
    }
   ],
   "source": [
    "t = [[1, 2], [3 ,4]]\n",
    "combination = [number for sublist in t for number in sublist]\n",
    "print(combination)"
   ]
  },
  {
   "attachments": {},
   "cell_type": "markdown",
   "metadata": {},
   "source": [
    "## 6.13 Debugging"
   ]
  },
  {
   "attachments": {},
   "cell_type": "markdown",
   "metadata": {},
   "source": [
    "Careless use of lists (and other mutable objects) can lead to long hours of debugging. Here are some common pitfalls and ways to avoid them:"
   ]
  },
  {
   "attachments": {},
   "cell_type": "markdown",
   "metadata": {},
   "source": [
    "1. Don’t forget that most list methods modify the argument and return `None`. This is the opposite of the string methods, which return a new string and leave the original alone."
   ]
  },
  {
   "cell_type": "code",
   "execution_count": null,
   "metadata": {},
   "outputs": [],
   "source": [
    "word = ' Hi'\n",
    "word = word.strip()\n",
    "print(word)"
   ]
  },
  {
   "cell_type": "code",
   "execution_count": null,
   "metadata": {},
   "outputs": [],
   "source": [
    "t = [2, 1, 3]\n",
    "t = t.sort() # wrong!\n",
    "print(t)"
   ]
  },
  {
   "attachments": {},
   "cell_type": "markdown",
   "metadata": {},
   "source": [
    "Before using list methods and operators, you should read the documentation carefully and then test them. The methods and operators that lists share with other sequences (like strings) are documented at:\n",
    "\n",
    "https://docs.python.org/3/library/stdtypes.html#common-sequence-operations\n",
    "\n",
    "The methods and operators that only apply to mutable sequences are documented at:\n",
    "\n",
    "https://docs.python.org/3/library/stdtypes.html#mutable-sequence-types\n",
    "\n",
    "This is true in general, test the functions and methods you are using for the first time, to make sure they do what you assume."
   ]
  },
  {
   "attachments": {},
   "cell_type": "markdown",
   "metadata": {},
   "source": [
    "2. Pick an idiom and stick with it."
   ]
  },
  {
   "attachments": {},
   "cell_type": "markdown",
   "metadata": {},
   "source": [
    "Part of the problem with lists is that there are too many ways to do things. For example, to remove an element from a list, you can use `pop`, `remove`, `del`, or even a slice assignment.\n",
    "\n",
    "To add an element, you can use the `append` method or the `+` operator. But don’t forget that these are right:\n",
    "\n",
    "```python\n",
    "t.append(x)\n",
    "t = t + [x]\n",
    "```\n",
    "\n",
    "And these are wrong:\n",
    "\n",
    "```python\n",
    "t.append([x])          # WRONG!\n",
    "t = t.append(x)        # WRONG!\n",
    "t + [x]                # WRONG!\n",
    "t = t + x              # WRONG!\n",
    "```"
   ]
  },
  {
   "attachments": {},
   "cell_type": "markdown",
   "metadata": {},
   "source": [
    "**Exercise 6.11**\n",
    "\n",
    "Try out each of these examples to make sure you understand what they do. Notice that only the last one causes a runtime error; the other three are legal, but they do the wrong thing."
   ]
  },
  {
   "cell_type": "code",
   "execution_count": 68,
   "metadata": {},
   "outputs": [
    {
     "name": "stdout",
     "output_type": "stream",
     "text": [
      "[1, 2, 3, 4]\n",
      "[1, 2, 3, 4, 4]\n"
     ]
    }
   ],
   "source": [
    "t = [1, 2, 3]\n",
    "x = 4\n",
    "\n",
    "t.append(x)\n",
    "print(t)\n",
    "t = t + [x]\n",
    "print(t)"
   ]
  },
  {
   "attachments": {},
   "cell_type": "markdown",
   "metadata": {},
   "source": [
    "3. Make copies to avoid aliasing."
   ]
  },
  {
   "attachments": {},
   "cell_type": "markdown",
   "metadata": {},
   "source": [
    "If you want to use a method like `sort` that modifies the argument, but you need to keep the original list as well, you can make a copy."
   ]
  },
  {
   "cell_type": "code",
   "execution_count": null,
   "metadata": {},
   "outputs": [],
   "source": [
    "t = [2, 3, 1]\n",
    "original = t[:]\n",
    "t.sort()\n",
    "print(f'original is {original}')\n",
    "print(f't is {t}')"
   ]
  },
  {
   "attachments": {},
   "cell_type": "markdown",
   "metadata": {},
   "source": [
    "you could also use the `copy` method. It is better because it works with other data structures (e.g. dictionaries, tuples).\n",
    "\n",
    "Here is the documentation: https://docs.python.org/3/library/copy.html"
   ]
  },
  {
   "cell_type": "code",
   "execution_count": null,
   "metadata": {},
   "outputs": [],
   "source": [
    "t = [2, 3, 1]\n",
    "original = t.copy()\n",
    "t.sort()\n",
    "print(f'original is {original}')\n",
    "print(f't is {t}')"
   ]
  },
  {
   "attachments": {},
   "cell_type": "markdown",
   "metadata": {},
   "source": [
    "In this example you could also use the built-in function `sorted`, which returns a new, sorted list and leaves the original alone."
   ]
  },
  {
   "cell_type": "code",
   "execution_count": null,
   "metadata": {},
   "outputs": [],
   "source": [
    "t = [2, 3, 1]\n",
    "sorted_t = sorted(t)\n",
    "print(f't is {t}')\n",
    "print(f'sorted_t is {sorted_t}')"
   ]
  },
  {
   "attachments": {},
   "cell_type": "markdown",
   "metadata": {},
   "source": [
    "## 6.14 Exercises"
   ]
  },
  {
   "attachments": {},
   "cell_type": "markdown",
   "metadata": {},
   "source": [
    "**Exercise 6.12**\n",
    "\n",
    "Write a function called `unique_words` that accepts a single string and returns unique words as a list.\n",
    "\n",
    "Requirements\n",
    "\n",
    "- The function should work with strings that contain a single sentence as well as multiple sentences.\n",
    "- The input string can contain commas and dots, but no other punctuation.\n",
    "- The function should be case-insensitive, i.e. 'Hello' and 'hello' should be considered same words.\n",
    "\n",
    "Example Input/Output pairs:\n",
    "\n",
    "- `unique_words('There is a bug in my code.')` -> `['there', 'is', 'a', 'bug', 'in', 'my', 'code']`\n",
    "- `unique_words('Hello world, hello. Hola.')` -> `['hello', 'world', 'hola']`"
   ]
  },
  {
   "cell_type": "code",
   "execution_count": 151,
   "metadata": {},
   "outputs": [
    {
     "name": "stdout",
     "output_type": "stream",
     "text": [
      "['dit', 'is', 'een', 'mooie,', 'leuke', 'string', 'string.']\n"
     ]
    }
   ],
   "source": [
    "def unique_words(singleString):\n",
    "    forbiddenPunctuations = ['?', '!', ':', ';', '-', '[', ']', '{', '}', '(', ')', '\"', '\"\"', \"'\", \"''\", '...'] #List containing all the forbidden punctuations\n",
    "    wordList = [] #List that will contain all allowed words or letters\n",
    "\n",
    "    for word in singleString.lower().split(): #Loop that will go through all words from the given string\n",
    "        found = False\n",
    "        forbiddenPunctuationFound = False\n",
    "\n",
    "        for punctuation in forbiddenPunctuations: #Check for forbidden loose punctuations in the string\n",
    "            if word == punctuation:\n",
    "                forbiddenPunctuationFound = True\n",
    "\n",
    "        if forbiddenPunctuationFound == True: continue\n",
    "        \n",
    "        for letter in word: #Check for forbidden punctuations attached to a word in the string\n",
    "            for punctuation in forbiddenPunctuations:\n",
    "                if letter == punctuation:\n",
    "                    word = word.replace(letter, '')\n",
    "        \n",
    "        if len(wordList) > 0:\n",
    "            for appendedWord in wordList: #Check if the word already exists in the wordList list\n",
    "                if word == appendedWord:\n",
    "                    found = True\n",
    "\n",
    "            if found == False: wordList.append(word) #If everything is alright, the word will be appended to the wordList list\n",
    "        else:\n",
    "            wordList.append(word) #If no words are present in the wordList list, the word will automatically be appended\n",
    "\n",
    "    return wordList\n",
    "\n",
    "print(unique_words('dit?! is ! een mooie:, \"\" leuke string string!.'))"
   ]
  },
  {
   "attachments": {},
   "cell_type": "markdown",
   "metadata": {},
   "source": []
  }
 ],
 "metadata": {
  "kernelspec": {
   "display_name": "Python 3",
   "language": "python",
   "name": "python3"
  },
  "language_info": {
   "codemirror_mode": {
    "name": "ipython",
    "version": 3
   },
   "file_extension": ".py",
   "mimetype": "text/x-python",
   "name": "python",
   "nbconvert_exporter": "python",
   "pygments_lexer": "ipython3",
   "version": "3.12.1"
  },
  "orig_nbformat": 4
 },
 "nbformat": 4,
 "nbformat_minor": 2
}
