{
 "cells": [
  {
   "attachments": {},
   "cell_type": "markdown",
   "metadata": {},
   "source": [
    "## 3. Functions"
   ]
  },
  {
   "attachments": {},
   "cell_type": "markdown",
   "metadata": {},
   "source": [
    "Here is the table of contents for this notebok:\n",
    "\n",
    "- 3.1 Function calls\n",
    "- 3.2 Built-in functions\n",
    "- 3.3 Type conversion functions\n",
    "- 3.4 Math functions\n",
    "- 3.5 Random numbers\n",
    "- 3.6 Python Standard Library\n",
    "- 3.7 The `import` statement\n",
    "- 3.8 Defining functions\n",
    "- 3.9 Parameters and arguments\n",
    "- 3.10 Return\n",
    "- 3.11 Default values\n",
    "- 3.12 Docstring\n",
    "- 3.13 Variable scope and lifetime\n",
    "- 3.14 Why functions?\n",
    "- 3.15 Functional decomposition\n",
    "- 3.16 Exercises"
   ]
  },
  {
   "attachments": {},
   "cell_type": "markdown",
   "metadata": {},
   "source": [
    "## 3.1 Function calls"
   ]
  },
  {
   "attachments": {},
   "cell_type": "markdown",
   "metadata": {},
   "source": [
    "In the context of programming, a _function_ is a named sequence of statements that performs a computation. When you define a function, you specify the name and the sequence of statements. Later, you can “call” the function by name. We have already seen one example of a _function call_:"
   ]
  },
  {
   "cell_type": "code",
   "execution_count": null,
   "metadata": {},
   "outputs": [],
   "source": [
    "type(32)"
   ]
  },
  {
   "attachments": {},
   "cell_type": "markdown",
   "metadata": {},
   "source": [
    "The name of the function is `type`. The expression in parentheses is called the _argument_ of the function. The argument is a value or variable that we are passing into the function as input to the function. The result, for the `type` function, is the type of the argument.\n",
    "\n",
    "It is common to say that a function “takes” an argument and “returns” a result. The result is called the _return value_."
   ]
  },
  {
   "attachments": {},
   "cell_type": "markdown",
   "metadata": {},
   "source": [
    "## 3.2 Built-in functions"
   ]
  },
  {
   "attachments": {},
   "cell_type": "markdown",
   "metadata": {},
   "source": [
    "Python provides a number of important built-in functions that we can use without needing to provide the function definition. The creators of Python wrote a set of functions to solve common problems and included them in Python for us to use.\n",
    "\n",
    "The `max` and `min` functions give us the largest and smallest values in the input, respectively:"
   ]
  },
  {
   "cell_type": "code",
   "execution_count": null,
   "metadata": {},
   "outputs": [],
   "source": [
    "max('zebra')"
   ]
  },
  {
   "cell_type": "code",
   "execution_count": null,
   "metadata": {},
   "outputs": [],
   "source": [
    "min('zebra')"
   ]
  },
  {
   "attachments": {},
   "cell_type": "markdown",
   "metadata": {},
   "source": [
    "The `max` function tells us the “largest character” in the string (which turns out to be the letter “z”) and the `min` function shows us the smallest character (which turns out to be the letter “a”)."
   ]
  },
  {
   "cell_type": "markdown",
   "metadata": {},
   "source": [
    "**Exercise 3.1**\n",
    "\n",
    "Use the `max` and `min` functions to find the largest and smallest characters in your name:"
   ]
  },
  {
   "cell_type": "code",
   "execution_count": 1,
   "metadata": {},
   "outputs": [
    {
     "name": "stdout",
     "output_type": "stream",
     "text": [
      "u L\n"
     ]
    }
   ],
   "source": [
    "print(max('Laurens'), min('Laurens'))"
   ]
  },
  {
   "attachments": {},
   "cell_type": "markdown",
   "metadata": {},
   "source": [
    "These functions can also be applied to a sequence of numbers:"
   ]
  },
  {
   "cell_type": "code",
   "execution_count": null,
   "metadata": {},
   "outputs": [],
   "source": [
    "max([5, 7, 8, 1])"
   ]
  },
  {
   "attachments": {},
   "cell_type": "markdown",
   "metadata": {},
   "source": [
    "### A short introduction to lists\n",
    "\n",
    "`[5, 7, 8, 1]` is a _list_. We will have a separate notebook covering lists in detail. But for now we will introduces lists briefly.\n",
    "\n",
    "A list is a sequence of values. The values in list are called _elements_ or sometimes _items_. They can be of any type. There are several ways to create a new list; the simplest is to enclose the elements in square brackets (“[” and ”]”):"
   ]
  },
  {
   "cell_type": "code",
   "execution_count": null,
   "metadata": {},
   "outputs": [],
   "source": [
    "[10, 20, 30, 40]"
   ]
  },
  {
   "cell_type": "code",
   "execution_count": null,
   "metadata": {},
   "outputs": [],
   "source": [
    "['crunchy frog', 'ram bladder', 'lark vomit']"
   ]
  },
  {
   "attachments": {},
   "cell_type": "markdown",
   "metadata": {},
   "source": [
    "The first example is a list of four integers. The second is a list of three strings. The elements of a list don’t have to be the same type. The following list contains a string, a float, an integer, and another list:"
   ]
  },
  {
   "cell_type": "code",
   "execution_count": null,
   "metadata": {},
   "outputs": [],
   "source": [
    "['spam', 2.0, 5, [10, 20]]"
   ]
  },
  {
   "attachments": {},
   "cell_type": "markdown",
   "metadata": {},
   "source": [
    "As you might expect, you can assign list values to variables:"
   ]
  },
  {
   "cell_type": "code",
   "execution_count": 2,
   "metadata": {},
   "outputs": [
    {
     "name": "stdout",
     "output_type": "stream",
     "text": [
      "['Cheddar', 'Edam', 'Gouda'] [17, 123]\n"
     ]
    }
   ],
   "source": [
    "cheeses = ['Cheddar', 'Edam', 'Gouda']\n",
    "numbers = [17, 123]\n",
    "print(cheeses, numbers)"
   ]
  },
  {
   "attachments": {},
   "cell_type": "markdown",
   "metadata": {},
   "source": [
    "Let's get back to built-in functions. Another very common built-in function is the `len` function which tells us how many items are in its argument. If the argument to `len` is a string, it returns the number of characters in the string."
   ]
  },
  {
   "cell_type": "code",
   "execution_count": 3,
   "metadata": {},
   "outputs": [
    {
     "data": {
      "text/plain": [
       "11"
      ]
     },
     "execution_count": 3,
     "metadata": {},
     "output_type": "execute_result"
    }
   ],
   "source": [
    "len('Hello world')"
   ]
  },
  {
   "attachments": {},
   "cell_type": "markdown",
   "metadata": {},
   "source": [
    "`len` can also be applied to lists, which calculates how many items a list contains:"
   ]
  },
  {
   "cell_type": "code",
   "execution_count": null,
   "metadata": {},
   "outputs": [],
   "source": [
    "len([5, 7, 8, 1])"
   ]
  },
  {
   "attachments": {},
   "cell_type": "markdown",
   "metadata": {},
   "source": [
    "You should treat the names of built-in functions as reserved words (i.e., avoid using “max” as a variable name)."
   ]
  },
  {
   "attachments": {},
   "cell_type": "markdown",
   "metadata": {},
   "source": [
    "Another useful built-in function is `help` that provides documentation on functions."
   ]
  },
  {
   "cell_type": "code",
   "execution_count": 4,
   "metadata": {},
   "outputs": [
    {
     "name": "stdout",
     "output_type": "stream",
     "text": [
      "Help on built-in function max in module builtins:\n",
      "\n",
      "max(...)\n",
      "    max(iterable, *[, default=obj, key=func]) -> value\n",
      "    max(arg1, arg2, *args, *[, key=func]) -> value\n",
      "\n",
      "    With a single iterable argument, return its biggest item. The\n",
      "    default keyword-only argument specifies an object to return if\n",
      "    the provided iterable is empty.\n",
      "    With two or more arguments, return the largest argument.\n",
      "\n"
     ]
    }
   ],
   "source": [
    "help(max)"
   ]
  },
  {
   "cell_type": "markdown",
   "metadata": {},
   "source": [
    "**Exercise 3.2**\n",
    "\n",
    "Count the number of letters in your name using the function `len`."
   ]
  },
  {
   "cell_type": "code",
   "execution_count": 5,
   "metadata": {},
   "outputs": [
    {
     "name": "stdout",
     "output_type": "stream",
     "text": [
      "7\n"
     ]
    }
   ],
   "source": [
    "print(len('Laurens'))"
   ]
  },
  {
   "attachments": {},
   "cell_type": "markdown",
   "metadata": {},
   "source": [
    "## 3.3 Type conversion functions"
   ]
  },
  {
   "attachments": {},
   "cell_type": "markdown",
   "metadata": {},
   "source": [
    "Python also provides built-in functions that convert values from one type to another. The `int` function takes any value and converts it to an integer, if it can,"
   ]
  },
  {
   "cell_type": "code",
   "execution_count": null,
   "metadata": {},
   "outputs": [],
   "source": [
    "int(32)"
   ]
  },
  {
   "attachments": {},
   "cell_type": "markdown",
   "metadata": {},
   "source": [
    "or complains otherwise:"
   ]
  },
  {
   "cell_type": "code",
   "execution_count": null,
   "metadata": {},
   "outputs": [],
   "source": [
    "int('two')"
   ]
  },
  {
   "attachments": {},
   "cell_type": "markdown",
   "metadata": {},
   "source": [
    "`int` can convert floating-point values to integers, but it doesn’t round off; it chops off the fraction part:"
   ]
  },
  {
   "cell_type": "code",
   "execution_count": null,
   "metadata": {},
   "outputs": [],
   "source": [
    "int(3.99)"
   ]
  },
  {
   "attachments": {},
   "cell_type": "markdown",
   "metadata": {},
   "source": [
    "`float` converts integers and strings to floating-point numbers:"
   ]
  },
  {
   "cell_type": "code",
   "execution_count": null,
   "metadata": {},
   "outputs": [],
   "source": [
    "float(5)"
   ]
  },
  {
   "cell_type": "code",
   "execution_count": null,
   "metadata": {},
   "outputs": [],
   "source": [
    "float('5')"
   ]
  },
  {
   "attachments": {},
   "cell_type": "markdown",
   "metadata": {},
   "source": [
    "Finally, `str` converts its argument to a string:"
   ]
  },
  {
   "cell_type": "code",
   "execution_count": null,
   "metadata": {},
   "outputs": [],
   "source": [
    "str(3.14)"
   ]
  },
  {
   "attachments": {},
   "cell_type": "markdown",
   "metadata": {},
   "source": [
    "**Exercise 3.3**\n",
    "\n",
    "You have learned the following built-in functions:\n",
    "\n",
    "`type()`, `max()`, `min()`, `len()`, `int()`, `float()`, `str()`\n",
    "\n",
    "use them below at least once to familiarize yourself with them."
   ]
  },
  {
   "cell_type": "code",
   "execution_count": 2,
   "metadata": {},
   "outputs": [
    {
     "data": {
      "text/plain": [
       "'54'"
      ]
     },
     "execution_count": 2,
     "metadata": {},
     "output_type": "execute_result"
    }
   ],
   "source": [
    "type('test')\n",
    "max('test')\n",
    "min('test')\n",
    "len('test')\n",
    "int('53')\n",
    "float('0.33')\n",
    "str(54)"
   ]
  },
  {
   "attachments": {},
   "cell_type": "markdown",
   "metadata": {},
   "source": [
    "## 3.4 Math functions"
   ]
  },
  {
   "attachments": {},
   "cell_type": "markdown",
   "metadata": {},
   "source": [
    "Python has a `math` module that provides most of the familiar mathematical functions. Before we can use the module, we have to import it:"
   ]
  },
  {
   "cell_type": "code",
   "execution_count": 4,
   "metadata": {},
   "outputs": [],
   "source": [
    "import math"
   ]
  },
  {
   "attachments": {},
   "cell_type": "markdown",
   "metadata": {},
   "source": [
    "This statement creates a module object named `math`. You can confirm that it is a module by using the `type` function:"
   ]
  },
  {
   "cell_type": "code",
   "execution_count": 5,
   "metadata": {},
   "outputs": [
    {
     "data": {
      "text/plain": [
       "module"
      ]
     },
     "execution_count": 5,
     "metadata": {},
     "output_type": "execute_result"
    }
   ],
   "source": [
    "type(math)"
   ]
  },
  {
   "attachments": {},
   "cell_type": "markdown",
   "metadata": {},
   "source": [
    "The module object contains the functions and variables defined in the module. To access one of the functions, you have to specify the name of the module and the name of the function, separated by a dot (also known as a period). This format is called _dot notation_."
   ]
  },
  {
   "cell_type": "code",
   "execution_count": null,
   "metadata": {},
   "outputs": [],
   "source": [
    "math.sqrt(16)"
   ]
  },
  {
   "cell_type": "code",
   "execution_count": null,
   "metadata": {},
   "outputs": [],
   "source": [
    "math.log10(1000)"
   ]
  },
  {
   "attachments": {},
   "cell_type": "markdown",
   "metadata": {},
   "source": [
    "**Exercise 3.4**\n",
    "\n",
    "Being able to use functions you haven't used before, by reading the documentation of a module is an essential skill you need to develop.\n",
    "\n",
    "The `math` module contains more functions and we have only covered a few.\n",
    "\n",
    "Let's say you would like to calculate the factorial of a number. Factorial of a number $n$ is represented as $n!$ and calculated as\n",
    "\n",
    "$$1 * 2 * 3 * ... * n-1 * n = n!$$\n",
    "\n",
    "For example $4!$ is $24$.\n",
    "\n",
    "Take a look at `math` module's documentation, and check if there is a function for calculating factorials. If you find it, use it to calculate 4 factorial.\n",
    "\n",
    "https://docs.python.org/3/library/math.html"
   ]
  },
  {
   "cell_type": "code",
   "execution_count": 8,
   "metadata": {},
   "outputs": [
    {
     "data": {
      "text/plain": [
       "24"
      ]
     },
     "execution_count": 8,
     "metadata": {},
     "output_type": "execute_result"
    }
   ],
   "source": [
    "math.factorial(4)"
   ]
  },
  {
   "attachments": {},
   "cell_type": "markdown",
   "metadata": {},
   "source": [
    "## 3.5 Random numbers"
   ]
  },
  {
   "attachments": {},
   "cell_type": "markdown",
   "metadata": {},
   "source": [
    "Given the same inputs, most computer programs generate the same outputs every time, so they are said to be _deterministic_. Determinism is usually a good thing, since we expect the same calculation to yield the same result. For some applications, though, we want the computer to be unpredictable. In the next blocks, you will learn how to train neural networks, where random numbers are necessary to initialize the neural network parameters.\n",
    "\n",
    "Making a program truly nondeterministic turns out to be not so easy, but there are ways to make it at least seem nondeterministic. One of them is to use _algorithms_ that generate _pseudorandom_ numbers. Pseudorandom numbers are not truly random because they are generated by a deterministic computation, but just by looking at the numbers it is all but impossible to distinguish them from random.\n",
    "\n",
    "The `random` module provides functions that generate pseudorandom numbers (which I will simply call “random” from here on).\n",
    "\n",
    "The function `random` returns a random float between 0.0 and 1.0 (including 0.0 but not 1.0). Each time you call `random`, you get the next number in a long series."
   ]
  },
  {
   "cell_type": "code",
   "execution_count": 9,
   "metadata": {},
   "outputs": [],
   "source": [
    "import random"
   ]
  },
  {
   "cell_type": "code",
   "execution_count": 16,
   "metadata": {},
   "outputs": [
    {
     "data": {
      "text/plain": [
       "0.21352614393142588"
      ]
     },
     "execution_count": 16,
     "metadata": {},
     "output_type": "execute_result"
    }
   ],
   "source": [
    "random.random()"
   ]
  },
  {
   "attachments": {},
   "cell_type": "markdown",
   "metadata": {},
   "source": [
    "If we run it again, we will get a different number, which is the whole point:"
   ]
  },
  {
   "cell_type": "code",
   "execution_count": 17,
   "metadata": {},
   "outputs": [
    {
     "data": {
      "text/plain": [
       "0.4076114966118197"
      ]
     },
     "execution_count": 17,
     "metadata": {},
     "output_type": "execute_result"
    }
   ],
   "source": [
    "random.random()"
   ]
  },
  {
   "attachments": {},
   "cell_type": "markdown",
   "metadata": {},
   "source": [
    "Note that the first `random` in `random.random()` refers to the module. The second `random` refers to the function inside this module.\n",
    "\n",
    "The `random` function is only one of many functions that handle random numbers. The function `randint` takes the parameters low and high, and returns an integer between low and high (including both)."
   ]
  },
  {
   "cell_type": "code",
   "execution_count": 18,
   "metadata": {},
   "outputs": [
    {
     "data": {
      "text/plain": [
       "73"
      ]
     },
     "execution_count": 18,
     "metadata": {},
     "output_type": "execute_result"
    }
   ],
   "source": [
    "random.randint(0, 100)"
   ]
  },
  {
   "cell_type": "code",
   "execution_count": 20,
   "metadata": {},
   "outputs": [
    {
     "data": {
      "text/plain": [
       "18"
      ]
     },
     "execution_count": 20,
     "metadata": {},
     "output_type": "execute_result"
    }
   ],
   "source": [
    "random.randint(0, 100)"
   ]
  },
  {
   "attachments": {},
   "cell_type": "markdown",
   "metadata": {},
   "source": [
    "To choose an element from a sequence at random, you can use `choice`:"
   ]
  },
  {
   "cell_type": "code",
   "execution_count": null,
   "metadata": {},
   "outputs": [],
   "source": [
    "random.choice([10, 1, -7, 34])"
   ]
  },
  {
   "attachments": {},
   "cell_type": "markdown",
   "metadata": {},
   "source": [
    "The random module also provides functions to generate random values from continuous distributions including Gaussian, exponential, gamma, and a few more."
   ]
  },
  {
   "attachments": {},
   "cell_type": "markdown",
   "metadata": {},
   "source": [
    "**Exercise 3.5**\n",
    "\n",
    "Read the documentation of the function `uniform` from the `random` module. Then use it to return numbers from a uniform distribution of your choice.\n",
    "\n",
    "https://docs.python.org/3/library/random.html#random.uniform"
   ]
  },
  {
   "cell_type": "code",
   "execution_count": 28,
   "metadata": {},
   "outputs": [
    {
     "data": {
      "text/plain": [
       "2.124559090332124"
      ]
     },
     "execution_count": 28,
     "metadata": {},
     "output_type": "execute_result"
    }
   ],
   "source": [
    "random.uniform(2,3)"
   ]
  },
  {
   "attachments": {},
   "cell_type": "markdown",
   "metadata": {},
   "source": [
    "## 3.6 Python Standard Library"
   ]
  },
  {
   "attachments": {},
   "cell_type": "markdown",
   "metadata": {},
   "source": [
    "But where are these modules coming from to help us, like Gandalf 🧙‍♂️ coming on the first light of the fifth day? They are coming from the [Python Standard Library](https://docs.python.org/3/library/)."
   ]
  },
  {
   "attachments": {},
   "cell_type": "markdown",
   "metadata": {},
   "source": [
    "**Exercise 3.6**\n",
    "\n",
    "You will learn and use many modules from the Python Standard Library. Briefly look at all the modules listed there.\n",
    "\n",
    "https://docs.python.org/3/library/"
   ]
  },
  {
   "attachments": {},
   "cell_type": "markdown",
   "metadata": {},
   "source": [
    "**Exercise 3.7**\n",
    "\n",
    "Use the `statistics` module to calculate the standard deviation of the following numbers [0.5, 2.1, 2.8]. The answer is approximately $1.18$."
   ]
  },
  {
   "cell_type": "code",
   "execution_count": 31,
   "metadata": {},
   "outputs": [
    {
     "data": {
      "text/plain": [
       "1.1789826122551594"
      ]
     },
     "execution_count": 31,
     "metadata": {},
     "output_type": "execute_result"
    }
   ],
   "source": [
    "import statistics\n",
    "\n",
    "statistics.stdev([0.5, 2.1, 2.8])"
   ]
  },
  {
   "attachments": {},
   "cell_type": "markdown",
   "metadata": {},
   "source": [
    "## 3.7 The `import` statement"
   ]
  },
  {
   "attachments": {},
   "cell_type": "markdown",
   "metadata": {},
   "source": [
    "And the final piece of the puzzle is the `import` statement. The `import` statement is used to bring in functionality from other modules or libraries into your current Python program. It allows you to reuse code that has already been written by other developers, saving you time and effort.\n",
    "\n",
    "Here is how it works:\n",
    "\n",
    "1. **Module and Library:** A module is a file containing Python code, while a library is a collection of modules. Libraries often provide specific functionalities, such as handling dates and times, performing mathematical operations, or working with web APIs. Python has a rich ecosystem of libraries that you can utilize.\n",
    "\n",
    "2. **Importing a Module:** To import a module, you use the `import` keyword followed by the name of the module. As you have seen previously, to import the `math` module, you would write:\n",
    "\n",
    "   ```python\n",
    "   import math\n",
    "   ```\n",
    "\n",
    "3. **Using Imported Functionality:** Once you import a module, you can access its functionality by using the module name followed by a dot (.) and the name of the specific function or object you want to use. For example, to use the `sqrt()` function from the `math` module, you would write:\n",
    "   ```python\n",
    "   import math\n",
    "   result = math.sqrt(16)\n",
    "   ```\n",
    "\n",
    "4. **Importing Specific Functions/Objects:** If you only need certain functions or objects from a module, you can import them individually instead of importing the entire module. This can be done using the `from` keyword. For example, to import only the `sqrt()` function from the `math` module, you would write:\n",
    "   ```python\n",
    "   from math import sqrt\n",
    "   result = sqrt(16)\n",
    "   ```\n",
    "\n",
    "5. **Renaming Imported Modules/Functions:** You can also choose to give imported modules or functions a different name to make them easier to use or avoid naming conflicts. This is done using the `as` keyword. For example, to import the `math` library and give it the name `m`, you would write:\n",
    "   ```python\n",
    "   import math as m\n",
    "   result = m.sqrt(16)\n",
    "   ```\n",
    "\n",
    "That's the basic idea of importing in Python! By utilizing the `import` statement, you can incorporate external code and leverage powerful libraries to enhance your programs without having to write everything from scratch."
   ]
  },
  {
   "attachments": {},
   "cell_type": "markdown",
   "metadata": {},
   "source": [
    "**Exercise 3.8**\n",
    "\n",
    "Import the math module as your name so that the following code works\n",
    "\n",
    "```your_name.sqrt(16)```"
   ]
  },
  {
   "cell_type": "code",
   "execution_count": 32,
   "metadata": {},
   "outputs": [
    {
     "data": {
      "text/plain": [
       "4.0"
      ]
     },
     "execution_count": 32,
     "metadata": {},
     "output_type": "execute_result"
    }
   ],
   "source": [
    "import math as laurens\n",
    "\n",
    "laurens.sqrt(16)"
   ]
  },
  {
   "attachments": {},
   "cell_type": "markdown",
   "metadata": {},
   "source": [
    "**Exercise 3.9**\n",
    "\n",
    "Write \n",
    "\n",
    "```python\n",
    "import this\n",
    "```\n",
    "\n",
    "to access the _Zen of Python_, a set of principles for writing programs."
   ]
  },
  {
   "cell_type": "code",
   "execution_count": 33,
   "metadata": {},
   "outputs": [
    {
     "name": "stdout",
     "output_type": "stream",
     "text": [
      "The Zen of Python, by Tim Peters\n",
      "\n",
      "Beautiful is better than ugly.\n",
      "Explicit is better than implicit.\n",
      "Simple is better than complex.\n",
      "Complex is better than complicated.\n",
      "Flat is better than nested.\n",
      "Sparse is better than dense.\n",
      "Readability counts.\n",
      "Special cases aren't special enough to break the rules.\n",
      "Although practicality beats purity.\n",
      "Errors should never pass silently.\n",
      "Unless explicitly silenced.\n",
      "In the face of ambiguity, refuse the temptation to guess.\n",
      "There should be one-- and preferably only one --obvious way to do it.\n",
      "Although that way may not be obvious at first unless you're Dutch.\n",
      "Now is better than never.\n",
      "Although never is often better than *right* now.\n",
      "If the implementation is hard to explain, it's a bad idea.\n",
      "If the implementation is easy to explain, it may be a good idea.\n",
      "Namespaces are one honking great idea -- let's do more of those!\n"
     ]
    }
   ],
   "source": [
    "import this"
   ]
  },
  {
   "attachments": {},
   "cell_type": "markdown",
   "metadata": {},
   "source": [
    "## 3.8 Defining functions"
   ]
  },
  {
   "attachments": {},
   "cell_type": "markdown",
   "metadata": {},
   "source": [
    "So far, we have only been using the functions that come with Python, but it is also possible to create new functions. A _function definition_ specifies the name of a new function and the sequence of statements that execute when the function is called. Once we define a function, we can reuse the function over and over throughout our program.\n",
    "\n",
    "Here is an example:"
   ]
  },
  {
   "cell_type": "code",
   "execution_count": null,
   "metadata": {},
   "outputs": [],
   "source": [
    "def print_proverb():\n",
    "    print('All work and no play makes Jack a dull boy.')"
   ]
  },
  {
   "attachments": {},
   "cell_type": "markdown",
   "metadata": {},
   "source": [
    "We use the `def` keyword for defining functions. The name of the function is `print_proverb`. The rules for function names are the same as for variable names: letters, numbers and some punctuation marks are legal, but the first character can’t be a number. You can’t use a keyword as the name of a function, and you should avoid having a variable and a function with the same name.\n",
    "\n",
    "The empty parentheses after the name indicate that this function doesn’t take any arguments. Later we will build functions that take arguments as their inputs.\n",
    "\n",
    "The first line of the function definition is called the header; the rest is called the body. The header has to end with a colon and the body has to be indented. By convention, the indentation is always four spaces. The body can contain any number of statements.\n",
    "\n",
    "The syntax for calling the new function is the same as for built-in functions:"
   ]
  },
  {
   "cell_type": "code",
   "execution_count": null,
   "metadata": {},
   "outputs": [],
   "source": [
    "print_proverb()"
   ]
  },
  {
   "attachments": {},
   "cell_type": "markdown",
   "metadata": {},
   "source": [
    "Defining a function creates a variable with the same name:"
   ]
  },
  {
   "cell_type": "code",
   "execution_count": null,
   "metadata": {},
   "outputs": [],
   "source": [
    "print(print_proverb)"
   ]
  },
  {
   "attachments": {},
   "cell_type": "markdown",
   "metadata": {},
   "source": [
    "Notice that `print_proverb` is a variable and `print_proverb()` calls the function."
   ]
  },
  {
   "attachments": {},
   "cell_type": "markdown",
   "metadata": {},
   "source": [
    "The value of `print_proverb` is a _function object_, which has type “function”."
   ]
  },
  {
   "cell_type": "code",
   "execution_count": null,
   "metadata": {},
   "outputs": [],
   "source": [
    "type(print_proverb)"
   ]
  },
  {
   "attachments": {},
   "cell_type": "markdown",
   "metadata": {},
   "source": [
    "Once you have defined a function, you can use it inside another function. This will be useful when you divide a problem into sub-tasks and put them back together."
   ]
  },
  {
   "cell_type": "code",
   "execution_count": null,
   "metadata": {},
   "outputs": [],
   "source": [
    "def repeat_proverb():\n",
    "    print_proverb()\n",
    "    print_proverb()\n",
    "    print_proverb()\n",
    "    print_proverb()"
   ]
  },
  {
   "cell_type": "code",
   "execution_count": null,
   "metadata": {},
   "outputs": [],
   "source": [
    "repeat_proverb()"
   ]
  },
  {
   "attachments": {},
   "cell_type": "markdown",
   "metadata": {},
   "source": [
    "- Function definitions get executed just like other statements, but the effect is to create function objects.\n",
    "- The statements inside the function do not get executed until the function is called.\n",
    "- The function definition generates no output.\n",
    "- The function definition has to be executed before the first time it is called."
   ]
  },
  {
   "cell_type": "markdown",
   "metadata": {},
   "source": [
    "**Exercise 3.10**\n",
    "\n",
    "Define a function called `print_hello()` that prints \"Hello!\" once called. Then, call the function to check if it prints \"Hello!\"."
   ]
  },
  {
   "cell_type": "code",
   "execution_count": 35,
   "metadata": {},
   "outputs": [
    {
     "name": "stdout",
     "output_type": "stream",
     "text": [
      "Hello!\n"
     ]
    }
   ],
   "source": [
    "def print_hello():\n",
    "    print('Hello!')\n",
    "\n",
    "print_hello()"
   ]
  },
  {
   "attachments": {},
   "cell_type": "markdown",
   "metadata": {},
   "source": [
    "## 3.9 Parameters and arguments"
   ]
  },
  {
   "attachments": {},
   "cell_type": "markdown",
   "metadata": {},
   "source": [
    "There are functions that do not take any arguments,"
   ]
  },
  {
   "cell_type": "code",
   "execution_count": null,
   "metadata": {},
   "outputs": [],
   "source": [
    "random.random()"
   ]
  },
  {
   "attachments": {},
   "cell_type": "markdown",
   "metadata": {},
   "source": [
    "that take one argument,"
   ]
  },
  {
   "cell_type": "code",
   "execution_count": null,
   "metadata": {},
   "outputs": [],
   "source": [
    "math.sqrt(16)"
   ]
  },
  {
   "attachments": {},
   "cell_type": "markdown",
   "metadata": {},
   "source": [
    "and that take more than one argument."
   ]
  },
  {
   "cell_type": "code",
   "execution_count": null,
   "metadata": {},
   "outputs": [],
   "source": [
    "random.randint(5, 10)"
   ]
  },
  {
   "attachments": {},
   "cell_type": "markdown",
   "metadata": {},
   "source": [
    "Here is how you can define a function that accepts one argument,"
   ]
  },
  {
   "cell_type": "code",
   "execution_count": null,
   "metadata": {},
   "outputs": [],
   "source": [
    "def add_one(x):\n",
    "    print(x+1)"
   ]
  },
  {
   "attachments": {},
   "cell_type": "markdown",
   "metadata": {},
   "source": [
    "and how you can call it."
   ]
  },
  {
   "cell_type": "code",
   "execution_count": null,
   "metadata": {},
   "outputs": [],
   "source": [
    "add_one(5)"
   ]
  },
  {
   "attachments": {},
   "cell_type": "markdown",
   "metadata": {},
   "source": [
    "In the function `add_one`, `5` is the _argument_ and `x` is the _parameter_.\n",
    "\n",
    "A parameter is the variable listed inside the parentheses in the function definition. An argument is the value that are sent to the function when it is called."
   ]
  },
  {
   "attachments": {},
   "cell_type": "markdown",
   "metadata": {},
   "source": [
    "You can also use a variable as an argument:"
   ]
  },
  {
   "cell_type": "code",
   "execution_count": null,
   "metadata": {},
   "outputs": [],
   "source": [
    "y = 25\n",
    "add_one(y)"
   ]
  },
  {
   "cell_type": "markdown",
   "metadata": {},
   "source": [
    "**Exercise 3.11**\n",
    "\n",
    "Define a function called `print_name()` that accepts a name as an argument and prints it. Call the function and pass your name as an argument to check if it works."
   ]
  },
  {
   "cell_type": "code",
   "execution_count": 36,
   "metadata": {},
   "outputs": [
    {
     "name": "stdout",
     "output_type": "stream",
     "text": [
      "laurens\n"
     ]
    }
   ],
   "source": [
    "def print_name(name):\n",
    "    print(name)\n",
    "\n",
    "print_name('laurens')"
   ]
  },
  {
   "attachments": {},
   "cell_type": "markdown",
   "metadata": {},
   "source": [
    "## 3.10 Return"
   ]
  },
  {
   "attachments": {},
   "cell_type": "markdown",
   "metadata": {},
   "source": [
    "It is important to understand that a function that _returns_ a value and a function that _prints_ a value are different. So far, the functions we have defined only printed values, not returned them. But we have used some built-in functions that returned a value. First, let's see the difference and then learn how to define functions that return a value."
   ]
  },
  {
   "cell_type": "code",
   "execution_count": null,
   "metadata": {},
   "outputs": [],
   "source": [
    "# This function returns a value\n",
    "# Return value can be stored in a variable\n",
    "a = math.sqrt(16)"
   ]
  },
  {
   "cell_type": "code",
   "execution_count": null,
   "metadata": {},
   "outputs": [],
   "source": [
    "# We can use this variable later\n",
    "a + 1"
   ]
  },
  {
   "cell_type": "code",
   "execution_count": null,
   "metadata": {},
   "outputs": [],
   "source": [
    "# Our add_one function however\n",
    "# Returns nothing, in other words `None`\n",
    "a = add_one(5)"
   ]
  },
  {
   "attachments": {},
   "cell_type": "markdown",
   "metadata": {},
   "source": [
    "We see that the number `6` is printed, but that is not the return value. To see the return value, we need to check what is inside `a`."
   ]
  },
  {
   "cell_type": "code",
   "execution_count": null,
   "metadata": {},
   "outputs": [],
   "source": [
    "print(a)"
   ]
  },
  {
   "attachments": {},
   "cell_type": "markdown",
   "metadata": {},
   "source": [
    "The value None is not the same as the string “None”. It is a special value that has its own type:"
   ]
  },
  {
   "cell_type": "code",
   "execution_count": null,
   "metadata": {},
   "outputs": [],
   "source": [
    "type(None)"
   ]
  },
  {
   "attachments": {},
   "cell_type": "markdown",
   "metadata": {},
   "source": [
    "To return a result from a function, we use the `return` statement in our function. Let's rewrite the function definition for `add_one` that returns the value instead of printing."
   ]
  },
  {
   "cell_type": "code",
   "execution_count": null,
   "metadata": {},
   "outputs": [],
   "source": [
    "def add_one(x):\n",
    "    output = x + 1\n",
    "    return output"
   ]
  },
  {
   "attachments": {},
   "cell_type": "markdown",
   "metadata": {},
   "source": [
    "Now this function won't print anything when called,"
   ]
  },
  {
   "cell_type": "code",
   "execution_count": null,
   "metadata": {},
   "outputs": [],
   "source": [
    "a = add_one(5)"
   ]
  },
  {
   "attachments": {},
   "cell_type": "markdown",
   "metadata": {},
   "source": [
    "but the return value will be stored in `a`."
   ]
  },
  {
   "cell_type": "code",
   "execution_count": null,
   "metadata": {},
   "outputs": [],
   "source": [
    "a"
   ]
  },
  {
   "attachments": {},
   "cell_type": "markdown",
   "metadata": {},
   "source": [
    "A function that does not return a value is called a _void function_, on the other hand if it returns a value it is called a _fruitful function_."
   ]
  },
  {
   "attachments": {},
   "cell_type": "markdown",
   "metadata": {},
   "source": [
    "**Exercise 3.12**\n",
    "\n",
    "Write a function that accepts two arguments and returns their sum."
   ]
  },
  {
   "cell_type": "code",
   "execution_count": 37,
   "metadata": {},
   "outputs": [
    {
     "data": {
      "text/plain": [
       "3"
      ]
     },
     "execution_count": 37,
     "metadata": {},
     "output_type": "execute_result"
    }
   ],
   "source": [
    "def sum(a, b):\n",
    "    return a + b\n",
    "\n",
    "sum(1, 2)"
   ]
  },
  {
   "cell_type": "markdown",
   "metadata": {},
   "source": [
    "There are multiple ways to use the return statement to achieve the same result. All three functions below will return the same results:\n",
    "\n",
    "```python\n",
    "def odd_or_even(num):\n",
    "    if num % 2 == 0:\n",
    "        result = 'even'\n",
    "    else:\n",
    "        result = 'odd'\n",
    "\n",
    "    return result\n",
    "```\n",
    "\n",
    "```python\n",
    "def odd_or_even(num):\n",
    "    if num % 2 == 0:\n",
    "        return 'even'\n",
    "    else:\n",
    "        return 'odd'\n",
    "```\n",
    "\n",
    "```python\n",
    "def odd_or_even(num):\n",
    "    if num % 2 == 0:\n",
    "        return 'even'\n",
    "    return 'odd'\n",
    "```"
   ]
  },
  {
   "attachments": {},
   "cell_type": "markdown",
   "metadata": {},
   "source": [
    "## 3.11 Default values"
   ]
  },
  {
   "attachments": {},
   "cell_type": "markdown",
   "metadata": {},
   "source": [
    "You can assign a default value to a function parameter. This means that if the caller of the function does not provide a value for that parameter, the default value will be used instead."
   ]
  },
  {
   "cell_type": "code",
   "execution_count": null,
   "metadata": {},
   "outputs": [],
   "source": [
    "def greet(name='Guest'):\n",
    "    print('Hello, ' + name + '!')"
   ]
  },
  {
   "cell_type": "code",
   "execution_count": null,
   "metadata": {},
   "outputs": [],
   "source": [
    "greet()"
   ]
  },
  {
   "cell_type": "code",
   "execution_count": null,
   "metadata": {},
   "outputs": [],
   "source": [
    "greet('Ada Lovelace')"
   ]
  },
  {
   "attachments": {},
   "cell_type": "markdown",
   "metadata": {},
   "source": [
    "## 3.12 Docstring"
   ]
  },
  {
   "attachments": {},
   "cell_type": "markdown",
   "metadata": {},
   "source": [
    "You learned how to comment your code for documentation. For functions you can use comments but there is a better way - a docstring.\n",
    "\n",
    "A docstring is a string literal that is used to document various elements of your code, such as functions, modules, classes, or methods. The term \"docstring\" is a combination of \"documentation\" and \"string.\"\n",
    "\n",
    "A docstring provides a concise way to describe what a particular piece of code does, how it should be used, and what inputs and outputs it expects. It serves as a form of documentation that can be accessed by other developers or by tools like integrated development environments (IDEs) and documentation generators.\n",
    "\n",
    "Here's an example of a function with a docstring:"
   ]
  },
  {
   "cell_type": "code",
   "execution_count": null,
   "metadata": {},
   "outputs": [],
   "source": [
    "def calculate_area(length, width):\n",
    "    \"\"\"Calculate the area of a rectangle.\n",
    "\n",
    "    Parameters:\n",
    "        length (float): The length of the rectangle.\n",
    "        width (float): The width of the rectangle.\n",
    "\n",
    "    Returns:\n",
    "        area (float): The area of the rectangle.\n",
    "    \"\"\"\n",
    "    area = length * width\n",
    "    return area"
   ]
  },
  {
   "attachments": {},
   "cell_type": "markdown",
   "metadata": {},
   "source": [
    "In this example, the docstring is enclosed within triple quotes (`\"\"\"`). It starts with a brief summary of the function's purpose, followed by sections that describe the function's parameters and return value.\n",
    "\n",
    "The docstring can include additional details, such as examples, explanations of any exceptions the function may raise, or any side effects it may have.\n",
    "\n",
    "To access a docstring, you can use the built-in `help()` function."
   ]
  },
  {
   "cell_type": "code",
   "execution_count": null,
   "metadata": {},
   "outputs": [],
   "source": [
    "help(calculate_area)"
   ]
  },
  {
   "attachments": {},
   "cell_type": "markdown",
   "metadata": {},
   "source": [
    "Properly documenting your code with meaningful and descriptive docstrings can greatly improve the maintainability and usability of your codebase. It helps other developers understand your code and encourages good programming practices."
   ]
  },
  {
   "cell_type": "markdown",
   "metadata": {},
   "source": [
    "## 3.13 Variable scope and lifetime"
   ]
  },
  {
   "cell_type": "markdown",
   "metadata": {},
   "source": [
    "Understanding _variable scope_ and _variable lifetime_ is important, especially when working with functions. Let's redefine the `add_one` function we created previously with a slight modification:"
   ]
  },
  {
   "cell_type": "code",
   "execution_count": null,
   "metadata": {},
   "outputs": [],
   "source": [
    "def add_one(x):\n",
    "    value_to_add = 1\n",
    "    output = x + value_to_add\n",
    "    return output"
   ]
  },
  {
   "cell_type": "markdown",
   "metadata": {},
   "source": [
    "The value of `value_to_add` is defined to be `1` inside the function."
   ]
  },
  {
   "cell_type": "code",
   "execution_count": null,
   "metadata": {},
   "outputs": [],
   "source": [
    "add_one(5)"
   ]
  },
  {
   "cell_type": "markdown",
   "metadata": {},
   "source": [
    "So why do we get an error when we inquire about its value?"
   ]
  },
  {
   "cell_type": "code",
   "execution_count": null,
   "metadata": {},
   "outputs": [],
   "source": [
    "value_to_add"
   ]
  },
  {
   "cell_type": "markdown",
   "metadata": {},
   "source": [
    "We have learned that variables need to be defined before they can be used in the program. So far we have assumed that once we define a variable, it is accesible everywhere. But as you have just seen, that is not the case.\n",
    "\n",
    "Not all variables are accessible from all parts of our program, and not all variables exist for the same amount of time. Where a variable is accessible and how long it exists depend on how it is defined. We call the part of a program where a variable is accessible its **scope**, and the duration for which the variable exists its **lifetime**.\n",
    "\n",
    "A variable which is defined in the main body of a file is called a _global variable_. It will be visible throughout the file, and also inside any file which imports that file."
   ]
  },
  {
   "cell_type": "code",
   "execution_count": null,
   "metadata": {},
   "outputs": [],
   "source": [
    "# If we define value_to_add outside of the function\n",
    "# It will be a global variable\n",
    "value_to_add = 1"
   ]
  },
  {
   "cell_type": "code",
   "execution_count": null,
   "metadata": {},
   "outputs": [],
   "source": [
    "# It can be used inside the function without explicitly passing it as an argument\n",
    "def add_one(x):\n",
    "    output = x + value_to_add\n",
    "    return output"
   ]
  },
  {
   "cell_type": "code",
   "execution_count": null,
   "metadata": {},
   "outputs": [],
   "source": [
    "add_one(7)"
   ]
  },
  {
   "cell_type": "markdown",
   "metadata": {},
   "source": [
    "and now, since it is a global variable, we won't get an error when we inquire about its value:"
   ]
  },
  {
   "cell_type": "code",
   "execution_count": null,
   "metadata": {},
   "outputs": [],
   "source": [
    "value_to_add"
   ]
  },
  {
   "cell_type": "markdown",
   "metadata": {},
   "source": [
    "A variable which is defined inside a function is _local_ to that function. It is accessible from the point at which it is defined until the end of the function, and exists for as long as the function is executing.\n",
    "\n",
    "The parameter names in the function definition behave like local variables, but they contain the values that we pass into the function when we call it.\n",
    "\n",
    "That is why we got an error when we defined `value_to_add` inside the function and tried access it outside of the function. It was a local variable. Now that `value_to_add` is defined as a global variable, it is available outside of the function. But function parameter `x` is still a local variable as well as the return variable `output`."
   ]
  },
  {
   "cell_type": "code",
   "execution_count": null,
   "metadata": {},
   "outputs": [],
   "source": [
    "value_to_add = 1\n",
    "def add_one(x):\n",
    "    output = x + value_to_add\n",
    "    return output\n",
    "add_one(7)"
   ]
  },
  {
   "cell_type": "code",
   "execution_count": null,
   "metadata": {},
   "outputs": [],
   "source": [
    "# Local variables do not exist outside of the function\n",
    "x"
   ]
  },
  {
   "cell_type": "code",
   "execution_count": null,
   "metadata": {},
   "outputs": [],
   "source": [
    "# Local variables do not exist outside of the function\n",
    "output"
   ]
  },
  {
   "cell_type": "code",
   "execution_count": null,
   "metadata": {},
   "outputs": [],
   "source": [
    "# Global variables do exist inside and outside of the function\n",
    "value_to_add"
   ]
  },
  {
   "cell_type": "markdown",
   "metadata": {},
   "source": [
    "Note: for `x` and `output` you should see a `NameError`. If not, that means you defined them as global variables previously in the notebook, for example when solving the exercises."
   ]
  },
  {
   "cell_type": "markdown",
   "metadata": {},
   "source": [
    "You have just seen that you can access global variables inside a function. What if you want to modify them?"
   ]
  },
  {
   "cell_type": "code",
   "execution_count": null,
   "metadata": {},
   "outputs": [],
   "source": [
    "def add_two():\n",
    "    number = number + 2\n",
    "    return number"
   ]
  },
  {
   "cell_type": "code",
   "execution_count": null,
   "metadata": {},
   "outputs": [],
   "source": [
    "number = 10\n",
    "add_two()"
   ]
  },
  {
   "cell_type": "markdown",
   "metadata": {},
   "source": [
    "As you can see it doesn't work. To change the value of a global variable inside the function you need to use the `global` keyword:"
   ]
  },
  {
   "cell_type": "code",
   "execution_count": null,
   "metadata": {},
   "outputs": [],
   "source": [
    "def add_two():\n",
    "    global number\n",
    "    number = number + 2\n",
    "    return number"
   ]
  },
  {
   "cell_type": "code",
   "execution_count": null,
   "metadata": {},
   "outputs": [],
   "source": [
    "number = 10\n",
    "add_two()"
   ]
  },
  {
   "cell_type": "markdown",
   "metadata": {},
   "source": [
    "**CAUTION** Using global variables inside your functions, however, might create confusion when your programs get larger. If many functions can modify a global variable, it will be hard to keep track of the state of a variable.\n",
    "\n",
    "So avoid it as much as possible.\n",
    "\n",
    "A function is said to have a _side effect_ when it changes a variable outside its scope, such as updating a global variable. It is best to avoid writing functions with side effects, because as your programs get larger it will be hard to keep track of the state of a variable."
   ]
  },
  {
   "cell_type": "markdown",
   "metadata": {},
   "source": [
    "### 🐍 Advanced 🐍"
   ]
  },
  {
   "cell_type": "markdown",
   "metadata": {},
   "source": [
    "If you would like to learn more about Python variables and values (who wouldn't) read the following post:\n",
    "\n",
    "https://nedbatchelder.com/text/names.html\n",
    "\n",
    "This is advanced at this point but it is important. So I suggest everyone to read it at the end of the block and read it again at the end of the year once you reach a certain level of maturity."
   ]
  },
  {
   "attachments": {},
   "cell_type": "markdown",
   "metadata": {},
   "source": [
    "## 3.14 Why functions?"
   ]
  },
  {
   "attachments": {},
   "cell_type": "markdown",
   "metadata": {},
   "source": [
    "Functions can be used to break your program into logical sections. You can take a specific task or calculation, and define a function that accomplishes that task or calculation. Breaking the logic of a program up into sections can make it much easier to build. You can create functions to handle parts of your algorithm, and assemble them in a much simpler main program.\n",
    "\n",
    "Using functions well can make your program much easier to read. Functions should have descriptive names, like variables. The function should be named after what it does or what it returns. For example, `read_data_file`, `accuracy_score`, or `generate_random_vectors`.\n",
    "\n",
    "The function definitions themselves can be relatively small and understandable stretches of code. Someone trying to read the program can figure out one function at a time (aided by a good function name and the docstring). Then, they can move on to the main program that assembles these parts. This is generally much easier than reading (and writing and debugging) one long section of code in the main program.\n",
    "\n",
    "Functions are also quite useful to prevent duplication of similar code. If you need to do similar tasks in different parts of the program, you could copy-and-paste code, as many beginner programmers do. But, what happens when you want to change or update that task? You have to hunt for that code everywhere it occurs and fix it in every location. This is tedious and error-prone.\n",
    "\n",
    "If the repeated task is separated into a function, then maintaining it is much easier. It only occurs in one place, so it’s easy to fix. If you find yourself copy pasting code within your program, consider turning it into a function."
   ]
  },
  {
   "cell_type": "markdown",
   "metadata": {},
   "source": [
    "### 🐍 Advanced 🐍\n",
    "\n",
    "Object-oriented programming (OOP) is another programming paradigm, as opposed to functional programming. In fact in the very first notebook `1. Variables.ipynb` when we printed the type of an integer, we have seen _class_ before the type _int_."
   ]
  },
  {
   "cell_type": "code",
   "execution_count": null,
   "metadata": {},
   "outputs": [],
   "source": [
    "print(type(5))"
   ]
  },
  {
   "cell_type": "markdown",
   "metadata": {},
   "source": [
    "`5` is an _object_ of the _class_ _int_. In fact, everything in Python is an object. OOP is beyond the scope of this module. If you are interested you can watch the following online course:\n",
    "\n",
    "[Python Object Oriented Programming (OOP) - For Beginners](https://www.youtube.com/watch?v=JeznW_7DlB0)"
   ]
  },
  {
   "cell_type": "markdown",
   "metadata": {},
   "source": [
    "## 3.15 Functional decomposition"
   ]
  },
  {
   "cell_type": "markdown",
   "metadata": {},
   "source": [
    "When you are solving a problem, you can create a single function that solves the problem in one go. Alternatively, you can decompose it into parts, solve the parts, and combine them to solve the original problem. This is called _functional decomposition_. It is best understood by an example. We will use the calculation of $F_1$ score as the example, as you will learn and use this metric in the future blocks."
   ]
  },
  {
   "cell_type": "markdown",
   "metadata": {},
   "source": [
    "Let's say we developed a machine learning model that can predict if a patient has a certain disease (represented as 1) or not (represented as 0). We have data from 10 patients and we know if the patient is sick or not (Ground Truth). We run our model on the data and obtain the predictions (Model Prediction). Here are the results:\n",
    "\n",
    "|Patient ID|Ground Truth|Model Prediction|\n",
    "|--|--|--|\n",
    "|1|1|1|\n",
    "|2|1|1|\n",
    "|3|1|0|\n",
    "|4|1|1|\n",
    "|5|1|0|\n",
    "|6|0|0|\n",
    "|7|0|0|\n",
    "|8|0|0|\n",
    "|9|0|1|\n",
    "|10|0|0|\n",
    "\n",
    "Let's store these as two lists:"
   ]
  },
  {
   "cell_type": "code",
   "execution_count": null,
   "metadata": {},
   "outputs": [],
   "source": [
    "ground_truth = [1, 1, 1, 1, 1, 0, 0, 0, 0, 0]\n",
    "model_predictions = [1, 1, 0, 1, 0, 0, 0, 0, 1, 0]"
   ]
  },
  {
   "cell_type": "markdown",
   "metadata": {},
   "source": [
    "To measure the performance of the model we need to count the number of True and False predictions. We can have two types of True predictions:\n",
    "\n",
    "- True positive (TP): The patient is sick (1) and our model predicts the patient as sick (1).\n",
    "- True negative (TN): The patient is not sick (0) and our model predicts the patient as not sick (0).\n",
    "\n",
    "similarly we can have two types of False predictions:\n",
    "\n",
    "\n",
    "- False positive (FP): The patient is not sick (0) but our model predicts the patient as sick (1).\n",
    "- False negative (FN): The patient is sick (1) but our model predicts the patient as not sick (0).\n",
    "\n",
    "\n",
    "|Patient ID|Ground Truth|Model Prediction|Type|\n",
    "|--|--|--|--|\n",
    "|1|1|1|TP|\n",
    "|2|1|1|TP|\n",
    "|3|1|0|FN|\n",
    "|4|1|1|TP|\n",
    "|5|1|0|FN|\n",
    "|6|0|0|TN|\n",
    "|7|0|0|TN|\n",
    "|8|0|0|TN|\n",
    "|9|0|1|FP|\n",
    "|10|0|0|TN|"
   ]
  },
  {
   "cell_type": "markdown",
   "metadata": {},
   "source": [
    "Now we can define $F_1$ score as:\n",
    "\n",
    "$$2*\\frac{precision*recall}{precision+recall}$$\n",
    "\n",
    "where,\n",
    "\n",
    "$$precision=\\frac{TP}{TP + FP}$$\n",
    "\n",
    "$$recall=\\frac{TP}{TP + FN}$$\n",
    "\n",
    "and we can implement it as follows: (You will learn about `for` loops in the next notebook)"
   ]
  },
  {
   "cell_type": "code",
   "execution_count": null,
   "metadata": {},
   "outputs": [],
   "source": [
    "def f1_calculator(ground_truth, model_predictions):\n",
    "    # Calculate tp, fp, fn\n",
    "    tp = 0\n",
    "    fp = 0\n",
    "    fn = 0\n",
    "\n",
    "    for i in range(len(model_predictions)):\n",
    "        if ground_truth[i] == 1 and model_predictions[i] == 1:\n",
    "            tp = tp + 1\n",
    "        elif ground_truth[i] == 0 and model_predictions[i] == 1:\n",
    "            fp = fp + 1\n",
    "        elif ground_truth[i] == 1 and model_predictions[i] == 0:\n",
    "            fn = fn + 1\n",
    "\n",
    "    # Calculate precision and recall\n",
    "    precision = tp / (tp + fp)\n",
    "    recall = tp / (tp + fn)\n",
    "    \n",
    "    # Calculate f1\n",
    "    f1_score = 2 * precision * recall / (precision + recall)\n",
    "\n",
    "    return f1_score"
   ]
  },
  {
   "cell_type": "code",
   "execution_count": null,
   "metadata": {},
   "outputs": [],
   "source": [
    "f1_calculator(ground_truth, model_predictions)"
   ]
  },
  {
   "cell_type": "markdown",
   "metadata": {},
   "source": [
    "We can decompose this function in many ways. One way is:\n",
    "\n",
    "- function_1 that calculates tp, fp, fn\n",
    "- function_2 that uses function_1 and calculates precision and recall\n",
    "- function_3 that uses function_2 and calculates f1_score"
   ]
  },
  {
   "cell_type": "code",
   "execution_count": null,
   "metadata": {},
   "outputs": [],
   "source": [
    "def function_1(ground_truth, model_predictions):\n",
    "    tp = 0\n",
    "    fp = 0\n",
    "    fn = 0\n",
    "\n",
    "    for i in range(len(model_predictions)):\n",
    "        if ground_truth[i] == 1 and model_predictions[i] == 1:\n",
    "            tp = tp + 1\n",
    "        elif ground_truth[i] == 0 and model_predictions[i] == 1:\n",
    "            fp = fp + 1\n",
    "        elif ground_truth[i] == 1 and model_predictions[i] == 0:\n",
    "            fn = fn + 1\n",
    "    \n",
    "    return tp, fp, fn\n",
    "\n",
    "def function_2(ground_truth, model_predictions):\n",
    "    tp, fp, fn = function_1(ground_truth, model_predictions)\n",
    "    precision = tp / (tp + fp)\n",
    "    recall = tp / (tp + fn)\n",
    "    return precision, recall\n",
    "\n",
    "def function_3(ground_truth, model_predictions):\n",
    "    precision, recall = function_2(ground_truth, model_predictions)\n",
    "    f1_score = 2 * precision * recall / (precision + recall)\n",
    "    return f1_score"
   ]
  },
  {
   "cell_type": "code",
   "execution_count": null,
   "metadata": {},
   "outputs": [],
   "source": [
    "function_3(ground_truth, model_predictions)"
   ]
  },
  {
   "cell_type": "markdown",
   "metadata": {},
   "source": [
    "As you can see, you can achieve the same result using a single function, or you can decompose the function into smaller functions.\n",
    "\n",
    "Functional decomposition offers modularity which is essential for debugging, maintainability and reusability. Also it is easier to solve a problem by dividing it into pieces instead of trying to solve it as a whole.\n",
    "\n",
    "Sometimes you will see the term _helper function_ used in the context of functional decomposition. The functions that perform some part of the computation of other functions are termed helper functions. For example `function_1` is a helper function."
   ]
  },
  {
   "attachments": {},
   "cell_type": "markdown",
   "metadata": {},
   "source": [
    "## 3.16 Exercises"
   ]
  },
  {
   "attachments": {},
   "cell_type": "markdown",
   "metadata": {},
   "source": [
    "**Exercise 3.13**\n",
    "\n",
    "Rewrite your pay computation program as a function. Define the function such that its name is `computepay`, it takes two parameters `hour` and `rate`, and it returns a single value that corresponds to the weekly pay. After you define the function, run it multiple times with different arguments to test it.\n",
    "\n",
    "Previous exercise for your reference: Calculate the weekly pay of an employee, given hours and rate. Give the employee 1.5 times the hourly rate for hours worked above 40 hours.\n",
    "\n",
    "For example, 45 hours of work with rate 20 euros/h, expected pay is 950 euros. For 30 hours of work with the same rate, expected pay is 600 euros.\n",
    "\n",
    "Write a docstring for the function.\n"
   ]
  },
  {
   "cell_type": "code",
   "execution_count": 18,
   "metadata": {},
   "outputs": [
    {
     "data": {
      "text/plain": [
       "950.0"
      ]
     },
     "execution_count": 18,
     "metadata": {},
     "output_type": "execute_result"
    }
   ],
   "source": [
    "def computepay(hour, rate):\n",
    "    if (hour > 40):\n",
    "        overTime = hour - 40\n",
    "        overTimePay = overTime * (rate * 1.5)\n",
    "        return overTimePay + ((hour - overTime) * rate)\n",
    "    else:\n",
    "        return hour * rate\n",
    "    \n",
    "computepay(45, 20)\n",
    "        "
   ]
  },
  {
   "attachments": {},
   "cell_type": "markdown",
   "metadata": {},
   "source": [
    "**Exercise 3.14**\n",
    "\n",
    "Write a Python function called `convert_temperature` that takes two parameters: `temperature` and `unit`. The `temperature` parameter represents a numerical value of the temperature, and the `unit` parameter represents the unit of the temperature, which can be either \"C\" for Celsius or \"F\" for Fahrenheit.\n",
    "\n",
    "Inside the function, use an if-else conditional to check the value of the unit parameter. If the unit is \"C\", calculate and return the temperature in Fahrenheit using the formula:\n",
    "\n",
    "$$Fahrenheit = (Celsius * 9/5) + 32$$\n",
    "\n",
    "If the unit is \"F\", calculate and return the temperature in Celsius using the formula:\n",
    "\n",
    "$$Celsius = (Fahrenheit - 32) * 5/9$$\n",
    "\n",
    "Example input/output\n",
    "- convert_temperature(25, 'C') -> 77\n",
    "- convert_temperature(32, 'F') -> 0\n",
    "- convert_temperature(212, 'F') -> 100\n",
    "\n",
    "Write a docstring for the function."
   ]
  },
  {
   "cell_type": "code",
   "execution_count": 21,
   "metadata": {},
   "outputs": [
    {
     "data": {
      "text/plain": [
       "100.0"
      ]
     },
     "execution_count": 21,
     "metadata": {},
     "output_type": "execute_result"
    }
   ],
   "source": [
    "def convert_temperature(temperature, unit):\n",
    "    if (unit == 'C'):\n",
    "        return (temperature * 9/5) + 32\n",
    "    elif (unit == \"F\"):\n",
    "        return (temperature - 32) * 5/9\n",
    "    \n",
    "convert_temperature(212, 'F')"
   ]
  },
  {
   "cell_type": "code",
   "execution_count": null,
   "metadata": {},
   "outputs": [],
   "source": []
  }
 ],
 "metadata": {
  "kernelspec": {
   "display_name": "ml",
   "language": "python",
   "name": "python3"
  },
  "language_info": {
   "codemirror_mode": {
    "name": "ipython",
    "version": 3
   },
   "file_extension": ".py",
   "mimetype": "text/x-python",
   "name": "python",
   "nbconvert_exporter": "python",
   "pygments_lexer": "ipython3",
   "version": "3.12.1"
  },
  "orig_nbformat": 4
 },
 "nbformat": 4,
 "nbformat_minor": 2
}
