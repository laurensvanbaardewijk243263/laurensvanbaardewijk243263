{
 "cells": [
  {
   "attachments": {},
   "cell_type": "markdown",
   "metadata": {},
   "source": [
    "# 4. Loops"
   ]
  },
  {
   "attachments": {},
   "cell_type": "markdown",
   "metadata": {},
   "source": [
    "Here is the table of contents for this notebook:\n",
    "\n",
    "- 4.1 Updating variables\n",
    "- 4.2 `while` loops\n",
    "- 4.3 Infinite loops\n",
    "- 4.4 `break` and `continue`\n",
    "- 4.5 `for` loops\n",
    "- 4.6 Loop patterns\n",
    "- 4.7 Nested loops\n",
    "- 4.8 Debugging\n",
    "- 4.9 Exercises"
   ]
  },
  {
   "attachments": {},
   "cell_type": "markdown",
   "metadata": {},
   "source": [
    "## 4.1 Updating variables"
   ]
  },
  {
   "attachments": {},
   "cell_type": "markdown",
   "metadata": {},
   "source": [
    "A common pattern in assignment statements is an assignment statement that updates a variable, where the new value of the variable depends on the old.\n",
    "\n",
    "`x = x + 1`\n",
    "\n",
    "This means “get the current value of `x`, add 1, and then update `x` with the new value.”\n",
    "\n",
    "If you try to update a variable that doesn’t exist, you get an error, because Python evaluates the right side before it assigns a value to `x`:"
   ]
  },
  {
   "cell_type": "code",
   "execution_count": null,
   "metadata": {},
   "outputs": [],
   "source": [
    "x = x + 1"
   ]
  },
  {
   "attachments": {},
   "cell_type": "markdown",
   "metadata": {},
   "source": [
    "Before you can update a variable, you have to initialize it, usually with a simple assignment:"
   ]
  },
  {
   "cell_type": "code",
   "execution_count": null,
   "metadata": {},
   "outputs": [],
   "source": [
    "x = 3\n",
    "x = x + 1\n",
    "print(x)"
   ]
  },
  {
   "attachments": {},
   "cell_type": "markdown",
   "metadata": {},
   "source": [
    "Updating a variable by adding 1 is called an increment; subtracting 1 is called a decrement."
   ]
  },
  {
   "attachments": {},
   "cell_type": "markdown",
   "metadata": {},
   "source": [
    "## 4.2 `while` loops"
   ]
  },
  {
   "attachments": {},
   "cell_type": "markdown",
   "metadata": {},
   "source": [
    "\n",
    "Computers are often used to automate repetitive tasks. Repeating identical or similar tasks without making errors is something that computers do well and people do poorly. Because iteration is so common, Python provides several language features to make it easier.\n",
    "\n",
    "One form of iteration in Python is the `while` statement. Here is a simple program that counts down from five and then says “Blastoff!”."
   ]
  },
  {
   "cell_type": "code",
   "execution_count": null,
   "metadata": {},
   "outputs": [],
   "source": [
    "n = 5\n",
    "while n > 0:\n",
    "    print(n)\n",
    "    n = n - 1\n",
    "print('Blastoff!')"
   ]
  },
  {
   "attachments": {},
   "cell_type": "markdown",
   "metadata": {},
   "source": [
    "You can almost read the `while` statement as if it were English. It means, “While `n` is greater than 0, display the value of `n` and then reduce the value of `n` by 1. When you get to 0, exit the `while` statement and display the word `Blastoff!`”\n",
    "\n",
    "More formally, here is the flow of execution for a `while` statement:\n",
    "\n",
    "1. Evaluate the condition, yielding `True` or `False`.\n",
    "\n",
    "2. If the condition is false, exit the `while` statement and continue execution at the next statement.\n",
    "\n",
    "3. If the condition is true, execute the body and then go back to step 1.\n",
    "\n",
    "This type of flow is called a _loop_ because the third step loops back around to the top. We call each time we execute the body of the loop an _iteration_. For the above loop, we would say, “It had five iterations”, which means that the body of the loop was executed five times.\n",
    "\n",
    "The body of the loop should change the value of one or more variables so that eventually the condition becomes false and the loop terminates. We call the variable that changes each time the loop executes and controls when the loop finishes the iteration variable. If there is no _iteration variable_, the loop will repeat forever, resulting in an _infinite loop_."
   ]
  },
  {
   "attachments": {},
   "cell_type": "markdown",
   "metadata": {},
   "source": [
    "**Exercise 4.1**\n",
    "\n",
    "Write a while loop that calculates the sum \n",
    "\n",
    "$$1+2+3+4+5$$\n",
    "\n",
    "Use the two variables `total` and `num_to_add` initialized for you. As the naming suggests, `total` will keep track of the sum after every iteration(1, 1+2, 1+2+3, 1+2+3+4, 1+2+3+4+5) until it reaches the final sum. And `num_to_add` holds the number to be added to the `total`.\n",
    "\n",
    "At first, `total=0` and `num_to_add=1`. Here is the table showing expected values of these variables **after** every iteration.\n",
    "\n",
    "|Iteration|`total`|`num_to_add`|\n",
    "|--|--|--|\n",
    "|1|1|2|\n",
    "|2|3|3|\n",
    "|3|6|4|\n",
    "|4|10|5|\n",
    "|5|15|6|\n",
    "\n",
    "After iteration 5, while condition should be false because `num_to_add` is 6 and we only want to calculate the sum up to 5. The code should exit the loop at this point and print the value of the variable `total` which is expected to be 15."
   ]
  },
  {
   "cell_type": "code",
   "execution_count": 3,
   "metadata": {},
   "outputs": [
    {
     "name": "stdout",
     "output_type": "stream",
     "text": [
      "15 6\n"
     ]
    }
   ],
   "source": [
    "total = 0\n",
    "num_to_add = 1\n",
    "\n",
    "while (num_to_add < 6):\n",
    "    total += num_to_add\n",
    "    num_to_add += 1\n",
    "\n",
    "print(total, num_to_add)"
   ]
  },
  {
   "attachments": {},
   "cell_type": "markdown",
   "metadata": {},
   "source": [
    "## 4.3 Infinite loops"
   ]
  },
  {
   "attachments": {},
   "cell_type": "markdown",
   "metadata": {},
   "source": [
    "![xkcd comic](https://imgs.xkcd.com/comics/drinking_fountains.png)\n",
    "\n",
    "An endless source of amusement for programmers is the observation that the directions on shampoo, “Lather, rinse, repeat,” are an infinite loop because there is no _iteration variable_ telling you how many times to execute the loop.\n",
    "\n",
    "In the previous example, we can prove that the loop terminates because we know that the value of `n` is finite, and we can see that the value of `n` gets smaller each time through the loop, so eventually we have to get to 0.\n",
    "\n",
    "However, this loop is an _infinite loop_ because the logical expression on the `while` statement is simply the logical constant `True`:\n",
    "\n",
    "```python\n",
    "# If you run this code, it will run infinitely.\n",
    "# You can only stop it manually\n",
    "n = 5\n",
    "while True:\n",
    "    print(n)\n",
    "    n = n - 1\n",
    "print('Done!')\n",
    "```"
   ]
  },
  {
   "cell_type": "code",
   "execution_count": null,
   "metadata": {},
   "outputs": [],
   "source": [
    "# If you want to try, give it a try :)"
   ]
  },
  {
   "attachments": {},
   "cell_type": "markdown",
   "metadata": {},
   "source": [
    "If you make the mistake write an infinite loop, you will learn quickly how to stop a runaway Python process on your system or find where the power-off button is on your computer. This program will run forever or until your battery runs out because the logical expression at the top of the loop is always true by virtue of the fact that the expression is the constant value `True`."
   ]
  },
  {
   "attachments": {},
   "cell_type": "markdown",
   "metadata": {},
   "source": [
    "## 4.4 `break` and `continue`"
   ]
  },
  {
   "attachments": {},
   "cell_type": "markdown",
   "metadata": {},
   "source": [
    "While an infinite loop is dysfunctional, we can still use this pattern to build useful loops as long as we carefully add code to the body of the loop to explicitly exit the loop using `break` when we have reached the exit condition."
   ]
  },
  {
   "cell_type": "code",
   "execution_count": null,
   "metadata": {},
   "outputs": [],
   "source": [
    "n = 5\n",
    "while True:\n",
    "    print(n)\n",
    "    n = n - 1\n",
    "    if n == 0: # checking for exit condition\n",
    "        break # stops the loop\n",
    "print('Done!')"
   ]
  },
  {
   "cell_type": "code",
   "execution_count": null,
   "metadata": {},
   "outputs": [],
   "source": [
    "# If we use the break statement without if statement\n",
    "# It will stop the loop after one iteration\n",
    "\n",
    "n = 5\n",
    "while True:\n",
    "    print(n)\n",
    "    n = n - 1\n",
    "    break\n",
    "print('Done!')"
   ]
  },
  {
   "attachments": {},
   "cell_type": "markdown",
   "metadata": {},
   "source": [
    "Sometimes you are in an iteration of a loop and want to finish the current iteration and immediately jump to the next iteration. In that case you can use the `continue` statement to skip to the next iteration, without running the code that comes after the `continue` statement.\n",
    "\n",
    "Let's go back to our very first loop:"
   ]
  },
  {
   "cell_type": "code",
   "execution_count": null,
   "metadata": {},
   "outputs": [],
   "source": [
    "n = 5\n",
    "while n > 0:\n",
    "    print(n)\n",
    "    n = n - 1\n",
    "print('Blastoff!')"
   ]
  },
  {
   "attachments": {},
   "cell_type": "markdown",
   "metadata": {},
   "source": [
    "Let's say we would like to print only odd numbers. We can do it using `continue` as follows:"
   ]
  },
  {
   "cell_type": "code",
   "execution_count": null,
   "metadata": {},
   "outputs": [],
   "source": [
    "n = 5\n",
    "while n > 0:\n",
    "    if n % 2 == 0: # if n is even\n",
    "        n = n - 1 # decrement by 1\n",
    "        continue # go back to the start of the loop\n",
    "    print(n)\n",
    "    n = n - 1\n",
    "print('Blastoff!')"
   ]
  },
  {
   "attachments": {},
   "cell_type": "markdown",
   "metadata": {},
   "source": [
    "There are other ways to do it, we used `continue` for demonstration. Here is the same task without `continue`:"
   ]
  },
  {
   "cell_type": "code",
   "execution_count": null,
   "metadata": {},
   "outputs": [],
   "source": [
    "n = 5\n",
    "while n > 0:\n",
    "    if n % 2 == 1: # if n is odd\n",
    "        print(n)\n",
    "    n = n - 1\n",
    "print('Blastoff!')"
   ]
  },
  {
   "attachments": {},
   "cell_type": "markdown",
   "metadata": {},
   "source": [
    "**Exercise 4.2**\n",
    "\n",
    "There is one more way to achieve the above task. Can you find it? You don't need `if`, `break` or `continue`.\n",
    "\n",
    "You just need to modify a single line of the original code\n",
    "\n",
    "```\n",
    "n = 5\n",
    "while n > 0:\n",
    "    print(n)\n",
    "    n = n - 1\n",
    "print('Blastoff!')\n",
    "```"
   ]
  },
  {
   "cell_type": "code",
   "execution_count": 4,
   "metadata": {},
   "outputs": [
    {
     "name": "stdout",
     "output_type": "stream",
     "text": [
      "5\n",
      "4\n",
      "3\n",
      "2\n",
      "1\n",
      "Blastoff!\n"
     ]
    }
   ],
   "source": [
    "n = 5\n",
    "\n",
    "while n > 0:\n",
    "    print(n)\n",
    "    n = n - 1\n",
    "\n",
    "print('Blastoff!')"
   ]
  },
  {
   "attachments": {},
   "cell_type": "markdown",
   "metadata": {},
   "source": [
    "## 4.5 `for` loops"
   ]
  },
  {
   "attachments": {},
   "cell_type": "markdown",
   "metadata": {},
   "source": [
    "Sometimes we want to loop through a _set_ of things such as a list of words, the lines in a file, or a list of numbers. When we have a list of things to loop through, we can construct a _definite_ loop using a `for` statement. We call the `while` statement an _indefinite_ loop because it simply loops until some condition becomes `False`, whereas the `for` loop is looping through a known set of items so it runs through as many iterations as there are items in the set.\n",
    "\n",
    "The syntax of a `for` loop is similar to the `while` loop in that there is a `for` statement and a loop body."
   ]
  },
  {
   "cell_type": "code",
   "execution_count": null,
   "metadata": {},
   "outputs": [],
   "source": [
    "friends = ['Joseph', 'Glenn', 'Sally']\n",
    "for friend in friends:\n",
    "    print('Happy New Year:', friend)\n",
    "print('Done!')"
   ]
  },
  {
   "attachments": {},
   "cell_type": "markdown",
   "metadata": {},
   "source": [
    "In Python terms, the variable _friends_ is a list of three strings and the `for` loop goes through the list and executes the body once for each of the three strings in the list.\n",
    "\n",
    "We can translate this `for` loop to English as follows:\n",
    "\n",
    "“Run the statements in the body of the `for` loop once for each **friend** `in` the sequence named **friends**.”\n",
    "\n",
    "Looking at the `for` loop, `for` and `in` are reserved Python keywords, and friend and friends are variables.\n",
    "\n",
    "```python\n",
    "for friend in friends:\n",
    "    print('Happy New Year:', friend)\n",
    "```\n",
    "\n",
    "In particular, `friend` is the _iteration variable_ for the `for` loop. The variable `friend` changes for each iteration of the loop and controls when the `for` loop completes. The _iteration variable_ steps successively through the three strings stored in the `friends` variable."
   ]
  },
  {
   "attachments": {},
   "cell_type": "markdown",
   "metadata": {},
   "source": [
    "**Exercise 4.3**\n",
    "\n",
    "Write a `for` loop to print the square of each element in the list `[3, 0, 10, -5]`.\n",
    "\n",
    "Expected answer:\n",
    "\n",
    "```\n",
    "9\n",
    "0\n",
    "100\n",
    "25\n",
    "```"
   ]
  },
  {
   "cell_type": "code",
   "execution_count": 6,
   "metadata": {},
   "outputs": [
    {
     "name": "stdout",
     "output_type": "stream",
     "text": [
      "9\n",
      "0\n",
      "100\n",
      "25\n"
     ]
    }
   ],
   "source": [
    "elements = [3, 0, 10, -5]\n",
    "\n",
    "for number in elements:\n",
    "    print(number * number)"
   ]
  },
  {
   "cell_type": "markdown",
   "metadata": {},
   "source": [
    "**Exercise 4.4**\n",
    "\n",
    "Write a `for` loop that counts the number of items in the list given below:\n"
   ]
  },
  {
   "cell_type": "code",
   "execution_count": 8,
   "metadata": {},
   "outputs": [
    {
     "name": "stdout",
     "output_type": "stream",
     "text": [
      "Count:  6\n"
     ]
    }
   ],
   "source": [
    "count = 0\n",
    "\n",
    "for itervar in [3, 41, 12, 9, 74, 15]:\n",
    "    count += 1\n",
    "\n",
    "print('Count: ', count)"
   ]
  },
  {
   "attachments": {},
   "cell_type": "markdown",
   "metadata": {},
   "source": [
    "## 4.6 Loop patterns"
   ]
  },
  {
   "attachments": {},
   "cell_type": "markdown",
   "metadata": {},
   "source": [
    "Often we use a `for` or `while` loop to go through a list of items or the contents of a file and we are looking for something such as the largest or smallest value of the data we scan through.\n",
    "\n",
    "These loops are generally constructed by:\n",
    "\n",
    "- Initializing one or more variables before the loop starts\n",
    "\n",
    "- Performing some computation on each item in the loop body, possibly changing the variables in the body of the loop\n",
    "\n",
    "- Looking at the resulting variables when the loop completes\n",
    "\n",
    "We will use a list of numbers to demonstrate the concepts and construction of these loop patterns."
   ]
  },
  {
   "attachments": {},
   "cell_type": "markdown",
   "metadata": {},
   "source": [
    "### Counting and summing loops"
   ]
  },
  {
   "attachments": {},
   "cell_type": "markdown",
   "metadata": {},
   "source": [
    "For example, to count the number of items in a list, we would write the following for loop:"
   ]
  },
  {
   "cell_type": "code",
   "execution_count": null,
   "metadata": {},
   "outputs": [],
   "source": [
    "count = 0\n",
    "for itervar in [3, 41, 12, 9, 74, 15]:\n",
    "    count = count + 1\n",
    "print('Count: ', count)"
   ]
  },
  {
   "attachments": {},
   "cell_type": "markdown",
   "metadata": {},
   "source": [
    "We set the variable `count` to zero before the loop starts, then we write a `for` loop to run through the list of numbers. Our _iteration_ variable is named `itervar` and while we do not use `itervar` in the loop, it does control the loop and cause the loop body to be executed once for each of the values in the list.\n",
    "\n",
    "In the body of the loop, we add 1 to the current value of `count` for each of the values in the list. While the loop is executing, the value of `count` is the number of values we have seen “so far”.\n",
    "\n",
    "Once the loop completes, the value of `count` is the total number of items. We construct the loop so that we have what we want when the loop finishes.\n",
    "\n",
    "Another similar loop that computes the total of a set of numbers is as follows:"
   ]
  },
  {
   "cell_type": "code",
   "execution_count": null,
   "metadata": {},
   "outputs": [],
   "source": [
    "total = 0\n",
    "for itervar in [3, 41, 12, 9, 74, 15]:\n",
    "    total = total + itervar\n",
    "print('Total: ', total)"
   ]
  },
  {
   "attachments": {},
   "cell_type": "markdown",
   "metadata": {},
   "source": [
    "In this loop we _do_ use the _iteration variable_. Instead of simply adding one to the `count` as in the previous loop, we add the actual number (3, 41, 12, etc.) to the running `total` during each loop iteration. If you think about the variable total, it contains the “running total of the values so far”. So before the loop starts `total` is zero because we have not yet seen any values, during the loop `total` is the running total, and at the end of the loop `total` is the overall total of all the values in the list.\n",
    "\n",
    "As the loop executes, `total` accumulates the sum of the elements; a variable used this way is sometimes called an _accumulator_.\n",
    "\n",
    "Neither the counting loop nor the summing loop are particularly useful in practice because there are built-in functions `len()` and `sum()` that compute the number of items in a list and the total of the items in the list respectively.\n",
    "\n",
    "Nevertheless, it is important to understand and practice these loop patterns because when things get complicated/custom, there won't be any built-in function you can rely on. Your understanding of these loop patterns will help you write your own patterns.\n",
    "\n"
   ]
  },
  {
   "cell_type": "markdown",
   "metadata": {},
   "source": [
    "**Exercise 4.5**"
   ]
  },
  {
   "cell_type": "code",
   "execution_count": 10,
   "metadata": {},
   "outputs": [
    {
     "name": "stdout",
     "output_type": "stream",
     "text": [
      "Total:  68\n"
     ]
    }
   ],
   "source": [
    "# Modify this loop such that it finds the sum of odd numbers in the list.\n",
    "# Expected answer is 68\n",
    "total = 0\n",
    "\n",
    "for itervar in [3, 41, 12, 9, 74, 15]:\n",
    "    if (itervar % 2 != 0):\n",
    "        total = total + itervar\n",
    "\n",
    "print('Total: ', total)"
   ]
  },
  {
   "attachments": {},
   "cell_type": "markdown",
   "metadata": {},
   "source": [
    "### Maximum and minimum loops"
   ]
  },
  {
   "attachments": {},
   "cell_type": "markdown",
   "metadata": {},
   "source": [
    "To find the largest value in a list, we construct the following loop:"
   ]
  },
  {
   "cell_type": "code",
   "execution_count": null,
   "metadata": {},
   "outputs": [],
   "source": [
    "largest = None\n",
    "print('Before:', largest)\n",
    "for itervar in [3, 41, 12, 9, 74, 15]:\n",
    "    if largest is None or itervar > largest :\n",
    "        largest = itervar\n",
    "    print('Inside the loop:', largest)\n",
    "print('After:', largest)"
   ]
  },
  {
   "attachments": {},
   "cell_type": "markdown",
   "metadata": {},
   "source": [
    "The variable `largest` is best thought of as the “largest value we have seen so far”. Before the loop, we set `largest` to the constant `None`. `None` is a special constant value which we can store in a variable to mark the variable as “empty”.\n",
    "\n",
    "Before the loop starts, the largest value we have seen so far is `None` since we have not yet seen any values. While the loop is executing, if `largest` is `None` then we take the first value we see as the largest so far. You can see in the first iteration when the value of `itervar` is 3, since `largest` is `None`, we immediately set `largest` to be 3.\n",
    "\n",
    "After the first iteration, `largest` is no longer `None`, so the second part of the compound logical expression that checks `itervar > largest` triggers only when we see a value that is larger than the “largest so far”. When we see a new “even larger” value we take that new value for `largest`. You can see in the program output that `largest` progresses from 3 to 41 to 74.\n",
    "\n",
    "At the end of the loop, we have scanned all of the values and the variable `largest` now does contain the largest value in the list."
   ]
  },
  {
   "cell_type": "markdown",
   "metadata": {},
   "source": [
    "**Exercise 4.6**\n",
    "\n",
    "Write a function to find the _smallest_ value in a list:"
   ]
  },
  {
   "cell_type": "code",
   "execution_count": 26,
   "metadata": {},
   "outputs": [],
   "source": [
    "def my_min_function(values):\n",
    "    smallest = values[0]\n",
    "    \n",
    "    for number in values:\n",
    "        if number < smallest:\n",
    "            smallest = number\n",
    "\n",
    "    return smallest"
   ]
  },
  {
   "attachments": {},
   "cell_type": "markdown",
   "metadata": {},
   "source": [
    "Again as in counting and summing, the built-in functions `max()` and `min()` make writing these exact loops unnecessary. But it is important to practice these patterns, because it will help you write more complex patterns where no built-in function exists."
   ]
  },
  {
   "cell_type": "code",
   "execution_count": 27,
   "metadata": {},
   "outputs": [
    {
     "data": {
      "text/plain": [
       "3"
      ]
     },
     "execution_count": 27,
     "metadata": {},
     "output_type": "execute_result"
    }
   ],
   "source": [
    "# Your function\n",
    "my_min_function([100, 3, 47, 32])"
   ]
  },
  {
   "cell_type": "code",
   "execution_count": 13,
   "metadata": {},
   "outputs": [
    {
     "data": {
      "text/plain": [
       "3"
      ]
     },
     "execution_count": 13,
     "metadata": {},
     "output_type": "execute_result"
    }
   ],
   "source": [
    "# Built-in python function\n",
    "min([100, 3, 47, 32])"
   ]
  },
  {
   "attachments": {},
   "cell_type": "markdown",
   "metadata": {},
   "source": [
    "**Exercise 4.7**\n",
    "\n",
    "Write a `for` loop that counts the negative numbers in a given list. The expected output below is 3."
   ]
  },
  {
   "cell_type": "code",
   "execution_count": 28,
   "metadata": {},
   "outputs": [
    {
     "name": "stdout",
     "output_type": "stream",
     "text": [
      "3\n"
     ]
    }
   ],
   "source": [
    "negative_count = 0\n",
    "\n",
    "for item in [-1, 5, 3, 0, -100, -7, 15]:\n",
    "    if (item < 0):\n",
    "        negative_count += 1\n",
    "\n",
    "print(negative_count)"
   ]
  },
  {
   "attachments": {},
   "cell_type": "markdown",
   "metadata": {},
   "source": [
    "## 4.7 Nested loops"
   ]
  },
  {
   "attachments": {},
   "cell_type": "markdown",
   "metadata": {},
   "source": [
    "You have seen nested conditionals previously. Similarly you can have nested loops. We will use `for` loops to explain this concept but it can work with `while` loops too.\n",
    "\n",
    "Nested `for` loops are used when we want to iterate over multiple sequences or perform repeated iterations within another iteration. The inner loop is executed for each iteration of the outer loop, allowing us to perform more complex tasks."
   ]
  },
  {
   "cell_type": "code",
   "execution_count": null,
   "metadata": {},
   "outputs": [],
   "source": [
    "for letter in ['a', 'b', 'c']: # outer loop\n",
    "    for number in [1, 2, 3]: # inner loop\n",
    "        print(letter, number)"
   ]
  },
  {
   "attachments": {},
   "cell_type": "markdown",
   "metadata": {},
   "source": [
    "The above code starts the iteration with the outer loop where `letter` is `'a'`, goes into the inner loop, where `number` is 1. Finishes the inner loop until `number` is `3`. Once the inner loop finishes, code goes to the next item in the outer loop `'b'`, and so on.\n",
    "\n",
    "Look what happens if we switch the inner and outer loop, keeping the print statement the same:"
   ]
  },
  {
   "cell_type": "code",
   "execution_count": null,
   "metadata": {},
   "outputs": [],
   "source": [
    "for number in [1, 2, 3]: # outer loop\n",
    "    for letter in ['a', 'b', 'c']: # inner loop\n",
    "        print(letter, number)"
   ]
  },
  {
   "cell_type": "markdown",
   "metadata": {},
   "source": [
    "**Exercise 4.8**\n",
    "\n",
    "Print 36 possible pairs you can get by rolling 2 dice with 6 faces, by using two nested for loops. It should look like this:\n",
    "\n",
    "```\n",
    "1 1\n",
    "1 2\n",
    "1 3\n",
    "1 4\n",
    "1 5\n",
    "1 6\n",
    "2 1\n",
    "2 2\n",
    "2 3\n",
    "2 4\n",
    "2 5\n",
    "2 6\n",
    "3 1\n",
    "3 2\n",
    "3 3\n",
    "...\n",
    "6 2\n",
    "6 3\n",
    "6 4\n",
    "6 5\n",
    "6 6\n",
    "```"
   ]
  },
  {
   "cell_type": "code",
   "execution_count": 29,
   "metadata": {},
   "outputs": [
    {
     "name": "stdout",
     "output_type": "stream",
     "text": [
      "1 1\n",
      "1 2\n",
      "1 3\n",
      "1 4\n",
      "1 5\n",
      "1 6\n",
      "2 1\n",
      "2 2\n",
      "2 3\n",
      "2 4\n",
      "2 5\n",
      "2 6\n",
      "3 1\n",
      "3 2\n",
      "3 3\n",
      "3 4\n",
      "3 5\n",
      "3 6\n",
      "4 1\n",
      "4 2\n",
      "4 3\n",
      "4 4\n",
      "4 5\n",
      "4 6\n",
      "5 1\n",
      "5 2\n",
      "5 3\n",
      "5 4\n",
      "5 5\n",
      "5 6\n",
      "6 1\n",
      "6 2\n",
      "6 3\n",
      "6 4\n",
      "6 5\n",
      "6 6\n"
     ]
    }
   ],
   "source": [
    "diceNumbers = [1, 2, 3, 4, 5, 6]\n",
    "\n",
    "for dice1 in diceNumbers:\n",
    "    for dice2 in diceNumbers:\n",
    "        print(dice1, dice2)"
   ]
  },
  {
   "attachments": {},
   "cell_type": "markdown",
   "metadata": {},
   "source": [
    "## 4.8 Debugging"
   ]
  },
  {
   "attachments": {},
   "cell_type": "markdown",
   "metadata": {},
   "source": [
    "As you start writing bigger programs, you might find yourself spending more time debugging. More code means more chances to make an error and more places for bugs to hide.\n",
    "\n",
    "One way to cut your debugging time is “debugging by bisection.” For example, if there are 100 lines in your program and you check them one at a time, it would take 100 steps.\n",
    "\n",
    "Instead, try to break the problem in half. Look at the middle of the program, or near it, for an intermediate value you can check. Add a `print` statement (or something else that has a verifiable effect) and run the program.\n",
    "\n",
    "If the mid-point check is incorrect, the problem must be in the first half of the program. If it is correct, the problem is in the second half.\n",
    "\n",
    "Every time you perform a check like this, you halve the number of lines you have to search. After six steps (which is much less than 100), you would be down to one or two lines of code, at least in theory.\n",
    "\n",
    "In practice it is not always clear what the “middle of the program” is and not always possible to check it. It doesn’t make sense to count lines and find the exact midpoint. Instead, think about places in the program where there might be errors and places where it is easy to put a check. Then choose a spot where you think the chances are about the same that the bug is before or after the check.\n",
    "\n"
   ]
  },
  {
   "attachments": {},
   "cell_type": "markdown",
   "metadata": {},
   "source": [
    "## 4.9 Exercises"
   ]
  },
  {
   "attachments": {},
   "cell_type": "markdown",
   "metadata": {},
   "source": [
    "**Exercise 4.9**\n",
    "\n",
    "Write a function that, given a list of integers, returns `True` if a negative integer exists in the list `False` otherwise.\n",
    "\n",
    "A few input/output examples:\n",
    "\n",
    "- check_negative([1, 2, 3]) → False\n",
    "- check_negative([1, 2, 0]) → False\n",
    "- check_negative([1, 2, -3]) → True\n",
    "- check_negative([-1, 2, -3, -4]) → True\n",
    "\n",
    "Use a `for` loop to solve this exercise."
   ]
  },
  {
   "cell_type": "code",
   "execution_count": 37,
   "metadata": {},
   "outputs": [],
   "source": [
    "def check_negative(arr):\n",
    "    output = None\n",
    "    \n",
    "    for number in arr:\n",
    "        if number < 0:\n",
    "            output = True\n",
    "            break\n",
    "        \n",
    "        output = False\n",
    "\n",
    "    return output"
   ]
  },
  {
   "attachments": {},
   "cell_type": "markdown",
   "metadata": {},
   "source": [
    "Test it with the examples above to make sure it works."
   ]
  },
  {
   "cell_type": "code",
   "execution_count": 38,
   "metadata": {},
   "outputs": [
    {
     "data": {
      "text/plain": [
       "True"
      ]
     },
     "execution_count": 38,
     "metadata": {},
     "output_type": "execute_result"
    }
   ],
   "source": [
    "# Test\n",
    "check_negative([-1, 2, -3, -4])"
   ]
  },
  {
   "attachments": {},
   "cell_type": "markdown",
   "metadata": {},
   "source": [
    "**Exercise 4.10**\n",
    "\n",
    "Write a function that, given a list of integers, returns `True` if one (or more) of the _first 4 elements_ in the list is a negative integer. The array length may be less than 4.\n",
    "\n",
    "A few input/output examples:\n",
    "\n",
    "- negative_in_first_four([1, 2, -1, 3, 4]) → True\n",
    "- negative_in_first_four([1, 2, 3, 4, -1]) → False\n",
    "- negative_in_first_four([1, 2, 3, 4, 5]) → False\n",
    "- negative_in_first_four([1, 2]) → False\n",
    "- negative_in_first_four([1, -9]) → True"
   ]
  },
  {
   "cell_type": "code",
   "execution_count": 39,
   "metadata": {},
   "outputs": [],
   "source": [
    "def negative_in_first_four(arr):\n",
    "    output = None\n",
    "\n",
    "    for number in arr[:4]:\n",
    "        if number < 0:\n",
    "            output = True\n",
    "            break\n",
    "\n",
    "        output = False\n",
    "\n",
    "    return output"
   ]
  },
  {
   "attachments": {},
   "cell_type": "markdown",
   "metadata": {},
   "source": [
    "Test it with the examples above to make sure it works."
   ]
  },
  {
   "cell_type": "code",
   "execution_count": 42,
   "metadata": {},
   "outputs": [
    {
     "data": {
      "text/plain": [
       "False"
      ]
     },
     "execution_count": 42,
     "metadata": {},
     "output_type": "execute_result"
    }
   ],
   "source": [
    "# Test\n",
    "negative_in_first_four([1, 2, 3, 4, -1])"
   ]
  },
  {
   "attachments": {},
   "cell_type": "markdown",
   "metadata": {},
   "source": [
    "**Exercise 4.11**\n",
    "\n",
    "Write a function called `roll_prob`, that calculates the probability of getting any given total from a two six-sided dice roll. Use the nested for loops you wrote in Exercise 4.8 as a starting point.\n",
    "\n",
    "- roll_prob(2) -> 0.0278 (=1/36)\n",
    "- roll_prob(12) -> 0.0278 (=1/36)\n",
    "- roll_prob(6) -> 0.1389 (=5/36)\n",
    "- roll_prob(1) -> 0\n",
    "- roll_prob(13) -> 0\n"
   ]
  },
  {
   "cell_type": "code",
   "execution_count": 56,
   "metadata": {},
   "outputs": [],
   "source": [
    "def roll_prob(total):\n",
    "    if total < 2 or total > 12:\n",
    "        return 0\n",
    "\n",
    "    result = 0\n",
    "    favourable_outcomes = 0\n",
    "    \n",
    "    for dice1 in diceNumbers:\n",
    "        for dice2 in diceNumbers:\n",
    "            if dice1 + dice2 == total:\n",
    "                favourable_outcomes += 1\n",
    "\n",
    "    total_outcomes = 6 * 6\n",
    "\n",
    "    result = favourable_outcomes / total_outcomes    \n",
    "\n",
    "    return result"
   ]
  },
  {
   "cell_type": "code",
   "execution_count": 57,
   "metadata": {},
   "outputs": [
    {
     "data": {
      "text/plain": [
       "0.027777777777777776"
      ]
     },
     "execution_count": 57,
     "metadata": {},
     "output_type": "execute_result"
    }
   ],
   "source": [
    "roll_prob(2)"
   ]
  }
 ],
 "metadata": {
  "kernelspec": {
   "display_name": "ml",
   "language": "python",
   "name": "python3"
  },
  "language_info": {
   "codemirror_mode": {
    "name": "ipython",
    "version": 3
   },
   "file_extension": ".py",
   "mimetype": "text/x-python",
   "name": "python",
   "nbconvert_exporter": "python",
   "pygments_lexer": "ipython3",
   "version": "3.12.1"
  },
  "orig_nbformat": 4
 },
 "nbformat": 4,
 "nbformat_minor": 2
}
