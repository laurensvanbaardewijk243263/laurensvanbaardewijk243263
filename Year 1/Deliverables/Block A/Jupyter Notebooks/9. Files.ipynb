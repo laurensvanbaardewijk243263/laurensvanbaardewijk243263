{
 "cells": [
  {
   "attachments": {},
   "cell_type": "markdown",
   "metadata": {},
   "source": [
    "# 9. Files"
   ]
  },
  {
   "attachments": {},
   "cell_type": "markdown",
   "metadata": {},
   "source": [
    "Here is the table of contents for this notebook:\n",
    "\n",
    "- 9.1 Opening files\n",
    "- 9.2 Text files and lines\n",
    "- 9.3 Reading files\n",
    "- 9.4 Writing files\n",
    "- 9.5 The `pathlib` module\n",
    "- 9.6 Exercises\n"
   ]
  },
  {
   "attachments": {},
   "cell_type": "markdown",
   "metadata": {},
   "source": [
    "## 9.1 Opening files"
   ]
  },
  {
   "attachments": {},
   "cell_type": "markdown",
   "metadata": {},
   "source": [
    "When we want to read or write a file, we first must _open_ the file. Opening the file communicates with your operating system, which knows where the data for each file is stored. When you open a file, you are asking the operating system to find the file by name and make sure the file exists. In this example, we open the file `data.csv`, which should be stored in the same folder as this Jupyter Notebook."
   ]
  },
  {
   "cell_type": "code",
   "execution_count": 1,
   "metadata": {},
   "outputs": [],
   "source": [
    "fhand = open('data.csv')"
   ]
  },
  {
   "cell_type": "code",
   "execution_count": 2,
   "metadata": {},
   "outputs": [
    {
     "name": "stdout",
     "output_type": "stream",
     "text": [
      "<_io.TextIOWrapper name='data.csv' mode='r' encoding='cp1252'>\n"
     ]
    }
   ],
   "source": [
    "print(fhand)"
   ]
  },
  {
   "attachments": {},
   "cell_type": "markdown",
   "metadata": {},
   "source": [
    "If the `open` is successful, the operating system returns us a _file handle_. The file handle is not the actual data contained in the file, but instead it is a “handle” that we can use to read the data. You are given a handle if the requested file exists and you have the proper permissions to read the file.\n",
    "\n",
    "If the file does not exist, `open` will fail with a traceback and you will not get a handle to access the contents of the file:"
   ]
  },
  {
   "cell_type": "code",
   "execution_count": null,
   "metadata": {},
   "outputs": [],
   "source": [
    "fhand = open('stuff.txt')"
   ]
  },
  {
   "attachments": {},
   "cell_type": "markdown",
   "metadata": {},
   "source": [
    "**Exercise 9.1**\n",
    "\n",
    "Open a text file (.txt or .csv) from your computer."
   ]
  },
  {
   "cell_type": "code",
   "execution_count": 3,
   "metadata": {},
   "outputs": [
    {
     "data": {
      "text/plain": [
       "<_io.TextIOWrapper name='data.csv' mode='r' encoding='cp1252'>"
      ]
     },
     "execution_count": 3,
     "metadata": {},
     "output_type": "execute_result"
    }
   ],
   "source": [
    "open('data.csv')"
   ]
  },
  {
   "attachments": {},
   "cell_type": "markdown",
   "metadata": {},
   "source": [
    "## 9.2 Text files and lines"
   ]
  },
  {
   "attachments": {},
   "cell_type": "markdown",
   "metadata": {},
   "source": [
    "A text file can be thought of as a sequence of lines, much like a Python string can be thought of as a sequence of characters.\n",
    "\n",
    "To break the file into lines, there is a special character that represents the “end of the line” called the _newline_ character.\n",
    "\n",
    "In Python, we represent the _newline_ character as a backslash-n in string constants. Even though this looks like two characters, it is actually a single character. When we look at the variable by entering “stuff” in the interpreter, it shows us the `\\n` in the string, but when we use `print` to show the string, we see the string broken into two lines by the newline character."
   ]
  },
  {
   "cell_type": "code",
   "execution_count": null,
   "metadata": {},
   "outputs": [],
   "source": [
    "some_string = 'X\\nY'\n",
    "print(some_string)"
   ]
  },
  {
   "attachments": {},
   "cell_type": "markdown",
   "metadata": {},
   "source": [
    "You can also see that the length of the string `X\\nY` is three characters because the newline character is a single character."
   ]
  },
  {
   "cell_type": "code",
   "execution_count": null,
   "metadata": {},
   "outputs": [],
   "source": [
    "len(some_string)"
   ]
  },
  {
   "attachments": {},
   "cell_type": "markdown",
   "metadata": {},
   "source": [
    "So when we look at the lines in a file, we need to _imagine_ that there is a special invisible character called the newline at the end of each line that marks the end of the line.\n",
    "\n",
    "So the newline character separates the characters in the file into lines."
   ]
  },
  {
   "attachments": {},
   "cell_type": "markdown",
   "metadata": {},
   "source": [
    "## 9.3 Reading files"
   ]
  },
  {
   "attachments": {},
   "cell_type": "markdown",
   "metadata": {},
   "source": [
    "While the _file handle_ does not contain the data for the file, it is quite easy to construct a `for` loop to read through and `print` each line:"
   ]
  },
  {
   "cell_type": "code",
   "execution_count": null,
   "metadata": {},
   "outputs": [],
   "source": [
    "fhand = open('data.csv')\n",
    "for line in fhand:\n",
    "    print(line)"
   ]
  },
  {
   "attachments": {},
   "cell_type": "markdown",
   "metadata": {},
   "source": [
    "The reason that the `open` function does not read the entire file is that the file might be quite large with many gigabytes of data. The `open` statement takes the same amount of time regardless of the size of the file. The `for` loop actually causes the data to be read from the file.\n",
    "\n",
    "When the file is read using a `for` loop in this manner, Python takes care of splitting the data in the file into separate lines using the newline character."
   ]
  },
  {
   "attachments": {},
   "cell_type": "markdown",
   "metadata": {},
   "source": [
    "**Exercise 9.2**\n",
    "\n",
    "Count the number of lines in the file. `data.csv` has 91 lines."
   ]
  },
  {
   "cell_type": "code",
   "execution_count": 30,
   "metadata": {},
   "outputs": [
    {
     "name": "stdout",
     "output_type": "stream",
     "text": [
      "asantaatnasa\n",
      "<class 'str'> <class 'str'>\n"
     ]
    },
    {
     "data": {
      "text/plain": [
       "False"
      ]
     },
     "execution_count": 30,
     "metadata": {},
     "output_type": "execute_result"
    }
   ],
   "source": [
    "file = open('data.csv')\n",
    "\n",
    "totalLines = 0\n",
    "\n",
    "for line in file:\n",
    "    totalLines += 1\n",
    "\n",
    "print(totalLines)"
   ]
  },
  {
   "cell_type": "markdown",
   "metadata": {},
   "source": [
    "**Exercise 9.3**\n",
    "\n",
    "Considering this code:\n",
    "\n",
    "```\n",
    "fhand = open('data.csv')\n",
    "for line in fhand:\n",
    "    print(line)\n",
    "```\n",
    "\n",
    "Does `line` contain `\\n` at the end?\n",
    "\n",
    "Test it for the first line and the last line."
   ]
  },
  {
   "cell_type": "code",
   "execution_count": 25,
   "metadata": {},
   "outputs": [
    {
     "name": "stdout",
     "output_type": "stream",
     "text": [
      "Yes, it exists in line 1\n"
     ]
    }
   ],
   "source": [
    "fhand = list(open('data.csv'))\n",
    "\n",
    "for index, line in enumerate(fhand):\n",
    "    if index == 0 or index == len(fhand) -1:\n",
    "        if '\\n' in line:\n",
    "            print('Yes, it exists in line', index + 1)"
   ]
  },
  {
   "attachments": {},
   "cell_type": "markdown",
   "metadata": {},
   "source": [
    "Since the `for` loop reads the data one line at a time, it can efficiently read and count the lines in very large files without running out of main memory to store the data. The above program can count the lines in any size file using very little memory since each line is read, counted, and then discarded.\n",
    "\n",
    "If you know the file is relatively small compared to the size of your main memory, you can read the whole file into one string using the `read` method on the file handle."
   ]
  },
  {
   "cell_type": "code",
   "execution_count": null,
   "metadata": {},
   "outputs": [],
   "source": [
    "fhand = open('data.csv')\n",
    "file = fhand.read()"
   ]
  },
  {
   "cell_type": "code",
   "execution_count": null,
   "metadata": {},
   "outputs": [],
   "source": [
    "len(file)"
   ]
  },
  {
   "attachments": {},
   "cell_type": "markdown",
   "metadata": {},
   "source": [
    "In this example, the entire content of the file is read directly into the variable `file`. Let's use string slicing to show the first 60 characters of the string data stored in `file`. Note that this time, you can see the `\\n` character."
   ]
  },
  {
   "cell_type": "code",
   "execution_count": null,
   "metadata": {},
   "outputs": [],
   "source": [
    "file[0:60]"
   ]
  },
  {
   "attachments": {},
   "cell_type": "markdown",
   "metadata": {},
   "source": [
    "When the file is read in this manner, all the characters including all of the lines and newline characters are one big string in the variable `file`. It is a good idea to store the output of read as a variable because each call to read exhausts the resource:"
   ]
  },
  {
   "cell_type": "code",
   "execution_count": 26,
   "metadata": {},
   "outputs": [
    {
     "name": "stdout",
     "output_type": "stream",
     "text": [
      "2565\n",
      "0\n"
     ]
    }
   ],
   "source": [
    "fhand = open('data.csv')\n",
    "print(len(fhand.read()))\n",
    "print(len(fhand.read()))"
   ]
  },
  {
   "attachments": {},
   "cell_type": "markdown",
   "metadata": {},
   "source": [
    "Remember that this form of the `open` function should only be used if the file data will fit comfortably in the main memory of your computer. If the file is too large to fit in main memory, you should write your program to read the file in chunks using a `for` or `while` loop."
   ]
  },
  {
   "cell_type": "markdown",
   "metadata": {},
   "source": [
    "**Exercise 9.4**\n",
    "\n",
    "What is `\\ufeff` at the begginning of `file[0:60]`?"
   ]
  },
  {
   "attachments": {},
   "cell_type": "markdown",
   "metadata": {},
   "source": [
    "## 9.4 Writing files"
   ]
  },
  {
   "attachments": {},
   "cell_type": "markdown",
   "metadata": {},
   "source": [
    "To write a file, you have to open it with mode “w” as a second parameter:"
   ]
  },
  {
   "cell_type": "code",
   "execution_count": 27,
   "metadata": {},
   "outputs": [
    {
     "name": "stdout",
     "output_type": "stream",
     "text": [
      "<_io.TextIOWrapper name='output.txt' mode='w' encoding='cp1252'>\n"
     ]
    }
   ],
   "source": [
    "f_out = open('output.txt', 'w')\n",
    "print(f_out)"
   ]
  },
  {
   "attachments": {},
   "cell_type": "markdown",
   "metadata": {},
   "source": [
    "If the file already exists, opening it in write mode clears out the old data and starts fresh, so be careful! If the file doesn’t exist, a new one is created.\n",
    "\n",
    "The `write` method of the file handle object puts data into the file, returning the number of characters written. The default write mode is text for writing (and reading) strings."
   ]
  },
  {
   "cell_type": "code",
   "execution_count": null,
   "metadata": {},
   "outputs": [],
   "source": [
    "line1 = \"This here's the wattle,\\n\"\n",
    "f_out.write(line1)"
   ]
  },
  {
   "attachments": {},
   "cell_type": "markdown",
   "metadata": {},
   "source": [
    "Again, the file object keeps track of where it is, so if you call `write` again, it adds the new data to the end.\n",
    "\n",
    "We must make sure to manage the ends of lines as we write to the file by explicitly inserting the newline character when we want to end a line. The `write` method does not add the newline automatically."
   ]
  },
  {
   "cell_type": "code",
   "execution_count": null,
   "metadata": {},
   "outputs": [],
   "source": [
    "line2 = 'the emblem of our land.\\n'\n",
    "f_out.write(line2)"
   ]
  },
  {
   "attachments": {},
   "cell_type": "markdown",
   "metadata": {},
   "source": [
    "When you are done writing, you have to close the file to make sure that the last bit of data is physically written to the disk so it will not be lost if the power goes off."
   ]
  },
  {
   "cell_type": "code",
   "execution_count": null,
   "metadata": {},
   "outputs": [],
   "source": [
    "f_out.close()"
   ]
  },
  {
   "attachments": {},
   "cell_type": "markdown",
   "metadata": {},
   "source": [
    "It is good practice to close the files which we open to only read, but Python makes sure that all open files are closed when the program ends. When we are writing files, we want to explicitly close the files so as to leave nothing to chance."
   ]
  },
  {
   "attachments": {},
   "cell_type": "markdown",
   "metadata": {},
   "source": [
    "## 9.5 The `pathlib` module"
   ]
  },
  {
   "attachments": {},
   "cell_type": "markdown",
   "metadata": {},
   "source": [
    "So far we have used the file name to read/write files (e.g. `data.csv`). This was possible because this notebook and the file are located in the same folder. You will encounter many situations where you would like to access files in different folders. This will require working with a _path_.\n",
    "\n",
    "Path from Wikipedia:\n",
    "\n",
    ">A path is a string of characters used to uniquely identify a location in a directory structure. It is composed by following the directory tree hierarchy in which components, separated by a delimiting character, represent each directory. The delimiting character is most commonly the slash (\"/\"), the backslash character (\"\\\"), or colon (\":\"), though some operating systems may use a different delimiter. Paths are used extensively in computer science to represent the directory/file relationships common in modern operating systems and are essential in the construction of Uniform Resource Locators (URLs). Resources can be represented by either absolute or relative paths.\n",
    "\n",
    "Absolute and relative paths from Wikipedia:\n",
    "\n",
    ">An absolute or full path points to the same location in a file system, regardless of the current working directory. To do that, it must include the root directory.\n",
    "\n",
    ">By contrast, a relative path starts from some given working directory, avoiding the need to provide the full absolute path. A filename can be considered as a relative path based at the current working directory. If the working directory is not the file's parent directory, a file not found error will result if the file is addressed by its name.\n",
    "\n",
    "The `pathlib` module in Python provides convenient and intuitive way to handle file and directory paths. It can also handle differences between operating systems when it comes to how paths are written (e.g. \\ vs /)\n",
    "\n",
    "The main class in the `pathlib` module is `Path`. You can create a `Path` object by instantiating it with a string representing a file or directory path.\n",
    "\n",
    "Here's an example:"
   ]
  },
  {
   "cell_type": "code",
   "execution_count": 28,
   "metadata": {},
   "outputs": [],
   "source": [
    "from pathlib import Path\n",
    "\n",
    "path = Path('data.csv')"
   ]
  },
  {
   "attachments": {},
   "cell_type": "markdown",
   "metadata": {},
   "source": [
    "The `Path` object provides various methods and attributes to manipulate and inspect paths. Some of the commonly used ones include:"
   ]
  },
  {
   "cell_type": "code",
   "execution_count": 29,
   "metadata": {},
   "outputs": [
    {
     "data": {
      "text/plain": [
       "True"
      ]
     },
     "execution_count": 29,
     "metadata": {},
     "output_type": "execute_result"
    }
   ],
   "source": [
    "path.exists() # Returns `True` if the path exists on the file system."
   ]
  },
  {
   "cell_type": "code",
   "execution_count": 30,
   "metadata": {},
   "outputs": [
    {
     "data": {
      "text/plain": [
       "True"
      ]
     },
     "execution_count": 30,
     "metadata": {},
     "output_type": "execute_result"
    }
   ],
   "source": [
    "path.is_file() # Returns `True` if the path points to a regular file."
   ]
  },
  {
   "cell_type": "code",
   "execution_count": 31,
   "metadata": {},
   "outputs": [
    {
     "data": {
      "text/plain": [
       "False"
      ]
     },
     "execution_count": 31,
     "metadata": {},
     "output_type": "execute_result"
    }
   ],
   "source": [
    "path.is_dir() # Returns `True` if the path points to a directory."
   ]
  },
  {
   "cell_type": "code",
   "execution_count": 32,
   "metadata": {},
   "outputs": [
    {
     "data": {
      "text/plain": [
       "'.csv'"
      ]
     },
     "execution_count": 32,
     "metadata": {},
     "output_type": "execute_result"
    }
   ],
   "source": [
    "path.suffix # Returns the file extension."
   ]
  },
  {
   "attachments": {},
   "cell_type": "markdown",
   "metadata": {},
   "source": [
    "Let's assume that we have a folder called `example_folder` in the same directory as your Jupyter notebook, and it contains two csv files `data1.csv` and `data2.csv`.\n",
    "\n",
    "If you run the following code\n",
    "\n",
    "```python\n",
    "path = Path('example_folder')\n",
    "path.is_dir()\n",
    "```\n",
    "\n",
    "it will return, `True`.\n",
    "\n",
    "We can iterate the directory simply with the `iterdir` method:\n",
    "\n",
    "```python\n",
    "for file_path in path.iterdir():\n",
    "    print(file_path)\n",
    "```\n",
    "\n",
    "which will print\n",
    "\n",
    "```\n",
    "example_folder/data2.csv\n",
    "example_folder/data1.csv\n",
    "```\n",
    "\n",
    "\n",
    "\n"
   ]
  },
  {
   "cell_type": "markdown",
   "metadata": {},
   "source": [
    "**Exercise 9.5**\n",
    "\n",
    "Select any folder on your computer with some files in it in and list its contents."
   ]
  },
  {
   "cell_type": "code",
   "execution_count": 34,
   "metadata": {},
   "outputs": [
    {
     "name": "stdout",
     "output_type": "stream",
     "text": [
      "Test\\data.csv\n"
     ]
    }
   ],
   "source": [
    "path = Path('Test')\n",
    "\n",
    "for file_path in path.iterdir():\n",
    "    print(file_path)"
   ]
  },
  {
   "attachments": {},
   "cell_type": "markdown",
   "metadata": {},
   "source": [
    "The `pathlib` module also supports various operations such as copying, moving, deleting, and creating files or directories. These operations can be performed using the `Path` object's methods.\n",
    "\n",
    "Overall, the `pathlib` module provides an elegant and cross-platform way to handle file paths in Python, making it easier to write and maintain file system operations."
   ]
  },
  {
   "attachments": {},
   "cell_type": "markdown",
   "metadata": {},
   "source": [
    "Read the documentation if you would like to learn more\n",
    "\n",
    "https://docs.python.org/3/library/pathlib.html"
   ]
  },
  {
   "attachments": {},
   "cell_type": "markdown",
   "metadata": {},
   "source": [
    "### 🐍 Advanced 🐍\n",
    "\n",
    "As mentioned previously, the Python Standard Library contains many different modules. `os`, `shutil`, and `glob` are used widely for file and directory access. Take a look at their documentation if you want to learn more.\n",
    "\n",
    "https://docs.python.org/3/library/filesys.html"
   ]
  },
  {
   "attachments": {},
   "cell_type": "markdown",
   "metadata": {},
   "source": [
    "## 9.6 Exercises"
   ]
  },
  {
   "attachments": {},
   "cell_type": "markdown",
   "metadata": {},
   "source": [
    "**Exercise 9.6**\n",
    "\n",
    "Find a small .txt or .csv file, print all lines. Use the `pathlib` module."
   ]
  },
  {
   "cell_type": "code",
   "execution_count": 40,
   "metadata": {},
   "outputs": [
    {
     "name": "stdout",
     "output_type": "stream",
     "text": [
      "ï»¿indicator;geoareaname;timeperiod;value\n",
      "\n",
      "7.1.2;Bhutan;2015;52\n",
      "\n",
      "7.1.2;France;2000;>95\n",
      "\n",
      "7.1.2;Malaysia;2005;>95\n",
      "\n",
      "7.1.2;San Marino;2000;>95\n",
      "\n",
      "7.1.2;Grenada;2016;>95\n",
      "\n",
      "7.1.2;Brunei Darussalam;2005;>95\n",
      "\n",
      "7.1.2;Georgia;2005;54\n",
      "\n",
      "7.1.2;Cambodia;2005;7\n",
      "\n",
      "7.1.2;Brunei Darussalam;2016;>95\n",
      "\n",
      "7.1.2;Gabon;2016;79\n",
      "\n",
      "7.1.2;Central and Southern Asia;2000;25\n",
      "\n",
      "7.1.2;Myanmar;2015;17\n",
      "\n",
      "7.1.2;Egypt;2005;92\n",
      "\n",
      "7.1.2;Rwanda;2005;<5\n",
      "\n",
      "7.1.2;Zambia;2000;14\n",
      "\n",
      "7.1.2;Sweden;2000;>95\n",
      "\n",
      "7.1.2;Malawi;2016;<5\n",
      "\n",
      "7.1.2;Namibia;2015;41\n",
      "\n",
      "7.1.2;Ukraine;2010;94\n",
      "\n",
      "7.1.2;Trinidad and Tobago;2000;>95\n",
      "\n",
      "7.1.2;Northern America;2005;>95\n",
      "\n",
      "7.1.2;Ghana;2005;9\n",
      "\n",
      "7.1.2;Estonia;2000;79\n",
      "\n",
      "7.1.2;Romania;2005;74\n",
      "\n",
      "7.1.2;Developed regions (Europe, Cyprus, Israel, Northern America, Japan, Australia & New Zealand);2016;>95\n",
      "\n",
      "7.1.2;Nicaragua;2015;51\n",
      "\n",
      "7.1.2;Mauritius;2005;90\n",
      "\n",
      "7.1.2;Oman;2000;85\n",
      "\n",
      "7.1.2;Panama;2016;89\n",
      "\n",
      "7.1.2;France;2016;>95\n",
      "\n",
      "7.1.2;Western Asia (exc. Armenia, Azerbaijan, Cyprus, Israel and Georgia);2016;91\n",
      "\n",
      "7.1.2;Singapore;2010;>95\n",
      "\n",
      "7.1.2;Nigeria;2016;<5\n",
      "\n",
      "7.1.2;Marshall Islands;2016;65\n",
      "\n",
      "7.1.2;Guinea;2010;<5\n",
      "\n",
      "7.1.2;Lithuania;2016;>95\n",
      "\n",
      "7.1.2;Kuwait;2010;>95\n",
      "\n",
      "7.1.2;Mauritania;2005;35\n",
      "\n",
      "7.1.2;United States of America;2005;>95\n",
      "\n",
      "7.1.2;Niger;2000;<5\n",
      "\n",
      "7.1.2;Malta;2010;>95\n",
      "\n",
      "7.1.2;Philippines;2000;36\n",
      "\n",
      "7.1.2;Slovenia;2015;>95\n",
      "\n",
      "7.1.2;Hungary;2015;>95\n",
      "\n",
      "7.1.2;Gabon;2000;59\n",
      "\n",
      "7.1.2;Myanmar;2000;<5\n",
      "\n",
      "7.1.2;Oman;2016;>95\n",
      "\n",
      "7.1.2;Iran (Islamic Republic of);2005;94\n",
      "\n",
      "7.1.2;Democratic People's Republic of Korea;2010;7\n",
      "\n",
      "7.1.2;Cameroon;2005;14\n",
      "\n",
      "7.1.2;Micronesia (Federated States of);2015;12\n",
      "\n",
      "7.1.2;Ecuador;2016;>95\n",
      "\n",
      "7.1.2;Japan;2005;>95\n",
      "\n",
      "7.1.2;Northern America;2016;>95\n",
      "\n",
      "7.1.2;Indonesia;2016;58\n",
      "\n",
      "7.1.2;South Africa;2005;68\n",
      "\n",
      "7.1.2;The former Yugoslav Republic of Macedonia;2000;44\n",
      "\n",
      "7.1.2;Germany;2000;>95\n",
      "\n",
      "7.1.2;Saint Vincent and the Grenadines;2015;>95\n",
      "\n",
      "7.1.2;Palau;2016;87\n",
      "\n",
      "7.1.2;Sierra Leone;2000;<5\n",
      "\n",
      "7.1.2;Lesotho;2005;24\n",
      "\n",
      "7.1.2;Caucasus and Central Asia;2016;91\n",
      "\n",
      "7.1.2;Nicaragua;2010;46\n",
      "\n",
      "7.1.2;Developing regions;2015;50\n",
      "\n",
      "7.1.2;Cuba;2016;79\n",
      "\n",
      "7.1.2;Iceland;2000;>95\n",
      "\n",
      "7.1.2;South Sudan;2015;<5\n",
      "\n",
      "7.1.2;Djibouti;2016;12\n",
      "\n",
      "7.1.2;Portugal;2005;>95\n",
      "\n",
      "7.1.2;Madagascar;2010;<5\n",
      "\n",
      "7.1.2;Netherlands;2016;>95\n",
      "\n",
      "7.1.2;Suriname;2016;90\n",
      "\n",
      "7.1.2;Chad;2015;<5\n",
      "\n",
      "7.1.2;El Salvador;2000;57\n",
      "\n",
      "7.1.2;Papua New Guinea;2015;13\n",
      "\n",
      "7.1.2;Saint Lucia;2000;86\n",
      "\n",
      "7.1.2;Caucasus and Central Asia;2005;81\n",
      "\n",
      "7.1.2;United Kingdom of Great Britain and Northern Ireland;2000;>95\n",
      "\n",
      "7.1.2;Denmark;2016;>95\n",
      "\n",
      "7.1.2;Bosnia and Herzegovina;2016;63\n",
      "\n",
      "7.1.2;Niue;2015;92\n",
      "\n",
      "7.1.2;Maldives;2005;65\n",
      "\n",
      "7.1.2;World;2005;53\n",
      "\n",
      "7.1.2;Croatia;2010;90\n",
      "\n",
      "7.1.2;San Marino;2010;>95\n",
      "\n",
      "7.1.2;Malaysia;2000;95\n",
      "\n",
      "7.1.2;Nicaragua;2005;40\n",
      "\n",
      "7.1.2;Paraguay;2016;66\n",
      "\n",
      "7.1.2;Southern Asia;2015;40\n"
     ]
    }
   ],
   "source": [
    "filePath = Path('Test/data.csv')\n",
    "\n",
    "for line in filePath.open('r'):\n",
    "    print(line)"
   ]
  }
 ],
 "metadata": {
  "kernelspec": {
   "display_name": "Python 3",
   "language": "python",
   "name": "python3"
  },
  "language_info": {
   "codemirror_mode": {
    "name": "ipython",
    "version": 3
   },
   "file_extension": ".py",
   "mimetype": "text/x-python",
   "name": "python",
   "nbconvert_exporter": "python",
   "pygments_lexer": "ipython3",
   "version": "3.12.1"
  },
  "orig_nbformat": 4
 },
 "nbformat": 4,
 "nbformat_minor": 2
}
